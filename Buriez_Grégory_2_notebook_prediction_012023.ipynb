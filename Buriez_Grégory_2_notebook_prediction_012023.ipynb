{
 "cells": [
  {
   "cell_type": "markdown",
   "id": "3c457d32",
   "metadata": {},
   "source": [
    "# PROJET 4 : Anticipez les besoins en consommation de bâtiments"
   ]
  },
  {
   "cell_type": "markdown",
   "id": "1063fdea",
   "metadata": {},
   "source": [
    "Vous travaillez pour la ville de Seattle. Pour atteindre son objectif de ville neutre en émissions de carbone en 2050, votre équipe s’intéresse de près à la consommation et aux émissions des bâtiments non destinés à l’habitation.\n",
    "\n",
    "\n",
    "Des relevés minutieux ont été effectués par les agents de la ville en 2016. Voici les données et leur source. Cependant, ces relevés sont coûteux à obtenir, et à partir de ceux déjà réalisés, vous voulez tenter de prédire les émissions de CO2 et la consommation totale d’énergie de bâtiments non destinés à l’habitation pour lesquels elles n’ont pas encore été mesurées.\n",
    "\n",
    "Votre prédiction se basera sur les données structurelles des bâtiments (taille et usage des bâtiments, date de construction, situation géographique, ...)\n",
    "\n",
    "Vous cherchez également à évaluer l’intérêt de l’\"ENERGY STAR Score\" pour la prédiction d’émissions, qui est fastidieux à calculer avec l’approche utilisée actuellement par votre équipe. Vous l'intégrerez dans la modélisation et jugerez de son intérêt.\n",
    "\n",
    "Vous sortez tout juste d’une réunion de brief avec votre équipe. Voici un récapitulatif de votre mission :\n",
    "\n",
    "Réaliser une courte analyse exploratoire.\n",
    "Tester différents modèles de prédiction afin de répondre au mieux à la problématique.\n",
    "Avant de quitter la salle de brief, Douglas, le project lead, vous donne quelques pistes et erreurs à éviter :\n",
    "\n",
    "\"\"Douglas : L’objectif est de te passer des relevés de consommation annuels futurs (attention à la fuite de données). Nous ferons de toute façon pour tout nouveau bâtiment un premier relevé de référence la première année, donc rien ne t'interdit d’en déduire des variables structurelles aux bâtiments, par exemple la nature et proportions des sources d’énergie utilisées.. \n",
    "\n",
    "Fais bien attention au traitement des différentes variables, à la fois pour trouver de nouvelles informations (peut-on déduire des choses intéressantes d’une simple adresse ?) et optimiser les performances en appliquant des transformations simples aux variables (normalisation, passage au log, etc.).\n",
    "\n",
    "Mets en place une évaluation rigoureuse des performances de la régression, et optimise les hyperparamètres et le choix d’algorithmes de ML à l’aide d’une validation croisée.\"\""
   ]
  },
  {
   "cell_type": "markdown",
   "id": "7d76a6be",
   "metadata": {},
   "source": [
    "# Sommaire\n",
    "\n",
    "## I. Importation des données\n",
    "\n",
    "### 1. Importation des bibliothèques\n",
    "### 2. Importation du fichier\n",
    "\n",
    "## II. Préparation du jeu de données\n",
    "\n",
    "### 1. Séparation du jeu de données\n",
    "### 2. Encodage et standardisation\n",
    "\n",
    "\n",
    "## III. Modélisation\n",
    "\n",
    "### 1. Régression Linéaire\n",
    "###     Analyse des régulateurs\n",
    "##### a. Regression Ridge\n",
    "##### b. Lasso\n",
    "##### c Elastic Net\n",
    "\n",
    "### 2. Arbre de décisions\n",
    "\n",
    "### 3. XGBoost\n",
    "\n",
    "### 4. Random Forest\n",
    "\n",
    "\n",
    "\n",
    "## IV. Analyse des modélisations\n",
    "\n",
    "###  Analyse des résultats\n",
    "\n",
    "\n",
    "\n",
    "## V. Optimisation des modèles\n",
    "\n",
    "### 1. Cross Validation\n",
    "### 2. GridSearch CV\n",
    "### 3. Analyse de l'apport des variables sur nos modèles"
   ]
  },
  {
   "cell_type": "markdown",
   "id": "86a02967",
   "metadata": {},
   "source": [
    "# "
   ]
  },
  {
   "cell_type": "markdown",
   "id": "c488c481",
   "metadata": {},
   "source": [
    "## I. Importation des données"
   ]
  },
  {
   "cell_type": "markdown",
   "id": "01c784f9",
   "metadata": {},
   "source": [
    "### 1. Importation des bibliothèques"
   ]
  },
  {
   "cell_type": "code",
   "execution_count": 1,
   "id": "340e408c",
   "metadata": {},
   "outputs": [],
   "source": [
    "# Importation bibliothèque\n",
    "\n",
    "import numpy as np\n",
    "import pandas as pd\n",
    "import matplotlib.pyplot as plt\n",
    "import seaborn as sns\n",
    "import missingno as msno\n",
    "import time\n",
    "import shap\n",
    "import warnings\n",
    "warnings.filterwarnings('ignore')\n",
    "\n",
    "\n",
    "# Preprocessing\n",
    "from sklearn.preprocessing import StandardScaler, OneHotEncoder,OrdinalEncoder\n",
    "from sklearn.pipeline import Pipeline\n",
    "from sklearn.compose import ColumnTransformer\n",
    "from sklearn.feature_selection import VarianceThreshold\n",
    "\n",
    "\n",
    "# Séparation du jeu de données\n",
    "from sklearn.model_selection import train_test_split\n",
    "\n",
    "# Modélisation\n",
    "from sklearn.linear_model import LinearRegression\n",
    "from sklearn import linear_model\n",
    "\n",
    "from sklearn import tree\n",
    "from sklearn.tree import DecisionTreeRegressor\n",
    "from sklearn.tree import plot_tree\n",
    "\n",
    "from sklearn.ensemble import GradientBoostingRegressor\n",
    "\n",
    "from sklearn.svm import SVR\n",
    "from sklearn.svm import SVC\n",
    "\n",
    "from sklearn.ensemble import RandomForestRegressor\n",
    "from sklearn.compose import TransformedTargetRegressor\n",
    "\n",
    "# Mesures de performances\n",
    "from sklearn.metrics import *\n",
    "from sklearn import metrics\n",
    "from sklearn.metrics import r2_score \n",
    "from sklearn.metrics import mean_squared_error\n",
    "\n",
    "# Tests avec un régulateur pour la Régression Linéaire\n",
    "from sklearn.linear_model import Ridge\n",
    "from sklearn.linear_model import Lasso\n",
    "from sklearn.linear_model import ElasticNet\n",
    "\n",
    "# Optimisation du modèle\n",
    "from sklearn.model_selection import cross_val_score\n",
    "from sklearn.model_selection import validation_curve\n",
    "from sklearn.model_selection import GridSearchCV\n",
    "\n",
    "\n"
   ]
  },
  {
   "cell_type": "code",
   "execution_count": 2,
   "id": "ec063820",
   "metadata": {},
   "outputs": [],
   "source": [
    "start = time.perf_counter()\n",
    "\n",
    "end = time.perf_counter()"
   ]
  },
  {
   "cell_type": "markdown",
   "id": "ca8d4efc",
   "metadata": {},
   "source": [
    "# "
   ]
  },
  {
   "cell_type": "markdown",
   "id": "058b6b25",
   "metadata": {},
   "source": [
    "### 2. Importation du fichier"
   ]
  },
  {
   "cell_type": "code",
   "execution_count": 3,
   "id": "3c6160eb",
   "metadata": {},
   "outputs": [],
   "source": [
    "data = pd.read_csv('data_clean_final.csv')\n"
   ]
  },
  {
   "cell_type": "markdown",
   "id": "b102ad7e",
   "metadata": {},
   "source": [
    "Dans le cadre de notre première modélisation, nous allons effectuer le premier modèle sans le EnergyStarScore.\n",
    "Nous allons supprimer la colonne puis supprimer les lignes manquantes"
   ]
  },
  {
   "cell_type": "code",
   "execution_count": 4,
   "id": "5f55dcb5",
   "metadata": {},
   "outputs": [],
   "source": [
    "#sauvegarde séparée du energy star score\n",
    "energy_star = data[['ENERGYSTARScore']]\n",
    "data.drop(columns = ['ENERGYSTARScore', 'SiteEUIWN(kBtu/sf)', 'SourceEUIWN(kBtu/sf)',\n",
    "                   'SteamUse(kBtu)', 'Electricity(kBtu)', 'NaturalGas(kBtu)'], inplace=True)"
   ]
  },
  {
   "cell_type": "code",
   "execution_count": 5,
   "id": "338d8a9b",
   "metadata": {},
   "outputs": [
    {
     "data": {
      "text/plain": [
       "NumberofBuildings         0\n",
       "NumberofFloors            0\n",
       "Neighborhood              0\n",
       "PropertyGFAParking        0\n",
       "%_stream                  0\n",
       "BuildingType              0\n",
       "PrimaryPropertyType       0\n",
       "GHGEmissionsIntensity     0\n",
       "Age_batiment              0\n",
       "%_elec                    0\n",
       "%_gaz                     0\n",
       "PropertyGFATotal          0\n",
       "PropertyGFABuilding(s)    0\n",
       "SiteEnergyUse(kBtu)       0\n",
       "TotalGHGEmissions         0\n",
       "dtype: int64"
      ]
     },
     "execution_count": 5,
     "metadata": {},
     "output_type": "execute_result"
    }
   ],
   "source": [
    "data.isnull().sum()"
   ]
  },
  {
   "cell_type": "code",
   "execution_count": 6,
   "id": "4c49232a",
   "metadata": {},
   "outputs": [
    {
     "data": {
      "text/plain": [
       "NumberofBuildings         float64\n",
       "NumberofFloors            float64\n",
       "Neighborhood               object\n",
       "PropertyGFAParking        float64\n",
       "%_stream                  float64\n",
       "BuildingType               object\n",
       "PrimaryPropertyType        object\n",
       "GHGEmissionsIntensity     float64\n",
       "Age_batiment                int64\n",
       "%_elec                    float64\n",
       "%_gaz                     float64\n",
       "PropertyGFATotal          float64\n",
       "PropertyGFABuilding(s)    float64\n",
       "SiteEnergyUse(kBtu)       float64\n",
       "TotalGHGEmissions         float64\n",
       "dtype: object"
      ]
     },
     "execution_count": 6,
     "metadata": {},
     "output_type": "execute_result"
    }
   ],
   "source": [
    "data.dtypes"
   ]
  },
  {
   "cell_type": "code",
   "execution_count": null,
   "id": "efcd301f",
   "metadata": {},
   "outputs": [],
   "source": []
  },
  {
   "cell_type": "code",
   "execution_count": null,
   "id": "f69c9c43",
   "metadata": {},
   "outputs": [],
   "source": []
  },
  {
   "cell_type": "markdown",
   "id": "319fbfaa",
   "metadata": {},
   "source": [
    "# "
   ]
  },
  {
   "cell_type": "markdown",
   "id": "7c9bf835",
   "metadata": {},
   "source": [
    "## II. Préparation du jeu de données"
   ]
  },
  {
   "cell_type": "markdown",
   "id": "079b154d",
   "metadata": {},
   "source": [
    "### 1. Séparation du jeu de données"
   ]
  },
  {
   "cell_type": "code",
   "execution_count": 7,
   "id": "3179d59c",
   "metadata": {},
   "outputs": [
    {
     "data": {
      "text/plain": [
       "'Données entrainements : '"
      ]
     },
     "metadata": {},
     "output_type": "display_data"
    },
    {
     "data": {
      "text/plain": [
       "(1207, 12)"
      ]
     },
     "metadata": {},
     "output_type": "display_data"
    },
    {
     "data": {
      "text/plain": [
       "(403, 12)"
      ]
     },
     "metadata": {},
     "output_type": "display_data"
    },
    {
     "data": {
      "text/plain": [
       "'Données de test'"
      ]
     },
     "metadata": {},
     "output_type": "display_data"
    },
    {
     "data": {
      "text/plain": [
       "(1207,)"
      ]
     },
     "metadata": {},
     "output_type": "display_data"
    },
    {
     "data": {
      "text/plain": [
       "(403,)"
      ]
     },
     "metadata": {},
     "output_type": "display_data"
    }
   ],
   "source": [
    "# Création du train_test_split\n",
    "\n",
    "y = data['SiteEnergyUse(kBtu)']\n",
    "X = data.drop(['SiteEnergyUse(kBtu)','GHGEmissionsIntensity', 'TotalGHGEmissions'], axis=1)\n",
    "\n",
    "\n",
    "X_train, X_test, y_train, y_test = train_test_split(X, y, test_size = 0.25, random_state = 100)\n",
    "\n",
    "display('Données entrainements : ',X_train.shape, X_test.shape)\n",
    "display('Données de test',y_train.shape, y_test.shape)"
   ]
  },
  {
   "cell_type": "code",
   "execution_count": null,
   "id": "ef12b056",
   "metadata": {},
   "outputs": [],
   "source": []
  },
  {
   "cell_type": "code",
   "execution_count": null,
   "id": "e711770a",
   "metadata": {},
   "outputs": [],
   "source": []
  },
  {
   "cell_type": "markdown",
   "id": "b0e4d9a0",
   "metadata": {},
   "source": [
    "# "
   ]
  },
  {
   "cell_type": "markdown",
   "id": "9b0e75c5",
   "metadata": {},
   "source": [
    "### 2. Encodage et standardisation"
   ]
  },
  {
   "cell_type": "code",
   "execution_count": 8,
   "id": "1fa3a91d",
   "metadata": {},
   "outputs": [],
   "source": [
    "# Sélection des variables qualitatives et quantitatives\n",
    "\n",
    "numeric = X_train.select_dtypes(['float64', 'int64']).columns\n",
    "normalisation=StandardScaler()\n",
    "\n",
    "# Utilisation du OneHot    \n",
    "categ=X_train.select_dtypes('object').columns\n",
    "OneHot=OneHotEncoder(handle_unknown='ignore',sparse=False)\n",
    "\n",
    "\n",
    "preprocessor = ColumnTransformer(transformers=[ ('num', normalisation, numeric),\n",
    "                                                ('cat', OneHot, categ)])"
   ]
  },
  {
   "cell_type": "code",
   "execution_count": 9,
   "id": "5a3ece53",
   "metadata": {},
   "outputs": [],
   "source": [
    "# Apprentissage de l'encodage et transformation des données d'entrainement\n",
    "X_train=preprocessor.fit_transform(X_train)\n",
    "\n",
    "# Récupération des noms des variables encodeés\n",
    "encoded_names=numeric.to_list()\n",
    "encoded_Cat_names=preprocessor.named_transformers_['cat'].get_feature_names(categ).tolist()\n",
    "encoded_names.extend(encoded_Cat_names)"
   ]
  },
  {
   "cell_type": "code",
   "execution_count": 10,
   "id": "50fa1da9",
   "metadata": {},
   "outputs": [],
   "source": [
    "# Application du transformer déjà entrainé sur les données de test\n",
    "X_test= preprocessor.transform(X_test)"
   ]
  },
  {
   "cell_type": "code",
   "execution_count": 11,
   "id": "52cc3384",
   "metadata": {},
   "outputs": [],
   "source": [
    "# création des data frame contenant les jeux encodés\n",
    "encoded_X_train=pd.DataFrame(X_train,columns=encoded_names)\n",
    "encoded_X_test=pd.DataFrame(X_test,columns=encoded_names)"
   ]
  },
  {
   "cell_type": "code",
   "execution_count": 12,
   "id": "b51f3978",
   "metadata": {},
   "outputs": [
    {
     "data": {
      "text/plain": [
       "{'%_gaz',\n",
       " 'BuildingType_Nonresidential COS',\n",
       " 'PrimaryPropertyType_School',\n",
       " 'PropertyGFABuilding(s)'}"
      ]
     },
     "execution_count": 12,
     "metadata": {},
     "output_type": "execute_result"
    }
   ],
   "source": [
    "# creating set to hold the correlated features\n",
    "corr_features = set()\n",
    "\n",
    "# create the correlation matrix (default to pearson)\n",
    "corr_matrix = encoded_X_train.corr()\n",
    "\n",
    "# optional: display a heatmap of the correlation matrix\n",
    "# plt.figure(figsize=(11,11))\n",
    "# sns.heatmap(corr_matrix)\n",
    "\n",
    "for i in range(len(corr_matrix .columns)):\n",
    "    for j in range(i):\n",
    "        if abs(corr_matrix.iloc[i, j]) > 0.70:  #0.90 pour memoire essai à 0.80\n",
    "            colname = corr_matrix.columns[i]\n",
    "            corr_features.add(colname)\n",
    "            \n",
    "corr_features"
   ]
  },
  {
   "cell_type": "code",
   "execution_count": 13,
   "id": "34085b9c",
   "metadata": {},
   "outputs": [],
   "source": [
    "\n",
    "encoded_X_train.drop(labels=corr_features, axis=1, inplace=True)\n",
    "encoded_X_test.drop(labels=corr_features, axis=1, inplace=True)"
   ]
  },
  {
   "cell_type": "code",
   "execution_count": 14,
   "id": "3b8260e5",
   "metadata": {},
   "outputs": [
    {
     "data": {
      "text/html": [
       "<div>\n",
       "<style scoped>\n",
       "    .dataframe tbody tr th:only-of-type {\n",
       "        vertical-align: middle;\n",
       "    }\n",
       "\n",
       "    .dataframe tbody tr th {\n",
       "        vertical-align: top;\n",
       "    }\n",
       "\n",
       "    .dataframe thead th {\n",
       "        text-align: right;\n",
       "    }\n",
       "</style>\n",
       "<table border=\"1\" class=\"dataframe\">\n",
       "  <thead>\n",
       "    <tr style=\"text-align: right;\">\n",
       "      <th></th>\n",
       "      <th>NumberofBuildings</th>\n",
       "      <th>NumberofFloors</th>\n",
       "      <th>PropertyGFAParking</th>\n",
       "      <th>%_stream</th>\n",
       "      <th>Age_batiment</th>\n",
       "      <th>%_elec</th>\n",
       "      <th>PropertyGFATotal</th>\n",
       "      <th>Neighborhood_BALLARD</th>\n",
       "      <th>Neighborhood_CENTRAL</th>\n",
       "      <th>Neighborhood_DELRIDGE</th>\n",
       "      <th>...</th>\n",
       "      <th>BuildingType_NonResidential</th>\n",
       "      <th>BuildingType_SPS-District K-12</th>\n",
       "      <th>PrimaryPropertyType_Hotel</th>\n",
       "      <th>PrimaryPropertyType_Medical Center</th>\n",
       "      <th>PrimaryPropertyType_Mixed Use Property</th>\n",
       "      <th>PrimaryPropertyType_Office</th>\n",
       "      <th>PrimaryPropertyType_Other</th>\n",
       "      <th>PrimaryPropertyType_Store</th>\n",
       "      <th>PrimaryPropertyType_University</th>\n",
       "      <th>PrimaryPropertyType_Warehouse</th>\n",
       "    </tr>\n",
       "  </thead>\n",
       "  <tbody>\n",
       "    <tr>\n",
       "      <th>0</th>\n",
       "      <td>-0.119315</td>\n",
       "      <td>2.925536</td>\n",
       "      <td>2.388477</td>\n",
       "      <td>-0.21906</td>\n",
       "      <td>-1.142976</td>\n",
       "      <td>0.729951</td>\n",
       "      <td>2.698065</td>\n",
       "      <td>0.0</td>\n",
       "      <td>0.0</td>\n",
       "      <td>0.0</td>\n",
       "      <td>...</td>\n",
       "      <td>1.0</td>\n",
       "      <td>0.0</td>\n",
       "      <td>0.0</td>\n",
       "      <td>0.0</td>\n",
       "      <td>0.0</td>\n",
       "      <td>1.0</td>\n",
       "      <td>0.0</td>\n",
       "      <td>0.0</td>\n",
       "      <td>0.0</td>\n",
       "      <td>0.0</td>\n",
       "    </tr>\n",
       "    <tr>\n",
       "      <th>1</th>\n",
       "      <td>-0.119315</td>\n",
       "      <td>3.845430</td>\n",
       "      <td>2.383877</td>\n",
       "      <td>-0.21906</td>\n",
       "      <td>-0.570814</td>\n",
       "      <td>1.106593</td>\n",
       "      <td>2.698065</td>\n",
       "      <td>0.0</td>\n",
       "      <td>0.0</td>\n",
       "      <td>0.0</td>\n",
       "      <td>...</td>\n",
       "      <td>1.0</td>\n",
       "      <td>0.0</td>\n",
       "      <td>0.0</td>\n",
       "      <td>0.0</td>\n",
       "      <td>0.0</td>\n",
       "      <td>1.0</td>\n",
       "      <td>0.0</td>\n",
       "      <td>0.0</td>\n",
       "      <td>0.0</td>\n",
       "      <td>0.0</td>\n",
       "    </tr>\n",
       "    <tr>\n",
       "      <th>2</th>\n",
       "      <td>-0.119315</td>\n",
       "      <td>2.381561</td>\n",
       "      <td>2.300979</td>\n",
       "      <td>-0.21906</td>\n",
       "      <td>-0.841838</td>\n",
       "      <td>1.078431</td>\n",
       "      <td>2.359512</td>\n",
       "      <td>0.0</td>\n",
       "      <td>0.0</td>\n",
       "      <td>0.0</td>\n",
       "      <td>...</td>\n",
       "      <td>1.0</td>\n",
       "      <td>0.0</td>\n",
       "      <td>0.0</td>\n",
       "      <td>0.0</td>\n",
       "      <td>0.0</td>\n",
       "      <td>1.0</td>\n",
       "      <td>0.0</td>\n",
       "      <td>0.0</td>\n",
       "      <td>0.0</td>\n",
       "      <td>0.0</td>\n",
       "    </tr>\n",
       "    <tr>\n",
       "      <th>3</th>\n",
       "      <td>-0.119315</td>\n",
       "      <td>-0.354715</td>\n",
       "      <td>-0.501054</td>\n",
       "      <td>-0.21906</td>\n",
       "      <td>1.175784</td>\n",
       "      <td>1.106592</td>\n",
       "      <td>-1.168155</td>\n",
       "      <td>0.0</td>\n",
       "      <td>0.0</td>\n",
       "      <td>0.0</td>\n",
       "      <td>...</td>\n",
       "      <td>0.0</td>\n",
       "      <td>0.0</td>\n",
       "      <td>0.0</td>\n",
       "      <td>0.0</td>\n",
       "      <td>0.0</td>\n",
       "      <td>0.0</td>\n",
       "      <td>1.0</td>\n",
       "      <td>0.0</td>\n",
       "      <td>0.0</td>\n",
       "      <td>0.0</td>\n",
       "    </tr>\n",
       "    <tr>\n",
       "      <th>4</th>\n",
       "      <td>-0.119315</td>\n",
       "      <td>0.099094</td>\n",
       "      <td>-0.501054</td>\n",
       "      <td>-0.21906</td>\n",
       "      <td>0.964988</td>\n",
       "      <td>-1.831616</td>\n",
       "      <td>-1.195007</td>\n",
       "      <td>0.0</td>\n",
       "      <td>0.0</td>\n",
       "      <td>0.0</td>\n",
       "      <td>...</td>\n",
       "      <td>1.0</td>\n",
       "      <td>0.0</td>\n",
       "      <td>0.0</td>\n",
       "      <td>0.0</td>\n",
       "      <td>0.0</td>\n",
       "      <td>0.0</td>\n",
       "      <td>0.0</td>\n",
       "      <td>0.0</td>\n",
       "      <td>1.0</td>\n",
       "      <td>0.0</td>\n",
       "    </tr>\n",
       "  </tbody>\n",
       "</table>\n",
       "<p>5 rows × 30 columns</p>\n",
       "</div>"
      ],
      "text/plain": [
       "   NumberofBuildings  NumberofFloors  PropertyGFAParking  %_stream  \\\n",
       "0          -0.119315        2.925536            2.388477  -0.21906   \n",
       "1          -0.119315        3.845430            2.383877  -0.21906   \n",
       "2          -0.119315        2.381561            2.300979  -0.21906   \n",
       "3          -0.119315       -0.354715           -0.501054  -0.21906   \n",
       "4          -0.119315        0.099094           -0.501054  -0.21906   \n",
       "\n",
       "   Age_batiment    %_elec  PropertyGFATotal  Neighborhood_BALLARD  \\\n",
       "0     -1.142976  0.729951          2.698065                   0.0   \n",
       "1     -0.570814  1.106593          2.698065                   0.0   \n",
       "2     -0.841838  1.078431          2.359512                   0.0   \n",
       "3      1.175784  1.106592         -1.168155                   0.0   \n",
       "4      0.964988 -1.831616         -1.195007                   0.0   \n",
       "\n",
       "   Neighborhood_CENTRAL  Neighborhood_DELRIDGE  ...  \\\n",
       "0                   0.0                    0.0  ...   \n",
       "1                   0.0                    0.0  ...   \n",
       "2                   0.0                    0.0  ...   \n",
       "3                   0.0                    0.0  ...   \n",
       "4                   0.0                    0.0  ...   \n",
       "\n",
       "   BuildingType_NonResidential  BuildingType_SPS-District K-12  \\\n",
       "0                          1.0                             0.0   \n",
       "1                          1.0                             0.0   \n",
       "2                          1.0                             0.0   \n",
       "3                          0.0                             0.0   \n",
       "4                          1.0                             0.0   \n",
       "\n",
       "   PrimaryPropertyType_Hotel  PrimaryPropertyType_Medical Center  \\\n",
       "0                        0.0                                 0.0   \n",
       "1                        0.0                                 0.0   \n",
       "2                        0.0                                 0.0   \n",
       "3                        0.0                                 0.0   \n",
       "4                        0.0                                 0.0   \n",
       "\n",
       "   PrimaryPropertyType_Mixed Use Property  PrimaryPropertyType_Office  \\\n",
       "0                                     0.0                         1.0   \n",
       "1                                     0.0                         1.0   \n",
       "2                                     0.0                         1.0   \n",
       "3                                     0.0                         0.0   \n",
       "4                                     0.0                         0.0   \n",
       "\n",
       "   PrimaryPropertyType_Other  PrimaryPropertyType_Store  \\\n",
       "0                        0.0                        0.0   \n",
       "1                        0.0                        0.0   \n",
       "2                        0.0                        0.0   \n",
       "3                        1.0                        0.0   \n",
       "4                        0.0                        0.0   \n",
       "\n",
       "   PrimaryPropertyType_University  PrimaryPropertyType_Warehouse  \n",
       "0                             0.0                            0.0  \n",
       "1                             0.0                            0.0  \n",
       "2                             0.0                            0.0  \n",
       "3                             0.0                            0.0  \n",
       "4                             1.0                            0.0  \n",
       "\n",
       "[5 rows x 30 columns]"
      ]
     },
     "execution_count": 14,
     "metadata": {},
     "output_type": "execute_result"
    }
   ],
   "source": [
    "\n",
    "var = VarianceThreshold(threshold=0).fit(encoded_X_train)\n",
    "\n",
    "low_var = var.get_support(indices=False)\n",
    "\n",
    "low_var_encoded_X_train=encoded_X_train.loc[:,low_var]\n",
    "low_var_encoded_X_test=encoded_X_test.loc[:,low_var]\n",
    "low_var_encoded_X_train.head(5)"
   ]
  },
  {
   "cell_type": "code",
   "execution_count": 15,
   "id": "721b4633",
   "metadata": {},
   "outputs": [],
   "source": [
    "X_train=low_var_encoded_X_train\n",
    "X_test=low_var_encoded_X_test"
   ]
  },
  {
   "cell_type": "markdown",
   "id": "a7c881a0",
   "metadata": {},
   "source": [
    "## III. Modélisation"
   ]
  },
  {
   "cell_type": "markdown",
   "id": "53bcdc60",
   "metadata": {},
   "source": [
    "## 1. Régression Linéaire"
   ]
  },
  {
   "cell_type": "code",
   "execution_count": 16,
   "id": "3b93fefe",
   "metadata": {},
   "outputs": [
    {
     "name": "stdout",
     "output_type": "stream",
     "text": [
      "Le score d'apprentissage est de :  0.6655814531771953\n",
      "Le score de test est de :  0.7173755555318069\n",
      "La durée de chargement de la cellule est de :  6.699999999959516e-05\n"
     ]
    }
   ],
   "source": [
    "# Création du modèle\n",
    "model1 = LinearRegression()\n",
    "\n",
    "# Entrainement du modèle\n",
    "model1.fit(X_train, y_train)\n",
    "\n",
    "\n",
    "# maintenant on va faire la prédiction\n",
    "prediction = model1.predict(X_test)\n",
    "\n",
    "# on va afficher le % d'apprentissage du modèle\n",
    "A1 = model1.score(X_train, y_train)\n",
    "print (\"Le score d'apprentissage est de : \", A1)\n",
    "\n",
    "\n",
    "R1 = model1.score(X_test, y_test)\n",
    "print(\"Le score de test est de : \",R1)\n",
    "\n",
    "T1 = end-start\n",
    "print(\"La durée de chargement de la cellule est de : \", T1)"
   ]
  },
  {
   "cell_type": "code",
   "execution_count": 17,
   "id": "89c2e1e0",
   "metadata": {},
   "outputs": [
    {
     "name": "stdout",
     "output_type": "stream",
     "text": [
      "14.93201726185779\n"
     ]
    },
    {
     "data": {
      "text/plain": [
       "array([ 0.01911592,  0.0146234 , -0.05327188,  0.03625282, -0.12467764,\n",
       "       -0.17921055,  0.87682971, -0.12202322,  0.00351628,  0.10098814,\n",
       "        0.10756709, -0.0516096 ,  0.05541326,  0.09104672,  0.02418973,\n",
       "       -0.0972801 ,  0.06759346, -0.13024592, -0.1013103 ,  0.05215447,\n",
       "       -0.21657114, -0.4504354 ,  0.22206601,  0.64567454,  0.18139013,\n",
       "        0.14072127,  0.3164786 ,  0.59091886,  0.17258034, -0.57817091])"
      ]
     },
     "execution_count": 17,
     "metadata": {},
     "output_type": "execute_result"
    }
   ],
   "source": [
    "# ON VA CALCULER LE B dans y = ax + b\n",
    "print (model1.intercept_)\n",
    "\n",
    "# on va calculer les coefficients de la droite\n",
    "model1.coef_"
   ]
  },
  {
   "cell_type": "code",
   "execution_count": 18,
   "id": "34c8d36c",
   "metadata": {},
   "outputs": [
    {
     "data": {
      "text/plain": [
       "Text(0.5, 1.0, 'Analyse du modèle linéaire')"
      ]
     },
     "execution_count": 18,
     "metadata": {},
     "output_type": "execute_result"
    },
    {
     "data": {
      "image/png": "[encoded data removed]",
      "text/plain": [
       "<Figure size 864x576 with 1 Axes>"
      ]
     },
     "metadata": {
      "needs_background": "light"
     },
     "output_type": "display_data"
    }
   ],
   "source": [
    "# on va construire la droite Y = m*X + b ET DONC FINALISER\n",
    "plt.figure (figsize = (12,8))\n",
    "m, b = np.polyfit (y_test, prediction, 1)\n",
    "plt.plot(y_test, prediction, 'bo', y_test, m*y_test, 'r')\n",
    "plt.title('Analyse du modèle linéaire')"
   ]
  },
  {
   "cell_type": "markdown",
   "id": "8d7df38b",
   "metadata": {},
   "source": [
    "## Analyse des erreurs avec les métriques"
   ]
  },
  {
   "cell_type": "code",
   "execution_count": 19,
   "id": "e3f3ad3e",
   "metadata": {},
   "outputs": [],
   "source": [
    "# MAE\n",
    "\n",
    "MAE1 = mean_absolute_error(y_test, prediction)\n",
    "      \n",
    "# MSE\n",
    "\n",
    "MSE1 = mean_squared_error(y_test, prediction)"
   ]
  },
  {
   "cell_type": "markdown",
   "id": "1f28ba8f",
   "metadata": {},
   "source": [
    "Nous avons ici testé le MAE et le MSE, nous constatons un écart important entre les deux variables.\n",
    "\n",
    "Afin de sélectionner le meilleur paramètres, il est important de connaître la différence entre les deux méthodes :\n",
    "\n",
    "- MAE : l'importance de l'erreur est linéaire avec son amplitude. A sélectionner si le Dataset contient des valeurs aberrantes.\n",
    "\n",
    "- MSE : nous accordons une grande importance aux grandes erreurs.\n"
   ]
  },
  {
   "cell_type": "markdown",
   "id": "32575b23",
   "metadata": {},
   "source": [
    "### Analyse des régulateurs"
   ]
  },
  {
   "cell_type": "markdown",
   "id": "fa55297a",
   "metadata": {},
   "source": [
    "Afin de procéder à une analyse plus poussée, nous allons procéder à une utilisation des régulateurs. Nous allons utiliser le modèle du Lasso et celui du Regression Ridge.\n",
    "\n",
    "Regression ridge : ce modèle a pour but de réduire l'amplitude des coefficients de la la régression linéaire.\n",
    "\n",
    "Lasso : ce modèle a pour objectif d' annuler certains coefficients. Les variables qui auront un coefficient égal à zéro ne feront plus partie du modèle, qui en sera simplifié d'autant. Un tel modèle, avec beaucoup de coefficients nuls, est appelé un modèle parcimonieux. Il s'agit donc d'une méthode de sélection de variables et de réduction de dimension supervisée : les variables qui ne sont pas nécessaires à la prédiction de l'étiquette sont éliminées."
   ]
  },
  {
   "cell_type": "markdown",
   "id": "5f5a478e",
   "metadata": {},
   "source": [
    "#### A. Régression Ridge"
   ]
  },
  {
   "cell_type": "code",
   "execution_count": 20,
   "id": "8a7a0b8d",
   "metadata": {},
   "outputs": [
    {
     "name": "stdout",
     "output_type": "stream",
     "text": [
      "0.4412479108303776\n"
     ]
    }
   ],
   "source": [
    "# On crée un modèle de régression linéaire\n",
    "lr = linear_model.LinearRegression()\n",
    "\n",
    "# On entraîne ce modèle sur les données d'entrainement\n",
    "lr.fit(X_train,y_train)\n",
    "\n",
    "# On récupère l'erreur de norme 2 sur le jeu de données test comme baseline\n",
    "baseline_error = np.mean((lr.predict(X_test) - y_test) ** 2)\n",
    "\n",
    "print(baseline_error)"
   ]
  },
  {
   "cell_type": "code",
   "execution_count": 21,
   "id": "e14523fd",
   "metadata": {},
   "outputs": [
    {
     "name": "stdout",
     "output_type": "stream",
     "text": [
      "Notre erreur quadratique est :  0.4412479108303776\n"
     ]
    }
   ],
   "source": [
    "# On récupère l'erreur de norme 2 sur le jeu de données test comme baseline\n",
    "baseline_error = np.mean((model1.predict(X_test) - y_test) ** 2)\n",
    "\n",
    "print('Notre erreur quadratique est : ', baseline_error)"
   ]
  },
  {
   "cell_type": "code",
   "execution_count": 22,
   "id": "677e1dcb",
   "metadata": {},
   "outputs": [
    {
     "name": "stdout",
     "output_type": "stream",
     "text": [
      "Le score d'apprentissage est de :  0.02408107010095084\n",
      "Le score de test est de :  0.02557594218193404\n",
      "La durée de chargement de la cellule est de :  6.699999999959516e-05\n"
     ]
    }
   ],
   "source": [
    "# Application du regression ridge\n",
    "\n",
    "n_alphas = 200\n",
    "alphas = np.logspace(-5, 5, n_alphas)\n",
    "\n",
    "ridge = linear_model.Ridge()\n",
    "\n",
    "coefs = []\n",
    "errors = []\n",
    "for a in alphas:\n",
    "    ridge.set_params(alpha=a)\n",
    "    ridge.fit(X_train, y_train)\n",
    "    coefs.append(ridge.coef_)\n",
    "    errors.append([baseline_error, np.mean((ridge.predict(X_test) - y_test) ** 2)])\n",
    "\n",
    "prediction2 = ridge.predict(X_test)\n",
    "    # on va afficher le % d'apprentissage du modèle\n",
    "A2 = ridge.score(X_train, y_train)\n",
    "print (\"Le score d'apprentissage est de : \", A2)\n",
    "\n",
    "\n",
    "R2 = ridge.score(X_test, y_test)\n",
    "print(\"Le score de test est de : \",R2)\n",
    "\n",
    "T2 = end-start\n",
    "print(\"La durée de chargement de la cellule est de : \", T2)"
   ]
  },
  {
   "cell_type": "code",
   "execution_count": 23,
   "id": "96eee0af",
   "metadata": {},
   "outputs": [],
   "source": [
    "# MAE\n",
    "\n",
    "MAE2 = mean_absolute_error(y_test, prediction2)\n",
    "      \n",
    "# MSE\n",
    "\n",
    "MSE2 = mean_squared_error(y_test, prediction2)"
   ]
  },
  {
   "cell_type": "code",
   "execution_count": 24,
   "id": "6c33cec2",
   "metadata": {},
   "outputs": [
    {
     "data": {
      "image/png": "[encoded data removed]",
      "text/plain": [
       "<Figure size 432x288 with 1 Axes>"
      ]
     },
     "metadata": {
      "needs_background": "light"
     },
     "output_type": "display_data"
    }
   ],
   "source": [
    "ax = plt.gca()\n",
    "\n",
    "ax.plot(alphas, coefs)\n",
    "ax.set_xscale('log')\n",
    "plt.xlabel('alpha')\n",
    "plt.ylabel('poids')\n",
    "plt.title('Ridge coefficients as a function of the regularization')\n",
    "plt.axis('tight')\n",
    "plt.show()"
   ]
  },
  {
   "cell_type": "code",
   "execution_count": 25,
   "id": "05c55c51",
   "metadata": {},
   "outputs": [
    {
     "data": {
      "image/png": "[encoded data removed]",
      "text/plain": [
       "<Figure size 432x288 with 1 Axes>"
      ]
     },
     "metadata": {
      "needs_background": "light"
     },
     "output_type": "display_data"
    }
   ],
   "source": [
    "ax = plt.gca()\n",
    "\n",
    "ax.plot(alphas, errors)\n",
    "ax.set_xscale('log')\n",
    "plt.xlabel('alpha')\n",
    "plt.ylabel('erreur')\n",
    "plt.axis('tight')\n",
    "plt.show()"
   ]
  },
  {
   "cell_type": "code",
   "execution_count": 26,
   "id": "b5c78df8",
   "metadata": {},
   "outputs": [
    {
     "data": {
      "text/plain": [
       "[0.4412479108303776, 0.4412479184237351]"
      ]
     },
     "execution_count": 26,
     "metadata": {},
     "output_type": "execute_result"
    }
   ],
   "source": [
    "min(errors)"
   ]
  },
  {
   "cell_type": "markdown",
   "id": "1a9cfcf7",
   "metadata": {},
   "source": [
    "#### B.  Lasso"
   ]
  },
  {
   "cell_type": "code",
   "execution_count": 27,
   "id": "197a5100",
   "metadata": {},
   "outputs": [
    {
     "name": "stdout",
     "output_type": "stream",
     "text": [
      "Le score d'apprentissage est de :  -143.71861594757223\n",
      "Le score de test est de :  -141.82210852046757\n",
      "La durée de chargement de la cellule est de :  6.699999999959516e-05\n"
     ]
    }
   ],
   "source": [
    "n_alphas = 300\n",
    "alphas = np.logspace(-5, 5, n_alphas)\n",
    "lasso = linear_model.Lasso(fit_intercept=False)\n",
    "\n",
    "coefs = []\n",
    "errors = []\n",
    "for a in alphas:\n",
    "    lasso.set_params(alpha=a)\n",
    "    lasso.fit(X_train, y_train)\n",
    "    coefs.append(lasso.coef_)\n",
    "    errors.append([baseline_error, np.mean((lasso.predict(X_test) - y_test) ** 2)])\n",
    "    \n",
    "prediction3 = lasso.predict(X_test)\n",
    "    \n",
    "        # on va afficher le % d'apprentissage du modèle\n",
    "A3 = lasso.score(X_train, y_train)\n",
    "print (\"Le score d'apprentissage est de : \", A3)\n",
    "\n",
    "\n",
    "R3 = lasso.score(X_test, y_test)\n",
    "print(\"Le score de test est de : \",R3)\n",
    "\n",
    "T3 = end-start\n",
    "print(\"La durée de chargement de la cellule est de : \", T3)"
   ]
  },
  {
   "cell_type": "code",
   "execution_count": 28,
   "id": "fd81b57d",
   "metadata": {},
   "outputs": [],
   "source": [
    "# MAE\n",
    "\n",
    "MAE3 = mean_absolute_error(y_test, prediction3)\n",
    "      \n",
    "# MSE\n",
    "\n",
    "MSE3 = mean_squared_error(y_test, prediction3)"
   ]
  },
  {
   "cell_type": "code",
   "execution_count": 29,
   "id": "bff4a541",
   "metadata": {},
   "outputs": [
    {
     "data": {
      "image/png": "[encoded data removed]",
      "text/plain": [
       "<Figure size 432x288 with 1 Axes>"
      ]
     },
     "metadata": {
      "needs_background": "light"
     },
     "output_type": "display_data"
    }
   ],
   "source": [
    "ax = plt.gca()\n",
    "\n",
    "ax.plot(alphas, coefs)\n",
    "ax.set_xscale('log')\n",
    "plt.xlabel('alpha')\n",
    "plt.ylabel('weights')\n",
    "plt.axis('tight')\n",
    "plt.show()"
   ]
  },
  {
   "cell_type": "code",
   "execution_count": 30,
   "id": "f914a4fa",
   "metadata": {},
   "outputs": [
    {
     "data": {
      "image/png": "[encoded data removed]",
      "text/plain": [
       "<Figure size 432x288 with 1 Axes>"
      ]
     },
     "metadata": {
      "needs_background": "light"
     },
     "output_type": "display_data"
    }
   ],
   "source": [
    "ax = plt.gca()\n",
    "\n",
    "ax.plot(alphas, errors)\n",
    "ax.set_xscale('log')\n",
    "plt.xlabel('alpha')\n",
    "plt.ylabel('erreur')\n",
    "plt.axis('tight')\n",
    "plt.show()"
   ]
  },
  {
   "cell_type": "code",
   "execution_count": 31,
   "id": "25ea1117",
   "metadata": {},
   "outputs": [
    {
     "data": {
      "text/plain": [
       "[0.4412479108303776, 0.44126130432145033]"
      ]
     },
     "execution_count": 31,
     "metadata": {},
     "output_type": "execute_result"
    }
   ],
   "source": [
    "min(errors)"
   ]
  },
  {
   "cell_type": "markdown",
   "id": "442fcb3b",
   "metadata": {},
   "source": [
    "#### C. Elastic Net"
   ]
  },
  {
   "cell_type": "code",
   "execution_count": 32,
   "id": "0449c0f7",
   "metadata": {},
   "outputs": [
    {
     "name": "stdout",
     "output_type": "stream",
     "text": [
      "Le score d'apprentissage est de :  0.0\n",
      "Le score de test est de :  -0.000624543976759151\n",
      "La durée de chargement de la cellule est de :  6.699999999959516e-05\n"
     ]
    }
   ],
   "source": [
    "n_alphas = 300\n",
    "alphas = np.logspace(-5, 5, n_alphas)\n",
    "\n",
    "modelelastic = ElasticNet(alpha=0.1, l1_ratio=0.9, selection='random', random_state=42)\n",
    "\n",
    "coefs = []\n",
    "errors = []\n",
    "for a in alphas:\n",
    "    modelelastic.set_params(alpha=a)\n",
    "    modelelastic.fit(X_train, y_train)\n",
    "    coefs.append(modelelastic.coef_)\n",
    "    errors.append([baseline_error, np.mean((modelelastic.predict(X_test) - y_test) ** 2)])\n",
    "    \n",
    "    prediction4 = modelelastic.predict(X_test)\n",
    "    # on va afficher le % d'apprentissage du modèle\n",
    "A4 =     modelelastic.set_params(alpha=a).score(X_train, y_train)\n",
    "print (\"Le score d'apprentissage est de : \", A4)\n",
    "\n",
    "\n",
    "R4 =     modelelastic.set_params(alpha=a).score(X_test, y_test)\n",
    "print(\"Le score de test est de : \",R4)\n",
    "\n",
    "T4 = end-start\n",
    "print(\"La durée de chargement de la cellule est de : \", T4)"
   ]
  },
  {
   "cell_type": "code",
   "execution_count": 33,
   "id": "93c970c3",
   "metadata": {},
   "outputs": [
    {
     "data": {
      "image/png": "[encoded data removed]",
      "text/plain": [
       "<Figure size 432x288 with 1 Axes>"
      ]
     },
     "metadata": {
      "needs_background": "light"
     },
     "output_type": "display_data"
    }
   ],
   "source": [
    "ax = plt.gca()\n",
    "\n",
    "ax.plot(alphas, coefs)\n",
    "ax.set_xscale('log')\n",
    "plt.xlabel('alpha')\n",
    "plt.ylabel('weights')\n",
    "plt.axis('tight')\n",
    "plt.show()"
   ]
  },
  {
   "cell_type": "code",
   "execution_count": 34,
   "id": "cd815d49",
   "metadata": {},
   "outputs": [
    {
     "data": {
      "image/png": "[encoded data removed]",
      "text/plain": [
       "<Figure size 432x288 with 1 Axes>"
      ]
     },
     "metadata": {
      "needs_background": "light"
     },
     "output_type": "display_data"
    }
   ],
   "source": [
    "ax = plt.gca()\n",
    "\n",
    "ax.plot(alphas, errors)\n",
    "ax.set_xscale('log')\n",
    "plt.xlabel('alpha')\n",
    "plt.ylabel('erreur')\n",
    "plt.axis('tight')\n",
    "plt.show()"
   ]
  },
  {
   "cell_type": "code",
   "execution_count": 35,
   "id": "9fe4a102",
   "metadata": {},
   "outputs": [],
   "source": [
    "# MAE\n",
    "\n",
    "MAE4 = mean_absolute_error(y_test, prediction4)\n",
    "      \n",
    "# MSE\n",
    "\n",
    "MSE4 = mean_squared_error(y_test, prediction4)"
   ]
  },
  {
   "cell_type": "markdown",
   "id": "6e96134b",
   "metadata": {},
   "source": [
    "## Analyse des régulateurs"
   ]
  },
  {
   "cell_type": "code",
   "execution_count": 36,
   "id": "b2d85715",
   "metadata": {},
   "outputs": [
    {
     "data": {
      "text/html": [
       "<div>\n",
       "<style scoped>\n",
       "    .dataframe tbody tr th:only-of-type {\n",
       "        vertical-align: middle;\n",
       "    }\n",
       "\n",
       "    .dataframe tbody tr th {\n",
       "        vertical-align: top;\n",
       "    }\n",
       "\n",
       "    .dataframe thead th {\n",
       "        text-align: right;\n",
       "    }\n",
       "</style>\n",
       "<table border=\"1\" class=\"dataframe\">\n",
       "  <thead>\n",
       "    <tr style=\"text-align: right;\">\n",
       "      <th></th>\n",
       "      <th>Score Apprentissage</th>\n",
       "      <th>Score Test</th>\n",
       "      <th>MAE</th>\n",
       "      <th>MSE</th>\n",
       "      <th>Temps</th>\n",
       "    </tr>\n",
       "  </thead>\n",
       "  <tbody>\n",
       "    <tr>\n",
       "      <th>Modele linéaire</th>\n",
       "      <td>0.665581</td>\n",
       "      <td>0.717376</td>\n",
       "      <td>0.507176</td>\n",
       "      <td>0.441248</td>\n",
       "      <td>0.000067</td>\n",
       "    </tr>\n",
       "    <tr>\n",
       "      <th>Regression Ridge</th>\n",
       "      <td>0.024081</td>\n",
       "      <td>0.025576</td>\n",
       "      <td>0.989841</td>\n",
       "      <td>1.521321</td>\n",
       "      <td>0.000067</td>\n",
       "    </tr>\n",
       "    <tr>\n",
       "      <th>Lasso</th>\n",
       "      <td>-143.718616</td>\n",
       "      <td>-141.822109</td>\n",
       "      <td>14.880189</td>\n",
       "      <td>222.981268</td>\n",
       "      <td>0.000067</td>\n",
       "    </tr>\n",
       "    <tr>\n",
       "      <th>Elastic</th>\n",
       "      <td>0.000000</td>\n",
       "      <td>-0.000625</td>\n",
       "      <td>1.002876</td>\n",
       "      <td>1.562227</td>\n",
       "      <td>0.000067</td>\n",
       "    </tr>\n",
       "  </tbody>\n",
       "</table>\n",
       "</div>"
      ],
      "text/plain": [
       "                  Score Apprentissage  Score Test        MAE         MSE  \\\n",
       "Modele linéaire              0.665581    0.717376   0.507176    0.441248   \n",
       "Regression Ridge             0.024081    0.025576   0.989841    1.521321   \n",
       "Lasso                     -143.718616 -141.822109  14.880189  222.981268   \n",
       "Elastic                      0.000000   -0.000625   1.002876    1.562227   \n",
       "\n",
       "                     Temps  \n",
       "Modele linéaire   0.000067  \n",
       "Regression Ridge  0.000067  \n",
       "Lasso             0.000067  \n",
       "Elastic           0.000067  "
      ]
     },
     "execution_count": 36,
     "metadata": {},
     "output_type": "execute_result"
    }
   ],
   "source": [
    "A = [A1, A2, A3, A4]\n",
    "R = [R1, R2, R3, R4]\n",
    "T = [T1, T2, T3, T4]\n",
    "MAE = [MAE1, MAE2, MAE3, MAE4]\n",
    "MSE = [MSE1, MSE2, MSE3, MSE4]\n",
    "\n",
    "indice = ['Modele linéaire', 'Regression Ridge', 'Lasso', 'Elastic']\n",
    "\n",
    "\n",
    "data_lineaire = pd.DataFrame ({'Score Apprentissage': A,'Score Test' : R, 'MAE':MAE, 'MSE':MSE, 'Temps':T}, index = indice)\n",
    "data_lineaire"
   ]
  },
  {
   "cell_type": "markdown",
   "id": "763b1635",
   "metadata": {},
   "source": [
    "Nous pouvons constater que seul le modèle linéaire répond à notre problématique, nous allons conserver ce dernier dans le cadre d'une analyse de nos résultats pour notre problématique."
   ]
  },
  {
   "cell_type": "markdown",
   "id": "a633c456",
   "metadata": {},
   "source": [
    "# "
   ]
  },
  {
   "cell_type": "markdown",
   "id": "bcfbddd4",
   "metadata": {},
   "source": [
    "### 2. Arbre de décisions"
   ]
  },
  {
   "cell_type": "code",
   "execution_count": 37,
   "id": "62772428",
   "metadata": {},
   "outputs": [
    {
     "name": "stdout",
     "output_type": "stream",
     "text": [
      "Le score d'apprentissage est de :  0.7340787035982328\n",
      "Le score de test est de :  0.6524167976172734\n",
      "La durée de chargement de la cellule est de :  6.699999999959516e-05\n"
     ]
    }
   ],
   "source": [
    "model5 = tree.DecisionTreeRegressor(max_depth = 6, random_state = 1)\n",
    "\n",
    "model5.fit(X_train, y_train)\n",
    "\n",
    "prediction5 = model5.predict(X_test)\n",
    "\n",
    "# on va afficher le % d'apprentissage du modèle\n",
    "A5 = model5.score(X_train, y_train)\n",
    "print (\"Le score d'apprentissage est de : \", A5)\n",
    "\n",
    "\n",
    "R5 = model5.score(X_test, y_test)\n",
    "print(\"Le score de test est de : \",R5)\n",
    "\n",
    "T5 = end-start\n",
    "print(\"La durée de chargement de la cellule est de : \", T5)"
   ]
  },
  {
   "cell_type": "code",
   "execution_count": 38,
   "id": "48f93978",
   "metadata": {},
   "outputs": [],
   "source": [
    "# MAE\n",
    "\n",
    "MAE5 = mean_absolute_error(y_test, prediction5)\n",
    "      \n",
    "# MSE\n",
    "\n",
    "MSE5 = mean_squared_error(y_test, prediction5)"
   ]
  },
  {
   "cell_type": "markdown",
   "id": "02f06887",
   "metadata": {},
   "source": [
    "### 3. XGBoost"
   ]
  },
  {
   "cell_type": "code",
   "execution_count": 39,
   "id": "8b707e56",
   "metadata": {},
   "outputs": [
    {
     "name": "stdout",
     "output_type": "stream",
     "text": [
      "Le score d'apprentissage est de :  0.8980629370215572\n",
      "Le score de test est de :  0.7269049002660625\n",
      "La durée de chargement de la cellule est de :  6.699999999959516e-05\n"
     ]
    }
   ],
   "source": [
    "model6 = GradientBoostingRegressor(n_estimators = 100, learning_rate = 0.36)\n",
    "model6.fit(X_train, y_train)\n",
    "\n",
    "prediction6 = model6.predict(X_test)\n",
    "\n",
    "\n",
    "# on va afficher le % d'apprentissage du modèle\n",
    "A6 = model6.score(X_train, y_train)\n",
    "print (\"Le score d'apprentissage est de : \", A6)\n",
    "\n",
    "\n",
    "R6 = model6.score(X_test, y_test)\n",
    "print(\"Le score de test est de : \",R6)\n",
    "\n",
    "T6 = end-start\n",
    "print(\"La durée de chargement de la cellule est de : \", T6)"
   ]
  },
  {
   "cell_type": "code",
   "execution_count": 40,
   "id": "796a67b3",
   "metadata": {},
   "outputs": [],
   "source": [
    "# MAE\n",
    "\n",
    "MAE6 = mean_absolute_error(y_test, prediction6)\n",
    "      \n",
    "# MSE\n",
    "\n",
    "MSE6 = mean_squared_error(y_test, prediction6)"
   ]
  },
  {
   "cell_type": "code",
   "execution_count": 41,
   "id": "06f7a889",
   "metadata": {},
   "outputs": [
    {
     "data": {
      "text/html": [
       "<div>\n",
       "<style scoped>\n",
       "    .dataframe tbody tr th:only-of-type {\n",
       "        vertical-align: middle;\n",
       "    }\n",
       "\n",
       "    .dataframe tbody tr th {\n",
       "        vertical-align: top;\n",
       "    }\n",
       "\n",
       "    .dataframe thead th {\n",
       "        text-align: right;\n",
       "    }\n",
       "</style>\n",
       "<table border=\"1\" class=\"dataframe\">\n",
       "  <thead>\n",
       "    <tr style=\"text-align: right;\">\n",
       "      <th></th>\n",
       "      <th>Consommation réelle</th>\n",
       "      <th>Consommation prédite</th>\n",
       "    </tr>\n",
       "  </thead>\n",
       "  <tbody>\n",
       "    <tr>\n",
       "      <th>204</th>\n",
       "      <td>13.562230</td>\n",
       "      <td>13.137630</td>\n",
       "    </tr>\n",
       "    <tr>\n",
       "      <th>1395</th>\n",
       "      <td>16.321071</td>\n",
       "      <td>15.633796</td>\n",
       "    </tr>\n",
       "    <tr>\n",
       "      <th>767</th>\n",
       "      <td>14.665335</td>\n",
       "      <td>14.182692</td>\n",
       "    </tr>\n",
       "    <tr>\n",
       "      <th>1167</th>\n",
       "      <td>15.590974</td>\n",
       "      <td>14.761528</td>\n",
       "    </tr>\n",
       "    <tr>\n",
       "      <th>590</th>\n",
       "      <td>14.363980</td>\n",
       "      <td>13.437363</td>\n",
       "    </tr>\n",
       "    <tr>\n",
       "      <th>...</th>\n",
       "      <td>...</td>\n",
       "      <td>...</td>\n",
       "    </tr>\n",
       "    <tr>\n",
       "      <th>1472</th>\n",
       "      <td>16.663602</td>\n",
       "      <td>16.219807</td>\n",
       "    </tr>\n",
       "    <tr>\n",
       "      <th>1083</th>\n",
       "      <td>15.395402</td>\n",
       "      <td>15.699953</td>\n",
       "    </tr>\n",
       "    <tr>\n",
       "      <th>642</th>\n",
       "      <td>14.447589</td>\n",
       "      <td>14.735289</td>\n",
       "    </tr>\n",
       "    <tr>\n",
       "      <th>955</th>\n",
       "      <td>15.066299</td>\n",
       "      <td>15.302801</td>\n",
       "    </tr>\n",
       "    <tr>\n",
       "      <th>932</th>\n",
       "      <td>14.991843</td>\n",
       "      <td>15.064746</td>\n",
       "    </tr>\n",
       "  </tbody>\n",
       "</table>\n",
       "<p>403 rows × 2 columns</p>\n",
       "</div>"
      ],
      "text/plain": [
       "      Consommation réelle  Consommation prédite\n",
       "204             13.562230             13.137630\n",
       "1395            16.321071             15.633796\n",
       "767             14.665335             14.182692\n",
       "1167            15.590974             14.761528\n",
       "590             14.363980             13.437363\n",
       "...                   ...                   ...\n",
       "1472            16.663602             16.219807\n",
       "1083            15.395402             15.699953\n",
       "642             14.447589             14.735289\n",
       "955             15.066299             15.302801\n",
       "932             14.991843             15.064746\n",
       "\n",
       "[403 rows x 2 columns]"
      ]
     },
     "execution_count": 41,
     "metadata": {},
     "output_type": "execute_result"
    }
   ],
   "source": [
    "dataprediction = pd.DataFrame({'Consommation réelle':y_test, 'Consommation prédite':prediction6})\n",
    "dataprediction"
   ]
  },
  {
   "cell_type": "code",
   "execution_count": 42,
   "id": "af498a05",
   "metadata": {},
   "outputs": [
    {
     "data": {
      "text/plain": [
       "Text(0.5, 1.0, 'Analyse de la prédiction du XGBoost')"
      ]
     },
     "execution_count": 42,
     "metadata": {},
     "output_type": "execute_result"
    },
    {
     "data": {
      "image/png": "[encoded data removed]",
      "text/plain": [
       "<Figure size 509.625x360 with 1 Axes>"
      ]
     },
     "metadata": {
      "needs_background": "light"
     },
     "output_type": "display_data"
    }
   ],
   "source": [
    "sns.displot(dataprediction)\n",
    "plt.title('Analyse de la prédiction du XGBoost')"
   ]
  },
  {
   "cell_type": "code",
   "execution_count": 43,
   "id": "6ac16da1",
   "metadata": {},
   "outputs": [
    {
     "data": {
      "text/plain": [
       "Text(0.5, 1.0, 'Analyse du XGBoost')"
      ]
     },
     "execution_count": 43,
     "metadata": {},
     "output_type": "execute_result"
    },
    {
     "data": {
      "image/png": "[encoded data removed]",
      "text/plain": [
       "<Figure size 864x432 with 1 Axes>"
      ]
     },
     "metadata": {
      "needs_background": "light"
     },
     "output_type": "display_data"
    }
   ],
   "source": [
    "plt.figure(figsize = (12,6))\n",
    "\n",
    "plt.scatter(y_test, prediction6)\n",
    "\n",
    "plt.plot(y_test, y_test, 'r')\n",
    "plt.title('Analyse du XGBoost')"
   ]
  },
  {
   "cell_type": "markdown",
   "id": "0467e34c",
   "metadata": {},
   "source": [
    "# "
   ]
  },
  {
   "cell_type": "markdown",
   "id": "c68fa777",
   "metadata": {},
   "source": [
    "### 4. Random Forest"
   ]
  },
  {
   "cell_type": "code",
   "execution_count": 44,
   "id": "a446ca06",
   "metadata": {},
   "outputs": [
    {
     "name": "stdout",
     "output_type": "stream",
     "text": [
      "Le score d'apprentissage est de :  0.7340787035982328\n",
      "Le score de test est de :  0.7104736252003494\n",
      "La durée de chargement de la cellule est de :  14.9748397\n",
      "Wall time: 492 ms\n"
     ]
    }
   ],
   "source": [
    "%%time\n",
    "\n",
    "model7 = RandomForestRegressor(n_estimators = 100, max_depth = 6)\n",
    "model7.fit(X_train, y_train)\n",
    "\n",
    "prediction7 = model7.predict(X_test)\n",
    "\n",
    "# on va afficher le % d'apprentissage du modèle\n",
    "A7 = model7.score(X_train, y_train)\n",
    "print (\"Le score d'apprentissage est de : \", A5)\n",
    "\n",
    "\n",
    "R7 = model7.score(X_test, y_test)\n",
    "print(\"Le score de test est de : \",R7)\n",
    "\n",
    "T7 = start\n",
    "print(\"La durée de chargement de la cellule est de : \", T7)"
   ]
  },
  {
   "cell_type": "code",
   "execution_count": 45,
   "id": "36b59cb6",
   "metadata": {},
   "outputs": [],
   "source": [
    "# MAE\n",
    "\n",
    "MAE7 = mean_absolute_error(y_test, prediction7)\n",
    "      \n",
    "# MSE\n",
    "\n",
    "MSE7 = mean_squared_error(y_test, prediction7)"
   ]
  },
  {
   "cell_type": "code",
   "execution_count": 46,
   "id": "c6ac4a8b",
   "metadata": {},
   "outputs": [
    {
     "data": {
      "text/html": [
       "<div>\n",
       "<style scoped>\n",
       "    .dataframe tbody tr th:only-of-type {\n",
       "        vertical-align: middle;\n",
       "    }\n",
       "\n",
       "    .dataframe tbody tr th {\n",
       "        vertical-align: top;\n",
       "    }\n",
       "\n",
       "    .dataframe thead th {\n",
       "        text-align: right;\n",
       "    }\n",
       "</style>\n",
       "<table border=\"1\" class=\"dataframe\">\n",
       "  <thead>\n",
       "    <tr style=\"text-align: right;\">\n",
       "      <th></th>\n",
       "      <th>Consommation réelle</th>\n",
       "      <th>Consommation prédite</th>\n",
       "    </tr>\n",
       "  </thead>\n",
       "  <tbody>\n",
       "    <tr>\n",
       "      <th>204</th>\n",
       "      <td>13.562230</td>\n",
       "      <td>13.625307</td>\n",
       "    </tr>\n",
       "    <tr>\n",
       "      <th>1395</th>\n",
       "      <td>16.321071</td>\n",
       "      <td>15.363126</td>\n",
       "    </tr>\n",
       "    <tr>\n",
       "      <th>767</th>\n",
       "      <td>14.665335</td>\n",
       "      <td>14.015895</td>\n",
       "    </tr>\n",
       "    <tr>\n",
       "      <th>1167</th>\n",
       "      <td>15.590974</td>\n",
       "      <td>14.624077</td>\n",
       "    </tr>\n",
       "    <tr>\n",
       "      <th>590</th>\n",
       "      <td>14.363980</td>\n",
       "      <td>13.739795</td>\n",
       "    </tr>\n",
       "    <tr>\n",
       "      <th>...</th>\n",
       "      <td>...</td>\n",
       "      <td>...</td>\n",
       "    </tr>\n",
       "    <tr>\n",
       "      <th>1472</th>\n",
       "      <td>16.663602</td>\n",
       "      <td>16.477947</td>\n",
       "    </tr>\n",
       "    <tr>\n",
       "      <th>1083</th>\n",
       "      <td>15.395402</td>\n",
       "      <td>15.753591</td>\n",
       "    </tr>\n",
       "    <tr>\n",
       "      <th>642</th>\n",
       "      <td>14.447589</td>\n",
       "      <td>14.910486</td>\n",
       "    </tr>\n",
       "    <tr>\n",
       "      <th>955</th>\n",
       "      <td>15.066299</td>\n",
       "      <td>15.407564</td>\n",
       "    </tr>\n",
       "    <tr>\n",
       "      <th>932</th>\n",
       "      <td>14.991843</td>\n",
       "      <td>15.021346</td>\n",
       "    </tr>\n",
       "  </tbody>\n",
       "</table>\n",
       "<p>403 rows × 2 columns</p>\n",
       "</div>"
      ],
      "text/plain": [
       "      Consommation réelle  Consommation prédite\n",
       "204             13.562230             13.625307\n",
       "1395            16.321071             15.363126\n",
       "767             14.665335             14.015895\n",
       "1167            15.590974             14.624077\n",
       "590             14.363980             13.739795\n",
       "...                   ...                   ...\n",
       "1472            16.663602             16.477947\n",
       "1083            15.395402             15.753591\n",
       "642             14.447589             14.910486\n",
       "955             15.066299             15.407564\n",
       "932             14.991843             15.021346\n",
       "\n",
       "[403 rows x 2 columns]"
      ]
     },
     "execution_count": 46,
     "metadata": {},
     "output_type": "execute_result"
    }
   ],
   "source": [
    "dataprediction2 = pd.DataFrame({'Consommation réelle':y_test, 'Consommation prédite':prediction7})\n",
    "dataprediction2"
   ]
  },
  {
   "cell_type": "code",
   "execution_count": 47,
   "id": "43fd79aa",
   "metadata": {},
   "outputs": [
    {
     "data": {
      "text/plain": [
       "Text(0.5, 1.0, 'Analyse de la prédiction du Random Forest')"
      ]
     },
     "execution_count": 47,
     "metadata": {},
     "output_type": "execute_result"
    },
    {
     "data": {
      "image/png": "[encoded data removed]",
      "text/plain": [
       "<Figure size 509.625x360 with 1 Axes>"
      ]
     },
     "metadata": {
      "needs_background": "light"
     },
     "output_type": "display_data"
    }
   ],
   "source": [
    "sns.displot(dataprediction2)\n",
    "plt.title('Analyse de la prédiction du Random Forest')"
   ]
  },
  {
   "cell_type": "code",
   "execution_count": 48,
   "id": "40258a63",
   "metadata": {},
   "outputs": [
    {
     "data": {
      "text/plain": [
       "Text(0.5, 1.0, 'Analyse de la prédiction du Random Forest')"
      ]
     },
     "execution_count": 48,
     "metadata": {},
     "output_type": "execute_result"
    },
    {
     "data": {
      "image/png": "[encoded data removed]",
      "text/plain": [
       "<Figure size 864x432 with 1 Axes>"
      ]
     },
     "metadata": {
      "needs_background": "light"
     },
     "output_type": "display_data"
    }
   ],
   "source": [
    "plt.figure(figsize = (12,6))\n",
    "\n",
    "plt.scatter(y_test, prediction7)\n",
    "\n",
    "plt.plot(y_test, y_test, 'r')\n",
    "plt.title('Analyse de la prédiction du Random Forest')"
   ]
  },
  {
   "cell_type": "markdown",
   "id": "b078b35b",
   "metadata": {},
   "source": [
    "# IV. Analyse des modélisations"
   ]
  },
  {
   "cell_type": "markdown",
   "id": "75b6e6cb",
   "metadata": {},
   "source": [
    "### 1. Analyse des résultats"
   ]
  },
  {
   "cell_type": "markdown",
   "id": "0854b0e2",
   "metadata": {},
   "source": [
    "Nous allons créer un Dataset avec nos modélisations.\n",
    "Nous avons pu constater que le SVR ressort avec un score négatif, nous allons l'exclure de notre fichier."
   ]
  },
  {
   "cell_type": "code",
   "execution_count": 49,
   "id": "87a30f68",
   "metadata": {},
   "outputs": [
    {
     "name": "stdout",
     "output_type": "stream",
     "text": [
      "Wall time: 999 µs\n"
     ]
    },
    {
     "data": {
      "text/html": [
       "<div>\n",
       "<style scoped>\n",
       "    .dataframe tbody tr th:only-of-type {\n",
       "        vertical-align: middle;\n",
       "    }\n",
       "\n",
       "    .dataframe tbody tr th {\n",
       "        vertical-align: top;\n",
       "    }\n",
       "\n",
       "    .dataframe thead th {\n",
       "        text-align: right;\n",
       "    }\n",
       "</style>\n",
       "<table border=\"1\" class=\"dataframe\">\n",
       "  <thead>\n",
       "    <tr style=\"text-align: right;\">\n",
       "      <th></th>\n",
       "      <th>Score Apprentissage</th>\n",
       "      <th>Score Test</th>\n",
       "      <th>MAE</th>\n",
       "      <th>MSE</th>\n",
       "      <th>Temps</th>\n",
       "    </tr>\n",
       "  </thead>\n",
       "  <tbody>\n",
       "    <tr>\n",
       "      <th>Modele linéaire</th>\n",
       "      <td>0.665581</td>\n",
       "      <td>0.717376</td>\n",
       "      <td>0.507176</td>\n",
       "      <td>0.441248</td>\n",
       "      <td>0.000067</td>\n",
       "    </tr>\n",
       "    <tr>\n",
       "      <th>Arbre de Décision</th>\n",
       "      <td>0.734079</td>\n",
       "      <td>0.652417</td>\n",
       "      <td>0.558938</td>\n",
       "      <td>0.542665</td>\n",
       "      <td>0.000067</td>\n",
       "    </tr>\n",
       "    <tr>\n",
       "      <th>XGBoost</th>\n",
       "      <td>0.898063</td>\n",
       "      <td>0.726905</td>\n",
       "      <td>0.501337</td>\n",
       "      <td>0.426370</td>\n",
       "      <td>0.000067</td>\n",
       "    </tr>\n",
       "    <tr>\n",
       "      <th>Random Forest</th>\n",
       "      <td>0.764532</td>\n",
       "      <td>0.710474</td>\n",
       "      <td>0.509877</td>\n",
       "      <td>0.452024</td>\n",
       "      <td>14.974840</td>\n",
       "    </tr>\n",
       "  </tbody>\n",
       "</table>\n",
       "</div>"
      ],
      "text/plain": [
       "                   Score Apprentissage  Score Test       MAE       MSE  \\\n",
       "Modele linéaire               0.665581    0.717376  0.507176  0.441248   \n",
       "Arbre de Décision             0.734079    0.652417  0.558938  0.542665   \n",
       "XGBoost                       0.898063    0.726905  0.501337  0.426370   \n",
       "Random Forest                 0.764532    0.710474  0.509877  0.452024   \n",
       "\n",
       "                       Temps  \n",
       "Modele linéaire     0.000067  \n",
       "Arbre de Décision   0.000067  \n",
       "XGBoost             0.000067  \n",
       "Random Forest      14.974840  "
      ]
     },
     "execution_count": 49,
     "metadata": {},
     "output_type": "execute_result"
    }
   ],
   "source": [
    "%%time\n",
    "\n",
    "A = [A1, A5, A6, A7]\n",
    "R = [R1, R5, R6, R7]\n",
    "T = [T1, T5, T6, T7]\n",
    "MAE = [MAE1, MAE5, MAE6, MAE7]\n",
    "MSE = [MSE1, MSE5, MSE6, MSE7]\n",
    "\n",
    "indice = ['Modele linéaire', 'Arbre de Décision', 'XGBoost', 'Random Forest']\n",
    "\n",
    "\n",
    "data_analyse = pd.DataFrame ({'Score Apprentissage': A,'Score Test' : R, 'MAE':MAE, 'MSE':MSE, 'Temps':T}, index = indice)\n",
    "data_analyse"
   ]
  },
  {
   "cell_type": "markdown",
   "id": "1591ee93",
   "metadata": {},
   "source": [
    "Suite à l'obtention de nos données. Nous pouvons constater que l'arbre de décision présente le plus faible niveau de prédiction.\n",
    "\n",
    "Nos modèles linéaires, XGBoost et le Random Foresr présente les meilleurs résultats.\n",
    "Dans le cadre d'une optimisation de nos paramètres, nous allons prendre la décision de travailler sur le XGBoost."
   ]
  },
  {
   "cell_type": "code",
   "execution_count": 50,
   "id": "80fb0794",
   "metadata": {},
   "outputs": [
    {
     "data": {
      "text/plain": [
       "Text(0.5, 1.0, 'Représentation du MSE pour nos modèles')"
      ]
     },
     "execution_count": 50,
     "metadata": {},
     "output_type": "execute_result"
    },
    {
     "data": {
      "image/png": "[encoded data removed]",
      "text/plain": [
       "<Figure size 1080x720 with 4 Axes>"
      ]
     },
     "metadata": {
      "needs_background": "light"
     },
     "output_type": "display_data"
    }
   ],
   "source": [
    "plt.figure (figsize = (15,10))\n",
    "plt.subplots_adjust(hspace = 0.8, wspace = 0.5)\n",
    "\n",
    "plt.subplot(2, 2, 1)\n",
    "data_analyse['Score Apprentissage'].plot(kind = 'bar')\n",
    "plt.title(\"Représentation de notre phase d'apprentissage pour nos modèles\")\n",
    "\n",
    "plt.subplot(2, 2, 2)\n",
    "data_analyse['Score Test'].plot(kind = 'bar')\n",
    "plt.title(\"Représentation de notre phase de test pour nos modèles\")\n",
    "\n",
    "plt.subplot(2, 2, 3)\n",
    "data_analyse['MAE'].plot(kind = 'bar')\n",
    "plt.title(\"Représentation du MAE pour nos modèles\")\n",
    "\n",
    "plt.subplot(2, 2, 4)\n",
    "data_analyse['MSE'].plot(kind = 'bar')\n",
    "plt.title(\"Représentation du MSE pour nos modèles\")"
   ]
  },
  {
   "cell_type": "markdown",
   "id": "ff97dffc",
   "metadata": {},
   "source": [
    "Dans le cadre de notre analyse, nous pouvons constater que le modèle linéaire, le modèle XGBoost et le RandomForest ont une prédiction assez proche. Le XGBoost semble avoir un score très légérement supérieur, nous allons donc conserver ce dernier et tenter d'améliorer ce dernier à travers une optimisation des paramètres."
   ]
  },
  {
   "cell_type": "markdown",
   "id": "f778631f",
   "metadata": {},
   "source": [
    "# V. Optimisation des modèles"
   ]
  },
  {
   "cell_type": "markdown",
   "id": "b6da7bb5",
   "metadata": {},
   "source": [
    "### 1.Cross Validation"
   ]
  },
  {
   "cell_type": "code",
   "execution_count": 51,
   "id": "9917b610",
   "metadata": {},
   "outputs": [
    {
     "data": {
      "text/plain": [
       "0.6860623371229109"
      ]
     },
     "execution_count": 51,
     "metadata": {},
     "output_type": "execute_result"
    }
   ],
   "source": [
    "cross_val_score(GradientBoostingRegressor(), X_train, y_train, cv = 5).mean()"
   ]
  },
  {
   "cell_type": "code",
   "execution_count": 52,
   "id": "fd4640a7",
   "metadata": {},
   "outputs": [
    {
     "name": "stdout",
     "output_type": "stream",
     "text": [
      "Wall time: 32 s\n"
     ]
    }
   ],
   "source": [
    "%%time\n",
    "\n",
    "est = [20, 100, 300, 500, 700, 900,1000]\n",
    "score_apprentissage, score_validation = validation_curve(model6, X_train, y_train,\n",
    "                                                        param_name = 'n_estimators',\n",
    "                                                        param_range = est, cv = 5)"
   ]
  },
  {
   "cell_type": "code",
   "execution_count": 53,
   "id": "4a82dd73",
   "metadata": {},
   "outputs": [
    {
     "data": {
      "text/plain": [
       "array([0.67747588, 0.65381087, 0.61698856, 0.60463675, 0.59648583,\n",
       "       0.58906759, 0.5862232 ])"
      ]
     },
     "execution_count": 53,
     "metadata": {},
     "output_type": "execute_result"
    }
   ],
   "source": [
    "score_validation.mean(axis = 1)"
   ]
  },
  {
   "cell_type": "code",
   "execution_count": 54,
   "id": "5370742b",
   "metadata": {},
   "outputs": [
    {
     "data": {
      "text/plain": [
       "<matplotlib.legend.Legend at 0x2a5d3680610>"
      ]
     },
     "execution_count": 54,
     "metadata": {},
     "output_type": "execute_result"
    },
    {
     "data": {
      "image/png": "[encoded data removed]",
      "text/plain": [
       "<Figure size 432x288 with 1 Axes>"
      ]
     },
     "metadata": {
      "needs_background": "light"
     },
     "output_type": "display_data"
    }
   ],
   "source": [
    "plt.plot(est, score_validation.mean(axis = 1), marker = 'v', label = 'Score validation')\n",
    "plt.plot(est, score_apprentissage.mean(axis = 1), marker = 'v', label = 'Score apprentissage')\n",
    "plt.legend()"
   ]
  },
  {
   "cell_type": "code",
   "execution_count": 55,
   "id": "68cc0950",
   "metadata": {},
   "outputs": [
    {
     "name": "stdout",
     "output_type": "stream",
     "text": [
      "Wall time: 18.9 s\n"
     ]
    }
   ],
   "source": [
    "%%time\n",
    "\n",
    "est = [0.001, 0.01, 0.05, 0.1, 0.15, 0.2, 0.25, 0.3, 0.4]\n",
    "score_apprentissage, score_validation = validation_curve(model6, X_train, y_train,\n",
    "                                                        param_name = 'learning_rate',\n",
    "                                                        param_range = est, cv = 10)"
   ]
  },
  {
   "cell_type": "code",
   "execution_count": 56,
   "id": "010aad52",
   "metadata": {},
   "outputs": [
    {
     "data": {
      "text/plain": [
       "array([0.09920254, 0.52366693, 0.67490193, 0.68084693, 0.68280219,\n",
       "       0.68237335, 0.67461008, 0.65322201, 0.638603  ])"
      ]
     },
     "execution_count": 56,
     "metadata": {},
     "output_type": "execute_result"
    }
   ],
   "source": [
    "score_validation.mean(axis = 1)"
   ]
  },
  {
   "cell_type": "code",
   "execution_count": 57,
   "id": "6c4256cb",
   "metadata": {},
   "outputs": [
    {
     "data": {
      "text/plain": [
       "<matplotlib.legend.Legend at 0x2a5d2502ac0>"
      ]
     },
     "execution_count": 57,
     "metadata": {},
     "output_type": "execute_result"
    },
    {
     "data": {
      "image/png": "[encoded data removed]",
      "text/plain": [
       "<Figure size 432x288 with 1 Axes>"
      ]
     },
     "metadata": {
      "needs_background": "light"
     },
     "output_type": "display_data"
    }
   ],
   "source": [
    "plt.plot(est, score_validation.mean(axis = 1), marker = 'v', label = 'Score validation')\n",
    "plt.plot(est, score_apprentissage.mean(axis = 1), marker = 'v', label = 'Score apprentissage')\n",
    "plt.legend()"
   ]
  },
  {
   "cell_type": "markdown",
   "id": "a0d199ed",
   "metadata": {},
   "source": [
    "Dans le cadre de notre Cross-Validation, nous pouvons constater les données suivantes :\n",
    "    \n",
    "    - les paramètres n_estimators et learning rate ont un score d'apprentissage qui ne parvient pas à dépasser 0.70, nous pouvons remarquer que notre modèle est en overfitting (surapprentissage),\n",
    "    - le meilleur niveau de paramètre pour n_estimators semble se situer entre 10 et 200,\n",
    "    - le meilleur niveau de paramètre pour learning rate semble être entre 0.05 et 0.25 mais aucune évolution majeure n'apparaît ici.\n",
    "    \n",
    "Nous allons toutefois tester nos paramètres suivants afin de voir si nous avons la possibilité d'améliorer notre modèle existant. Le cas échéant, il sera plus intéressant de procéder à une conservation des paramètres existants voir de conserver les données par défaut."
   ]
  },
  {
   "cell_type": "markdown",
   "id": "f2892f46",
   "metadata": {},
   "source": [
    "### 2 GridSearch CV"
   ]
  },
  {
   "cell_type": "code",
   "execution_count": 58,
   "id": "7bf5ed15",
   "metadata": {},
   "outputs": [],
   "source": [
    "# Sélection de nos meilleurs paramètres\n",
    "\n",
    "grid_param = {'n_estimators': [20, 40, 60, 80, 100],\n",
    "             'learning_rate': [0.1, 0.11, 0.12, 0.13, 0.14, 0.15, 0.16, 0.17, 0.18, 0.19, 0.2]}\n",
    "              \n",
    "grid_search_xg = GridSearchCV(GradientBoostingRegressor(), grid_param, cv = 5, verbose = 5)"
   ]
  },
  {
   "cell_type": "code",
   "execution_count": 59,
   "id": "00f06b88",
   "metadata": {},
   "outputs": [
    {
     "name": "stdout",
     "output_type": "stream",
     "text": [
      "Fitting 5 folds for each of 55 candidates, totalling 275 fits\n",
      "[CV 1/5] END learning_rate=0.1, n_estimators=20;, score=0.635 total time=   0.0s\n",
      "[CV 2/5] END learning_rate=0.1, n_estimators=20;, score=0.623 total time=   0.0s\n",
      "[CV 3/5] END learning_rate=0.1, n_estimators=20;, score=0.638 total time=   0.0s\n",
      "[CV 4/5] END learning_rate=0.1, n_estimators=20;, score=0.625 total time=   0.0s\n",
      "[CV 5/5] END learning_rate=0.1, n_estimators=20;, score=0.613 total time=   0.0s\n",
      "[CV 1/5] END learning_rate=0.1, n_estimators=40;, score=0.694 total time=   0.0s\n",
      "[CV 2/5] END learning_rate=0.1, n_estimators=40;, score=0.653 total time=   0.0s\n",
      "[CV 3/5] END learning_rate=0.1, n_estimators=40;, score=0.681 total time=   0.0s\n",
      "[CV 4/5] END learning_rate=0.1, n_estimators=40;, score=0.669 total time=   0.0s\n",
      "[CV 5/5] END learning_rate=0.1, n_estimators=40;, score=0.653 total time=   0.0s\n",
      "[CV 1/5] END learning_rate=0.1, n_estimators=60;, score=0.706 total time=   0.0s\n",
      "[CV 2/5] END learning_rate=0.1, n_estimators=60;, score=0.656 total time=   0.0s\n",
      "[CV 3/5] END learning_rate=0.1, n_estimators=60;, score=0.697 total time=   0.0s\n",
      "[CV 4/5] END learning_rate=0.1, n_estimators=60;, score=0.677 total time=   0.0s\n",
      "[CV 5/5] END learning_rate=0.1, n_estimators=60;, score=0.664 total time=   0.0s\n",
      "[CV 1/5] END learning_rate=0.1, n_estimators=80;, score=0.713 total time=   0.1s\n",
      "[CV 2/5] END learning_rate=0.1, n_estimators=80;, score=0.654 total time=   0.0s\n",
      "[CV 3/5] END learning_rate=0.1, n_estimators=80;, score=0.704 total time=   0.1s\n",
      "[CV 4/5] END learning_rate=0.1, n_estimators=80;, score=0.685 total time=   0.0s\n",
      "[CV 5/5] END learning_rate=0.1, n_estimators=80;, score=0.665 total time=   0.0s\n",
      "[CV 1/5] END learning_rate=0.1, n_estimators=100;, score=0.714 total time=   0.1s\n",
      "[CV 2/5] END learning_rate=0.1, n_estimators=100;, score=0.657 total time=   0.1s\n",
      "[CV 3/5] END learning_rate=0.1, n_estimators=100;, score=0.705 total time=   0.1s\n",
      "[CV 4/5] END learning_rate=0.1, n_estimators=100;, score=0.691 total time=   0.1s\n",
      "[CV 5/5] END learning_rate=0.1, n_estimators=100;, score=0.664 total time=   0.1s\n",
      "[CV 1/5] END learning_rate=0.11, n_estimators=20;, score=0.661 total time=   0.0s\n",
      "[CV 2/5] END learning_rate=0.11, n_estimators=20;, score=0.622 total time=   0.0s\n",
      "[CV 3/5] END learning_rate=0.11, n_estimators=20;, score=0.654 total time=   0.0s\n",
      "[CV 4/5] END learning_rate=0.11, n_estimators=20;, score=0.624 total time=   0.0s\n",
      "[CV 5/5] END learning_rate=0.11, n_estimators=20;, score=0.615 total time=   0.0s\n",
      "[CV 1/5] END learning_rate=0.11, n_estimators=40;, score=0.701 total time=   0.0s\n",
      "[CV 2/5] END learning_rate=0.11, n_estimators=40;, score=0.646 total time=   0.0s\n",
      "[CV 3/5] END learning_rate=0.11, n_estimators=40;, score=0.693 total time=   0.0s\n",
      "[CV 4/5] END learning_rate=0.11, n_estimators=40;, score=0.680 total time=   0.0s\n",
      "[CV 5/5] END learning_rate=0.11, n_estimators=40;, score=0.659 total time=   0.0s\n",
      "[CV 1/5] END learning_rate=0.11, n_estimators=60;, score=0.709 total time=   0.0s\n",
      "[CV 2/5] END learning_rate=0.11, n_estimators=60;, score=0.649 total time=   0.0s\n",
      "[CV 3/5] END learning_rate=0.11, n_estimators=60;, score=0.707 total time=   0.0s\n",
      "[CV 4/5] END learning_rate=0.11, n_estimators=60;, score=0.687 total time=   0.0s\n",
      "[CV 5/5] END learning_rate=0.11, n_estimators=60;, score=0.669 total time=   0.0s\n",
      "[CV 1/5] END learning_rate=0.11, n_estimators=80;, score=0.713 total time=   0.0s\n",
      "[CV 2/5] END learning_rate=0.11, n_estimators=80;, score=0.651 total time=   0.1s\n",
      "[CV 3/5] END learning_rate=0.11, n_estimators=80;, score=0.711 total time=   0.0s\n",
      "[CV 4/5] END learning_rate=0.11, n_estimators=80;, score=0.694 total time=   0.0s\n",
      "[CV 5/5] END learning_rate=0.11, n_estimators=80;, score=0.670 total time=   0.0s\n",
      "[CV 1/5] END learning_rate=0.11, n_estimators=100;, score=0.714 total time=   0.1s\n",
      "[CV 2/5] END learning_rate=0.11, n_estimators=100;, score=0.652 total time=   0.1s\n",
      "[CV 3/5] END learning_rate=0.11, n_estimators=100;, score=0.716 total time=   0.1s\n",
      "[CV 4/5] END learning_rate=0.11, n_estimators=100;, score=0.692 total time=   0.1s\n",
      "[CV 5/5] END learning_rate=0.11, n_estimators=100;, score=0.666 total time=   0.1s\n",
      "[CV 1/5] END learning_rate=0.12, n_estimators=20;, score=0.662 total time=   0.0s\n",
      "[CV 2/5] END learning_rate=0.12, n_estimators=20;, score=0.631 total time=   0.0s\n",
      "[CV 3/5] END learning_rate=0.12, n_estimators=20;, score=0.656 total time=   0.0s\n",
      "[CV 4/5] END learning_rate=0.12, n_estimators=20;, score=0.630 total time=   0.0s\n",
      "[CV 5/5] END learning_rate=0.12, n_estimators=20;, score=0.627 total time=   0.0s\n",
      "[CV 1/5] END learning_rate=0.12, n_estimators=40;, score=0.697 total time=   0.0s\n",
      "[CV 2/5] END learning_rate=0.12, n_estimators=40;, score=0.654 total time=   0.0s\n",
      "[CV 3/5] END learning_rate=0.12, n_estimators=40;, score=0.690 total time=   0.0s\n",
      "[CV 4/5] END learning_rate=0.12, n_estimators=40;, score=0.662 total time=   0.0s\n",
      "[CV 5/5] END learning_rate=0.12, n_estimators=40;, score=0.662 total time=   0.0s\n",
      "[CV 1/5] END learning_rate=0.12, n_estimators=60;, score=0.701 total time=   0.0s\n",
      "[CV 2/5] END learning_rate=0.12, n_estimators=60;, score=0.654 total time=   0.0s\n",
      "[CV 3/5] END learning_rate=0.12, n_estimators=60;, score=0.704 total time=   0.0s\n",
      "[CV 4/5] END learning_rate=0.12, n_estimators=60;, score=0.665 total time=   0.0s\n",
      "[CV 5/5] END learning_rate=0.12, n_estimators=60;, score=0.668 total time=   0.0s\n",
      "[CV 1/5] END learning_rate=0.12, n_estimators=80;, score=0.701 total time=   0.0s\n",
      "[CV 2/5] END learning_rate=0.12, n_estimators=80;, score=0.657 total time=   0.0s\n",
      "[CV 3/5] END learning_rate=0.12, n_estimators=80;, score=0.711 total time=   0.0s\n",
      "[CV 4/5] END learning_rate=0.12, n_estimators=80;, score=0.664 total time=   0.0s\n",
      "[CV 5/5] END learning_rate=0.12, n_estimators=80;, score=0.669 total time=   0.0s\n",
      "[CV 1/5] END learning_rate=0.12, n_estimators=100;, score=0.706 total time=   0.1s\n",
      "[CV 2/5] END learning_rate=0.12, n_estimators=100;, score=0.651 total time=   0.1s\n",
      "[CV 3/5] END learning_rate=0.12, n_estimators=100;, score=0.714 total time=   0.1s\n",
      "[CV 4/5] END learning_rate=0.12, n_estimators=100;, score=0.668 total time=   0.1s\n",
      "[CV 5/5] END learning_rate=0.12, n_estimators=100;, score=0.670 total time=   0.1s\n",
      "[CV 1/5] END learning_rate=0.13, n_estimators=20;, score=0.673 total time=   0.0s\n",
      "[CV 2/5] END learning_rate=0.13, n_estimators=20;, score=0.633 total time=   0.0s\n",
      "[CV 3/5] END learning_rate=0.13, n_estimators=20;, score=0.665 total time=   0.0s\n",
      "[CV 4/5] END learning_rate=0.13, n_estimators=20;, score=0.651 total time=   0.0s\n",
      "[CV 5/5] END learning_rate=0.13, n_estimators=20;, score=0.634 total time=   0.0s\n",
      "[CV 1/5] END learning_rate=0.13, n_estimators=40;, score=0.706 total time=   0.0s\n",
      "[CV 2/5] END learning_rate=0.13, n_estimators=40;, score=0.652 total time=   0.0s\n",
      "[CV 3/5] END learning_rate=0.13, n_estimators=40;, score=0.705 total time=   0.0s\n",
      "[CV 4/5] END learning_rate=0.13, n_estimators=40;, score=0.679 total time=   0.0s\n",
      "[CV 5/5] END learning_rate=0.13, n_estimators=40;, score=0.667 total time=   0.0s\n",
      "[CV 1/5] END learning_rate=0.13, n_estimators=60;, score=0.717 total time=   0.0s\n",
      "[CV 2/5] END learning_rate=0.13, n_estimators=60;, score=0.654 total time=   0.0s\n",
      "[CV 3/5] END learning_rate=0.13, n_estimators=60;, score=0.714 total time=   0.0s\n",
      "[CV 4/5] END learning_rate=0.13, n_estimators=60;, score=0.683 total time=   0.0s\n",
      "[CV 5/5] END learning_rate=0.13, n_estimators=60;, score=0.670 total time=   0.0s\n",
      "[CV 1/5] END learning_rate=0.13, n_estimators=80;, score=0.718 total time=   0.0s\n",
      "[CV 2/5] END learning_rate=0.13, n_estimators=80;, score=0.651 total time=   0.0s\n",
      "[CV 3/5] END learning_rate=0.13, n_estimators=80;, score=0.722 total time=   0.0s\n",
      "[CV 4/5] END learning_rate=0.13, n_estimators=80;, score=0.688 total time=   0.0s\n",
      "[CV 5/5] END learning_rate=0.13, n_estimators=80;, score=0.676 total time=   0.0s\n",
      "[CV 1/5] END learning_rate=0.13, n_estimators=100;, score=0.714 total time=   0.1s\n",
      "[CV 2/5] END learning_rate=0.13, n_estimators=100;, score=0.649 total time=   0.1s\n",
      "[CV 3/5] END learning_rate=0.13, n_estimators=100;, score=0.730 total time=   0.1s\n",
      "[CV 4/5] END learning_rate=0.13, n_estimators=100;, score=0.687 total time=   0.1s\n",
      "[CV 5/5] END learning_rate=0.13, n_estimators=100;, score=0.672 total time=   0.1s\n",
      "[CV 1/5] END learning_rate=0.14, n_estimators=20;, score=0.682 total time=   0.0s\n",
      "[CV 2/5] END learning_rate=0.14, n_estimators=20;, score=0.636 total time=   0.0s\n",
      "[CV 3/5] END learning_rate=0.14, n_estimators=20;, score=0.663 total time=   0.0s\n",
      "[CV 4/5] END learning_rate=0.14, n_estimators=20;, score=0.652 total time=   0.0s\n",
      "[CV 5/5] END learning_rate=0.14, n_estimators=20;, score=0.641 total time=   0.0s\n",
      "[CV 1/5] END learning_rate=0.14, n_estimators=40;, score=0.708 total time=   0.0s\n",
      "[CV 2/5] END learning_rate=0.14, n_estimators=40;, score=0.652 total time=   0.0s\n",
      "[CV 3/5] END learning_rate=0.14, n_estimators=40;, score=0.702 total time=   0.0s\n",
      "[CV 4/5] END learning_rate=0.14, n_estimators=40;, score=0.677 total time=   0.0s\n",
      "[CV 5/5] END learning_rate=0.14, n_estimators=40;, score=0.665 total time=   0.0s\n",
      "[CV 1/5] END learning_rate=0.14, n_estimators=60;, score=0.714 total time=   0.0s\n",
      "[CV 2/5] END learning_rate=0.14, n_estimators=60;, score=0.651 total time=   0.0s\n",
      "[CV 3/5] END learning_rate=0.14, n_estimators=60;, score=0.711 total time=   0.0s\n",
      "[CV 4/5] END learning_rate=0.14, n_estimators=60;, score=0.676 total time=   0.0s\n",
      "[CV 5/5] END learning_rate=0.14, n_estimators=60;, score=0.665 total time=   0.0s\n",
      "[CV 1/5] END learning_rate=0.14, n_estimators=80;, score=0.715 total time=   0.0s\n",
      "[CV 2/5] END learning_rate=0.14, n_estimators=80;, score=0.650 total time=   0.0s\n",
      "[CV 3/5] END learning_rate=0.14, n_estimators=80;, score=0.712 total time=   0.0s\n",
      "[CV 4/5] END learning_rate=0.14, n_estimators=80;, score=0.676 total time=   0.0s\n",
      "[CV 5/5] END learning_rate=0.14, n_estimators=80;, score=0.669 total time=   0.0s\n",
      "[CV 1/5] END learning_rate=0.14, n_estimators=100;, score=0.712 total time=   0.1s\n",
      "[CV 2/5] END learning_rate=0.14, n_estimators=100;, score=0.644 total time=   0.1s\n",
      "[CV 3/5] END learning_rate=0.14, n_estimators=100;, score=0.713 total time=   0.1s\n",
      "[CV 4/5] END learning_rate=0.14, n_estimators=100;, score=0.678 total time=   0.1s\n",
      "[CV 5/5] END learning_rate=0.14, n_estimators=100;, score=0.674 total time=   0.1s\n",
      "[CV 1/5] END learning_rate=0.15, n_estimators=20;, score=0.681 total time=   0.0s\n",
      "[CV 2/5] END learning_rate=0.15, n_estimators=20;, score=0.638 total time=   0.0s\n",
      "[CV 3/5] END learning_rate=0.15, n_estimators=20;, score=0.668 total time=   0.0s\n",
      "[CV 4/5] END learning_rate=0.15, n_estimators=20;, score=0.664 total time=   0.0s\n",
      "[CV 5/5] END learning_rate=0.15, n_estimators=20;, score=0.644 total time=   0.0s\n",
      "[CV 1/5] END learning_rate=0.15, n_estimators=40;, score=0.704 total time=   0.0s\n",
      "[CV 2/5] END learning_rate=0.15, n_estimators=40;, score=0.648 total time=   0.0s\n",
      "[CV 3/5] END learning_rate=0.15, n_estimators=40;, score=0.698 total time=   0.0s\n",
      "[CV 4/5] END learning_rate=0.15, n_estimators=40;, score=0.682 total time=   0.0s\n",
      "[CV 5/5] END learning_rate=0.15, n_estimators=40;, score=0.668 total time=   0.0s\n",
      "[CV 1/5] END learning_rate=0.15, n_estimators=60;, score=0.714 total time=   0.0s\n",
      "[CV 2/5] END learning_rate=0.15, n_estimators=60;, score=0.644 total time=   0.0s\n",
      "[CV 3/5] END learning_rate=0.15, n_estimators=60;, score=0.703 total time=   0.0s\n",
      "[CV 4/5] END learning_rate=0.15, n_estimators=60;, score=0.687 total time=   0.0s\n",
      "[CV 5/5] END learning_rate=0.15, n_estimators=60;, score=0.672 total time=   0.0s\n",
      "[CV 1/5] END learning_rate=0.15, n_estimators=80;, score=0.709 total time=   0.0s\n",
      "[CV 2/5] END learning_rate=0.15, n_estimators=80;, score=0.646 total time=   0.0s\n",
      "[CV 3/5] END learning_rate=0.15, n_estimators=80;, score=0.706 total time=   0.0s\n",
      "[CV 4/5] END learning_rate=0.15, n_estimators=80;, score=0.693 total time=   0.0s\n",
      "[CV 5/5] END learning_rate=0.15, n_estimators=80;, score=0.668 total time=   0.0s\n",
      "[CV 1/5] END learning_rate=0.15, n_estimators=100;, score=0.705 total time=   0.1s\n",
      "[CV 2/5] END learning_rate=0.15, n_estimators=100;, score=0.639 total time=   0.1s\n",
      "[CV 3/5] END learning_rate=0.15, n_estimators=100;, score=0.709 total time=   0.1s\n",
      "[CV 4/5] END learning_rate=0.15, n_estimators=100;, score=0.691 total time=   0.1s\n",
      "[CV 5/5] END learning_rate=0.15, n_estimators=100;, score=0.671 total time=   0.1s\n",
      "[CV 1/5] END learning_rate=0.16, n_estimators=20;, score=0.688 total time=   0.0s\n",
      "[CV 2/5] END learning_rate=0.16, n_estimators=20;, score=0.651 total time=   0.0s\n",
      "[CV 3/5] END learning_rate=0.16, n_estimators=20;, score=0.681 total time=   0.0s\n",
      "[CV 4/5] END learning_rate=0.16, n_estimators=20;, score=0.655 total time=   0.0s\n",
      "[CV 5/5] END learning_rate=0.16, n_estimators=20;, score=0.648 total time=   0.0s\n",
      "[CV 1/5] END learning_rate=0.16, n_estimators=40;, score=0.714 total time=   0.0s\n",
      "[CV 2/5] END learning_rate=0.16, n_estimators=40;, score=0.657 total time=   0.0s\n",
      "[CV 3/5] END learning_rate=0.16, n_estimators=40;, score=0.708 total time=   0.0s\n",
      "[CV 4/5] END learning_rate=0.16, n_estimators=40;, score=0.674 total time=   0.0s\n",
      "[CV 5/5] END learning_rate=0.16, n_estimators=40;, score=0.665 total time=   0.0s\n",
      "[CV 1/5] END learning_rate=0.16, n_estimators=60;, score=0.719 total time=   0.0s\n",
      "[CV 2/5] END learning_rate=0.16, n_estimators=60;, score=0.654 total time=   0.0s\n",
      "[CV 3/5] END learning_rate=0.16, n_estimators=60;, score=0.708 total time=   0.0s\n",
      "[CV 4/5] END learning_rate=0.16, n_estimators=60;, score=0.674 total time=   0.0s\n",
      "[CV 5/5] END learning_rate=0.16, n_estimators=60;, score=0.664 total time=   0.0s\n",
      "[CV 1/5] END learning_rate=0.16, n_estimators=80;, score=0.720 total time=   0.0s\n",
      "[CV 2/5] END learning_rate=0.16, n_estimators=80;, score=0.654 total time=   0.0s\n",
      "[CV 3/5] END learning_rate=0.16, n_estimators=80;, score=0.720 total time=   0.0s\n",
      "[CV 4/5] END learning_rate=0.16, n_estimators=80;, score=0.678 total time=   0.0s\n",
      "[CV 5/5] END learning_rate=0.16, n_estimators=80;, score=0.665 total time=   0.0s\n",
      "[CV 1/5] END learning_rate=0.16, n_estimators=100;, score=0.721 total time=   0.1s\n",
      "[CV 2/5] END learning_rate=0.16, n_estimators=100;, score=0.647 total time=   0.1s\n",
      "[CV 3/5] END learning_rate=0.16, n_estimators=100;, score=0.720 total time=   0.1s\n",
      "[CV 4/5] END learning_rate=0.16, n_estimators=100;, score=0.682 total time=   0.1s\n",
      "[CV 5/5] END learning_rate=0.16, n_estimators=100;, score=0.666 total time=   0.1s\n",
      "[CV 1/5] END learning_rate=0.17, n_estimators=20;, score=0.688 total time=   0.0s\n",
      "[CV 2/5] END learning_rate=0.17, n_estimators=20;, score=0.651 total time=   0.0s\n",
      "[CV 3/5] END learning_rate=0.17, n_estimators=20;, score=0.677 total time=   0.0s\n",
      "[CV 4/5] END learning_rate=0.17, n_estimators=20;, score=0.663 total time=   0.0s\n",
      "[CV 5/5] END learning_rate=0.17, n_estimators=20;, score=0.647 total time=   0.0s\n",
      "[CV 1/5] END learning_rate=0.17, n_estimators=40;, score=0.714 total time=   0.0s\n",
      "[CV 2/5] END learning_rate=0.17, n_estimators=40;, score=0.659 total time=   0.0s\n",
      "[CV 3/5] END learning_rate=0.17, n_estimators=40;, score=0.699 total time=   0.0s\n",
      "[CV 4/5] END learning_rate=0.17, n_estimators=40;, score=0.676 total time=   0.0s\n",
      "[CV 5/5] END learning_rate=0.17, n_estimators=40;, score=0.667 total time=   0.0s\n",
      "[CV 1/5] END learning_rate=0.17, n_estimators=60;, score=0.712 total time=   0.0s\n",
      "[CV 2/5] END learning_rate=0.17, n_estimators=60;, score=0.658 total time=   0.0s\n",
      "[CV 3/5] END learning_rate=0.17, n_estimators=60;, score=0.706 total time=   0.0s\n",
      "[CV 4/5] END learning_rate=0.17, n_estimators=60;, score=0.669 total time=   0.0s\n",
      "[CV 5/5] END learning_rate=0.17, n_estimators=60;, score=0.668 total time=   0.0s\n",
      "[CV 1/5] END learning_rate=0.17, n_estimators=80;, score=0.712 total time=   0.0s\n",
      "[CV 2/5] END learning_rate=0.17, n_estimators=80;, score=0.648 total time=   0.1s\n",
      "[CV 3/5] END learning_rate=0.17, n_estimators=80;, score=0.716 total time=   0.1s\n",
      "[CV 4/5] END learning_rate=0.17, n_estimators=80;, score=0.681 total time=   0.1s\n",
      "[CV 5/5] END learning_rate=0.17, n_estimators=80;, score=0.668 total time=   0.1s\n",
      "[CV 1/5] END learning_rate=0.17, n_estimators=100;, score=0.711 total time=   0.1s\n",
      "[CV 2/5] END learning_rate=0.17, n_estimators=100;, score=0.645 total time=   0.1s\n",
      "[CV 3/5] END learning_rate=0.17, n_estimators=100;, score=0.722 total time=   0.1s\n",
      "[CV 4/5] END learning_rate=0.17, n_estimators=100;, score=0.682 total time=   0.1s\n",
      "[CV 5/5] END learning_rate=0.17, n_estimators=100;, score=0.665 total time=   0.1s\n",
      "[CV 1/5] END learning_rate=0.18, n_estimators=20;, score=0.689 total time=   0.0s\n",
      "[CV 2/5] END learning_rate=0.18, n_estimators=20;, score=0.637 total time=   0.0s\n",
      "[CV 3/5] END learning_rate=0.18, n_estimators=20;, score=0.686 total time=   0.0s\n",
      "[CV 4/5] END learning_rate=0.18, n_estimators=20;, score=0.655 total time=   0.0s\n",
      "[CV 5/5] END learning_rate=0.18, n_estimators=20;, score=0.648 total time=   0.0s\n",
      "[CV 1/5] END learning_rate=0.18, n_estimators=40;, score=0.711 total time=   0.0s\n",
      "[CV 2/5] END learning_rate=0.18, n_estimators=40;, score=0.645 total time=   0.0s\n",
      "[CV 3/5] END learning_rate=0.18, n_estimators=40;, score=0.706 total time=   0.0s\n",
      "[CV 4/5] END learning_rate=0.18, n_estimators=40;, score=0.669 total time=   0.0s\n",
      "[CV 5/5] END learning_rate=0.18, n_estimators=40;, score=0.664 total time=   0.0s\n",
      "[CV 1/5] END learning_rate=0.18, n_estimators=60;, score=0.714 total time=   0.0s\n",
      "[CV 2/5] END learning_rate=0.18, n_estimators=60;, score=0.645 total time=   0.0s\n",
      "[CV 3/5] END learning_rate=0.18, n_estimators=60;, score=0.704 total time=   0.0s\n",
      "[CV 4/5] END learning_rate=0.18, n_estimators=60;, score=0.667 total time=   0.0s\n",
      "[CV 5/5] END learning_rate=0.18, n_estimators=60;, score=0.670 total time=   0.0s\n",
      "[CV 1/5] END learning_rate=0.18, n_estimators=80;, score=0.713 total time=   0.0s\n",
      "[CV 2/5] END learning_rate=0.18, n_estimators=80;, score=0.634 total time=   0.0s\n",
      "[CV 3/5] END learning_rate=0.18, n_estimators=80;, score=0.707 total time=   0.0s\n",
      "[CV 4/5] END learning_rate=0.18, n_estimators=80;, score=0.673 total time=   0.0s\n",
      "[CV 5/5] END learning_rate=0.18, n_estimators=80;, score=0.674 total time=   0.0s\n",
      "[CV 1/5] END learning_rate=0.18, n_estimators=100;, score=0.705 total time=   0.1s\n",
      "[CV 2/5] END learning_rate=0.18, n_estimators=100;, score=0.624 total time=   0.1s\n",
      "[CV 3/5] END learning_rate=0.18, n_estimators=100;, score=0.705 total time=   0.1s\n",
      "[CV 4/5] END learning_rate=0.18, n_estimators=100;, score=0.665 total time=   0.1s\n",
      "[CV 5/5] END learning_rate=0.18, n_estimators=100;, score=0.663 total time=   0.1s\n",
      "[CV 1/5] END learning_rate=0.19, n_estimators=20;, score=0.696 total time=   0.0s\n",
      "[CV 2/5] END learning_rate=0.19, n_estimators=20;, score=0.649 total time=   0.0s\n",
      "[CV 3/5] END learning_rate=0.19, n_estimators=20;, score=0.686 total time=   0.0s\n",
      "[CV 4/5] END learning_rate=0.19, n_estimators=20;, score=0.666 total time=   0.0s\n",
      "[CV 5/5] END learning_rate=0.19, n_estimators=20;, score=0.649 total time=   0.0s\n",
      "[CV 1/5] END learning_rate=0.19, n_estimators=40;, score=0.712 total time=   0.0s\n",
      "[CV 2/5] END learning_rate=0.19, n_estimators=40;, score=0.653 total time=   0.0s\n",
      "[CV 3/5] END learning_rate=0.19, n_estimators=40;, score=0.709 total time=   0.0s\n",
      "[CV 4/5] END learning_rate=0.19, n_estimators=40;, score=0.686 total time=   0.0s\n",
      "[CV 5/5] END learning_rate=0.19, n_estimators=40;, score=0.660 total time=   0.0s\n",
      "[CV 1/5] END learning_rate=0.19, n_estimators=60;, score=0.712 total time=   0.0s\n",
      "[CV 2/5] END learning_rate=0.19, n_estimators=60;, score=0.652 total time=   0.0s\n",
      "[CV 3/5] END learning_rate=0.19, n_estimators=60;, score=0.716 total time=   0.0s\n",
      "[CV 4/5] END learning_rate=0.19, n_estimators=60;, score=0.689 total time=   0.0s\n",
      "[CV 5/5] END learning_rate=0.19, n_estimators=60;, score=0.655 total time=   0.0s\n",
      "[CV 1/5] END learning_rate=0.19, n_estimators=80;, score=0.709 total time=   0.0s\n",
      "[CV 2/5] END learning_rate=0.19, n_estimators=80;, score=0.644 total time=   0.0s\n",
      "[CV 3/5] END learning_rate=0.19, n_estimators=80;, score=0.717 total time=   0.0s\n",
      "[CV 4/5] END learning_rate=0.19, n_estimators=80;, score=0.690 total time=   0.0s\n",
      "[CV 5/5] END learning_rate=0.19, n_estimators=80;, score=0.659 total time=   0.0s\n",
      "[CV 1/5] END learning_rate=0.19, n_estimators=100;, score=0.707 total time=   0.1s\n",
      "[CV 2/5] END learning_rate=0.19, n_estimators=100;, score=0.637 total time=   0.1s\n",
      "[CV 3/5] END learning_rate=0.19, n_estimators=100;, score=0.719 total time=   0.1s\n",
      "[CV 4/5] END learning_rate=0.19, n_estimators=100;, score=0.692 total time=   0.1s\n",
      "[CV 5/5] END learning_rate=0.19, n_estimators=100;, score=0.660 total time=   0.1s\n",
      "[CV 1/5] END learning_rate=0.2, n_estimators=20;, score=0.694 total time=   0.0s\n",
      "[CV 2/5] END learning_rate=0.2, n_estimators=20;, score=0.653 total time=   0.0s\n",
      "[CV 3/5] END learning_rate=0.2, n_estimators=20;, score=0.701 total time=   0.0s\n",
      "[CV 4/5] END learning_rate=0.2, n_estimators=20;, score=0.676 total time=   0.0s\n",
      "[CV 5/5] END learning_rate=0.2, n_estimators=20;, score=0.661 total time=   0.0s\n",
      "[CV 1/5] END learning_rate=0.2, n_estimators=40;, score=0.706 total time=   0.0s\n",
      "[CV 2/5] END learning_rate=0.2, n_estimators=40;, score=0.659 total time=   0.0s\n",
      "[CV 3/5] END learning_rate=0.2, n_estimators=40;, score=0.719 total time=   0.0s\n",
      "[CV 4/5] END learning_rate=0.2, n_estimators=40;, score=0.689 total time=   0.0s\n",
      "[CV 5/5] END learning_rate=0.2, n_estimators=40;, score=0.670 total time=   0.0s\n",
      "[CV 1/5] END learning_rate=0.2, n_estimators=60;, score=0.705 total time=   0.0s\n",
      "[CV 2/5] END learning_rate=0.2, n_estimators=60;, score=0.651 total time=   0.0s\n",
      "[CV 3/5] END learning_rate=0.2, n_estimators=60;, score=0.726 total time=   0.0s\n",
      "[CV 4/5] END learning_rate=0.2, n_estimators=60;, score=0.697 total time=   0.0s\n",
      "[CV 5/5] END learning_rate=0.2, n_estimators=60;, score=0.673 total time=   0.0s\n",
      "[CV 1/5] END learning_rate=0.2, n_estimators=80;, score=0.696 total time=   0.0s\n",
      "[CV 2/5] END learning_rate=0.2, n_estimators=80;, score=0.645 total time=   0.0s\n",
      "[CV 3/5] END learning_rate=0.2, n_estimators=80;, score=0.731 total time=   0.0s\n",
      "[CV 4/5] END learning_rate=0.2, n_estimators=80;, score=0.698 total time=   0.0s\n",
      "[CV 5/5] END learning_rate=0.2, n_estimators=80;, score=0.681 total time=   0.0s\n",
      "[CV 1/5] END learning_rate=0.2, n_estimators=100;, score=0.701 total time=   0.1s\n",
      "[CV 2/5] END learning_rate=0.2, n_estimators=100;, score=0.637 total time=   0.1s\n",
      "[CV 3/5] END learning_rate=0.2, n_estimators=100;, score=0.734 total time=   0.1s\n",
      "[CV 4/5] END learning_rate=0.2, n_estimators=100;, score=0.693 total time=   0.1s\n",
      "[CV 5/5] END learning_rate=0.2, n_estimators=100;, score=0.667 total time=   0.1s\n",
      "Wall time: 31.4 s\n"
     ]
    },
    {
     "data": {
      "text/plain": [
       "GridSearchCV(cv=5, estimator=GradientBoostingRegressor(),\n",
       "             param_grid={'learning_rate': [0.1, 0.11, 0.12, 0.13, 0.14, 0.15,\n",
       "                                           0.16, 0.17, 0.18, 0.19, 0.2],\n",
       "                         'n_estimators': [20, 40, 60, 80, 100]},\n",
       "             verbose=5)"
      ]
     },
     "execution_count": 59,
     "metadata": {},
     "output_type": "execute_result"
    }
   ],
   "source": [
    "%%time\n",
    "\n",
    "# On entraine la fonction\n",
    "grid_search_xg.fit(X_train, y_train)\n"
   ]
  },
  {
   "cell_type": "code",
   "execution_count": 60,
   "id": "12d85299",
   "metadata": {},
   "outputs": [
    {
     "name": "stdout",
     "output_type": "stream",
     "text": [
      "Le meilleur score avec les hyperparamètres est de :  0.6909315414914252\n",
      "Les meilleurs hyperparamètres sont :  {'learning_rate': 0.13, 'n_estimators': 80}\n"
     ]
    }
   ],
   "source": [
    "# Obtenir le meilleur score selon nos choix d'hyperparamètres\n",
    "print('Le meilleur score avec les hyperparamètres est de : ',grid_search_xg.best_score_)\n",
    "\n",
    "# Connaître les meilleurs paramètres\n",
    "print('Les meilleurs hyperparamètres sont : ',grid_search_xg.best_params_)"
   ]
  },
  {
   "cell_type": "markdown",
   "id": "4d427184",
   "metadata": {},
   "source": [
    "Dans notre optimisation, nous confirmons que notre modèle a une tendance à l'overfitting. Il sera important de déterminer le rôle des variables que nous avons afin d'en confirmer notre hypothèse.\n",
    "\n",
    "Dans le cadre de la prédiction de la consommation, il est préférable de conserver les paramètres que nous avons incorporé au moment de la création de notre modèle voir de conserver les paramètres par défauts."
   ]
  },
  {
   "cell_type": "markdown",
   "id": "7cef2a3b",
   "metadata": {},
   "source": [
    "### 3. Analyse de l'apport des variables sur nos modèles"
   ]
  },
  {
   "cell_type": "code",
   "execution_count": 61,
   "id": "4783abeb",
   "metadata": {},
   "outputs": [],
   "source": [
    "explainer = shap.TreeExplainer(model6)\n",
    "\n",
    "row_to_show = 5\n",
    "data_for_prediction = X_test.iloc[row_to_show]  # use 1 row of data here. Could use multiple rows if desired\n",
    "data_for_prediction_array = data_for_prediction.values.reshape(1, -1)\n",
    "\n",
    "# Création de la donnée shap values\n",
    "shap_values = explainer(X_train)\n"
   ]
  },
  {
   "cell_type": "code",
   "execution_count": 62,
   "id": "b559ac39",
   "metadata": {},
   "outputs": [
    {
     "data": {
      "image/png": "[encoded data removed]",
      "text/plain": [
       "<Figure size 576x468 with 1 Axes>"
      ]
     },
     "metadata": {},
     "output_type": "display_data"
    }
   ],
   "source": [
    "#Moyenne SHAP\n",
    "shap.plots.bar(shap_values)"
   ]
  },
  {
   "cell_type": "markdown",
   "id": "4f520457",
   "metadata": {},
   "source": [
    "Dans l'analyse de nos variables, nous pouvons constater que 4 données apportent la grande majorité du score obtenu dans notre projet tandis que les autres variables ont un apport assez faible dans notre prédiction.\n",
    "\n",
    "Nous pouvons ici confirmer que le modèle a subi un surajustement à travers un grand nombre de variables ayant un impact faible dans notre projet."
   ]
  },
  {
   "cell_type": "markdown",
   "id": "17926d0a",
   "metadata": {},
   "source": [
    "# Conclusion"
   ]
  },
  {
   "cell_type": "markdown",
   "id": "0134322e",
   "metadata": {},
   "source": [
    "Dans le cadre de notre projet, le but étant de pouvoir prédire la consommation de CO2 mais aussi d'énergie pour les logements afin de répondre à un critères de neutralité carbone d'ici 2050.\n",
    "\n",
    "Nous constatons que plusieurs modélisations ont lieu et que notre score maximale tourne autour de 0.73, ce qui reste cohérent pour notre première phase de modélisation. Notre modèle présente une situation de surapprentissage qui sera simplement corrigé par la sélection des paramètres standards dans le cadre de notre projet.\n",
    "\n",
    "Certaines variables ont un apport faible dans notre modélisation tandis que seuls quelques données ont un apport permettant l'amélioration de notre modèle.\n",
    "\n",
    "Sur les modèles testés, nous avons utilisé deux possibilités. A savoir, les modèles linéaires standards (régression linéaire par exemple) mais aussi les modèles ensemblistes (XGBoost par exemple). Ces derniers ont tendance à donner de meilleurs résultats pour notre problématique.\n",
    "\n",
    "Il est important de signaler que nos modèles sont entraînés à travers des données identiques.\n",
    "Nous remarquons que les données du modèle ne peuvent correspondre parfaitement à nos deux problématiques.\n",
    "\n",
    "Enfin, nous pouvons constater que certaines données ou informations sont absentes et auraient permis une amélioration de notre connaissance des immeubles mais aussi une amélioration de notre modèle tels que le niveau de rénovation des immeubles (date et nature des travaux) mais également des données liées à l'isolation des immeubles."
   ]
  },
  {
   "cell_type": "code",
   "execution_count": null,
   "id": "42a4fb2f",
   "metadata": {},
   "outputs": [],
   "source": []
  }
 ],
 "metadata": {
  "kernelspec": {
   "display_name": "Python 3 (ipykernel)",
   "language": "python",
   "name": "python3"
  },
  "language_info": {
   "codemirror_mode": {
    "name": "ipython",
    "version": 3
   },
   "file_extension": ".py",
   "mimetype": "text/x-python",
   "name": "python",
   "nbconvert_exporter": "python",
   "pygments_lexer": "ipython3",
   "version": "3.9.7"
  }
 },
 "nbformat": 4,
 "nbformat_minor": 5
}
