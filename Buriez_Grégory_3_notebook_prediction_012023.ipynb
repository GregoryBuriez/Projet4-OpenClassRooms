{
 "cells": [
  {
   "cell_type": "markdown",
   "id": "3c457d32",
   "metadata": {},
   "source": [
    "# PROJET 4 : Anticipez les besoins en consommation de bâtiments"
   ]
  },
  {
   "cell_type": "markdown",
   "id": "1063fdea",
   "metadata": {},
   "source": [
    "Vous travaillez pour la ville de Seattle. Pour atteindre son objectif de ville neutre en émissions de carbone en 2050, votre équipe s’intéresse de près à la consommation et aux émissions des bâtiments non destinés à l’habitation.\n",
    "\n",
    "\n",
    "Des relevés minutieux ont été effectués par les agents de la ville en 2016. Voici les données et leur source. Cependant, ces relevés sont coûteux à obtenir, et à partir de ceux déjà réalisés, vous voulez tenter de prédire les émissions de CO2 et la consommation totale d’énergie de bâtiments non destinés à l’habitation pour lesquels elles n’ont pas encore été mesurées.\n",
    "\n",
    "Votre prédiction se basera sur les données structurelles des bâtiments (taille et usage des bâtiments, date de construction, situation géographique, ...)\n",
    "\n",
    "Vous cherchez également à évaluer l’intérêt de l’\"ENERGY STAR Score\" pour la prédiction d’émissions, qui est fastidieux à calculer avec l’approche utilisée actuellement par votre équipe. Vous l'intégrerez dans la modélisation et jugerez de son intérêt.\n",
    "\n",
    "Vous sortez tout juste d’une réunion de brief avec votre équipe. Voici un récapitulatif de votre mission :\n",
    "\n",
    "Réaliser une courte analyse exploratoire.\n",
    "Tester différents modèles de prédiction afin de répondre au mieux à la problématique.\n",
    "Avant de quitter la salle de brief, Douglas, le project lead, vous donne quelques pistes et erreurs à éviter :\n",
    "\n",
    "\"\"Douglas : L’objectif est de te passer des relevés de consommation annuels futurs (attention à la fuite de données). Nous ferons de toute façon pour tout nouveau bâtiment un premier relevé de référence la première année, donc rien ne t'interdit d’en déduire des variables structurelles aux bâtiments, par exemple la nature et proportions des sources d’énergie utilisées.. \n",
    "\n",
    "Fais bien attention au traitement des différentes variables, à la fois pour trouver de nouvelles informations (peut-on déduire des choses intéressantes d’une simple adresse ?) et optimiser les performances en appliquant des transformations simples aux variables (normalisation, passage au log, etc.).\n",
    "\n",
    "Mets en place une évaluation rigoureuse des performances de la régression, et optimise les hyperparamètres et le choix d’algorithmes de ML à l’aide d’une validation croisée.\"\""
   ]
  },
  {
   "cell_type": "markdown",
   "id": "6811bcd8",
   "metadata": {},
   "source": [
    "# Sommaire\n",
    "\n",
    "## I. Importation des données\n",
    "\n",
    "### 1. Importation des bibliothèques\n",
    "### 2. Importation du fichier\n",
    "\n",
    "## II. Préparation du jeu de données\n",
    "\n",
    "### 1. Séparation du jeu de données\n",
    "### 2. Encodage et standardisation\n",
    "\n",
    "\n",
    "## III. Modélisation\n",
    "\n",
    "### 1. Régression Linéaire\n",
    "\n",
    "###     Analyse des régulateurs\n",
    "##### a. Regression Ridge\n",
    "##### b. Lasso\n",
    "\n",
    "### 2. Arbre de décisions\n",
    "\n",
    "### 3. XGBoost\n",
    "\n",
    "### 4. Support Vector Regression\n",
    "\n",
    "### 5. Random Forest\n",
    "\n",
    "## IV. Analyse des modélisations\n",
    "\n",
    "### 1. Analyse des résultats\n",
    "### 2. Analyse de l'apport des variables sur nos modèles\n",
    "\n",
    "\n",
    "## V Modélisation avec la variable ENERGYSTAR Score\n",
    "\n",
    "### 1. Séparation du jeu de données\n",
    "### 2. Encodage et standardisation\n",
    "\n",
    "### 3. XGBoost\n",
    "### 4. Random Forest\n",
    "\n",
    "\n",
    "## IV. Analyse des modélisations\n",
    "\n",
    "### 1.Analyse des résultats\n",
    "### 2.Analyse de l'apport des variables sur nos modèles\n",
    "\n",
    "## V. Modélisation avec la variable ENERGYSTAR Score\n",
    "\n",
    "### 1. XGBoost\n",
    "### 2. Random Forest\n",
    "\n",
    "### 3. Analyse des résultats\n",
    "\n",
    "## Optimisation de notre modèle\n",
    "\n",
    "### 1. Cross Validation\n",
    "### 2. GridSearchCV\n",
    "### 3. Analyse de l'apport des variables sur nos modèles"
   ]
  },
  {
   "cell_type": "markdown",
   "id": "68a5b47d",
   "metadata": {},
   "source": [
    "# "
   ]
  },
  {
   "cell_type": "markdown",
   "id": "81e05fcf",
   "metadata": {},
   "source": [
    "## I. Importation des données"
   ]
  },
  {
   "cell_type": "markdown",
   "id": "023ca159",
   "metadata": {},
   "source": [
    "### 1. Importation des bibliothèques"
   ]
  },
  {
   "cell_type": "code",
   "execution_count": 1,
   "id": "340e408c",
   "metadata": {},
   "outputs": [],
   "source": [
    "# Importation bibliothèque\n",
    "\n",
    "import numpy as np\n",
    "import pandas as pd\n",
    "import matplotlib.pyplot as plt\n",
    "import seaborn as sns\n",
    "import missingno as msno\n",
    "import time\n",
    "import shap\n",
    "import warnings\n",
    "warnings.filterwarnings('ignore')\n",
    "\n",
    "\n",
    "# Preprocessing\n",
    "from sklearn.preprocessing import StandardScaler, OneHotEncoder,OrdinalEncoder\n",
    "from sklearn.pipeline import Pipeline\n",
    "from sklearn.compose import ColumnTransformer\n",
    "from sklearn.feature_selection import VarianceThreshold\n",
    "\n",
    "\n",
    "# Séparation du jeu de données\n",
    "from sklearn.model_selection import train_test_split\n",
    "\n",
    "# Modélisation\n",
    "from sklearn.linear_model import LinearRegression\n",
    "from sklearn import linear_model\n",
    "\n",
    "from sklearn import tree\n",
    "from sklearn.tree import DecisionTreeRegressor\n",
    "from sklearn.tree import plot_tree\n",
    "\n",
    "from sklearn.ensemble import GradientBoostingRegressor\n",
    "\n",
    "from sklearn.svm import SVR\n",
    "from sklearn.svm import SVC\n",
    "\n",
    "from sklearn.ensemble import RandomForestRegressor\n",
    "from sklearn.compose import TransformedTargetRegressor\n",
    "\n",
    "# Mesures de performances\n",
    "from sklearn.metrics import *\n",
    "from sklearn import metrics\n",
    "from sklearn.metrics import r2_score \n",
    "from sklearn.metrics import mean_squared_error\n",
    "\n",
    "# Tests avec un régulateur pour la Régression Linéaire\n",
    "from sklearn.linear_model import Ridge\n",
    "from sklearn.linear_model import Lasso\n",
    "from sklearn.linear_model import ElasticNet\n",
    "\n",
    "# Optimisation du modèle\n",
    "from sklearn.model_selection import cross_val_score\n",
    "from sklearn.model_selection import validation_curve\n",
    "from sklearn.model_selection import GridSearchCV\n"
   ]
  },
  {
   "cell_type": "code",
   "execution_count": 2,
   "id": "f7e08391",
   "metadata": {},
   "outputs": [],
   "source": [
    "start = time.perf_counter()\n",
    "\n",
    "end = time.perf_counter()"
   ]
  },
  {
   "cell_type": "markdown",
   "id": "44a2b448",
   "metadata": {},
   "source": [
    "### 2. Importation du fichier"
   ]
  },
  {
   "cell_type": "code",
   "execution_count": 3,
   "id": "3c6160eb",
   "metadata": {},
   "outputs": [
    {
     "data": {
      "text/html": [
       "<div>\n",
       "<style scoped>\n",
       "    .dataframe tbody tr th:only-of-type {\n",
       "        vertical-align: middle;\n",
       "    }\n",
       "\n",
       "    .dataframe tbody tr th {\n",
       "        vertical-align: top;\n",
       "    }\n",
       "\n",
       "    .dataframe thead th {\n",
       "        text-align: right;\n",
       "    }\n",
       "</style>\n",
       "<table border=\"1\" class=\"dataframe\">\n",
       "  <thead>\n",
       "    <tr style=\"text-align: right;\">\n",
       "      <th></th>\n",
       "      <th>NumberofBuildings</th>\n",
       "      <th>NumberofFloors</th>\n",
       "      <th>Neighborhood</th>\n",
       "      <th>PropertyGFAParking</th>\n",
       "      <th>SteamUse(kBtu)</th>\n",
       "      <th>%_stream</th>\n",
       "      <th>BuildingType</th>\n",
       "      <th>PrimaryPropertyType</th>\n",
       "      <th>ENERGYSTARScore</th>\n",
       "      <th>GHGEmissionsIntensity</th>\n",
       "      <th>...</th>\n",
       "      <th>%_elec</th>\n",
       "      <th>%_gaz</th>\n",
       "      <th>SiteEUIWN(kBtu/sf)</th>\n",
       "      <th>SourceEUIWN(kBtu/sf)</th>\n",
       "      <th>Electricity(kBtu)</th>\n",
       "      <th>NaturalGas(kBtu)</th>\n",
       "      <th>PropertyGFATotal</th>\n",
       "      <th>PropertyGFABuilding(s)</th>\n",
       "      <th>SiteEnergyUse(kBtu)</th>\n",
       "      <th>TotalGHGEmissions</th>\n",
       "    </tr>\n",
       "  </thead>\n",
       "  <tbody>\n",
       "    <tr>\n",
       "      <th>0</th>\n",
       "      <td>0.693147</td>\n",
       "      <td>1.386294</td>\n",
       "      <td>GREATER DUWAMISH</td>\n",
       "      <td>0.000000</td>\n",
       "      <td>0.000000</td>\n",
       "      <td>0.000000</td>\n",
       "      <td>NonResidential</td>\n",
       "      <td>Other</td>\n",
       "      <td>NaN</td>\n",
       "      <td>0.0000</td>\n",
       "      <td>...</td>\n",
       "      <td>1.000006</td>\n",
       "      <td>0.000000</td>\n",
       "      <td>2.348269</td>\n",
       "      <td>3.001293</td>\n",
       "      <td>10.691177</td>\n",
       "      <td>0.000000</td>\n",
       "      <td>10.228863</td>\n",
       "      <td>10.228863</td>\n",
       "      <td>11.498627</td>\n",
       "      <td>0.269615</td>\n",
       "    </tr>\n",
       "    <tr>\n",
       "      <th>1</th>\n",
       "      <td>0.693147</td>\n",
       "      <td>1.386294</td>\n",
       "      <td>DOWNTOWN</td>\n",
       "      <td>0.000000</td>\n",
       "      <td>0.000000</td>\n",
       "      <td>0.000000</td>\n",
       "      <td>NonResidential</td>\n",
       "      <td>Office</td>\n",
       "      <td>NaN</td>\n",
       "      <td>0.0000</td>\n",
       "      <td>...</td>\n",
       "      <td>0.999979</td>\n",
       "      <td>0.000000</td>\n",
       "      <td>2.348269</td>\n",
       "      <td>3.001293</td>\n",
       "      <td>10.691177</td>\n",
       "      <td>0.000000</td>\n",
       "      <td>10.963376</td>\n",
       "      <td>10.963376</td>\n",
       "      <td>11.498627</td>\n",
       "      <td>0.269615</td>\n",
       "    </tr>\n",
       "    <tr>\n",
       "      <th>2</th>\n",
       "      <td>0.693147</td>\n",
       "      <td>1.386294</td>\n",
       "      <td>DOWNTOWN</td>\n",
       "      <td>0.000000</td>\n",
       "      <td>0.000000</td>\n",
       "      <td>0.000000</td>\n",
       "      <td>NonResidential</td>\n",
       "      <td>Other</td>\n",
       "      <td>NaN</td>\n",
       "      <td>0.0100</td>\n",
       "      <td>...</td>\n",
       "      <td>1.000011</td>\n",
       "      <td>0.000000</td>\n",
       "      <td>2.348269</td>\n",
       "      <td>3.001293</td>\n",
       "      <td>10.698627</td>\n",
       "      <td>0.000000</td>\n",
       "      <td>10.814987</td>\n",
       "      <td>10.814987</td>\n",
       "      <td>11.498627</td>\n",
       "      <td>0.270027</td>\n",
       "    </tr>\n",
       "    <tr>\n",
       "      <th>3</th>\n",
       "      <td>0.693147</td>\n",
       "      <td>1.386294</td>\n",
       "      <td>MAGNOLIA / QUEEN ANNE</td>\n",
       "      <td>0.000000</td>\n",
       "      <td>0.000000</td>\n",
       "      <td>0.000000</td>\n",
       "      <td>NonResidential</td>\n",
       "      <td>Warehouse</td>\n",
       "      <td>NaN</td>\n",
       "      <td>0.0100</td>\n",
       "      <td>...</td>\n",
       "      <td>0.999997</td>\n",
       "      <td>0.000000</td>\n",
       "      <td>2.348269</td>\n",
       "      <td>3.001293</td>\n",
       "      <td>10.953155</td>\n",
       "      <td>0.000000</td>\n",
       "      <td>10.595459</td>\n",
       "      <td>10.595459</td>\n",
       "      <td>11.498627</td>\n",
       "      <td>0.336472</td>\n",
       "    </tr>\n",
       "    <tr>\n",
       "      <th>4</th>\n",
       "      <td>0.693147</td>\n",
       "      <td>1.098612</td>\n",
       "      <td>GREATER DUWAMISH</td>\n",
       "      <td>0.000000</td>\n",
       "      <td>0.000000</td>\n",
       "      <td>0.000000</td>\n",
       "      <td>Nonresidential COS</td>\n",
       "      <td>Other</td>\n",
       "      <td>NaN</td>\n",
       "      <td>0.0100</td>\n",
       "      <td>...</td>\n",
       "      <td>1.000008</td>\n",
       "      <td>0.000000</td>\n",
       "      <td>2.348269</td>\n",
       "      <td>3.001293</td>\n",
       "      <td>11.189575</td>\n",
       "      <td>0.000000</td>\n",
       "      <td>10.576764</td>\n",
       "      <td>10.576764</td>\n",
       "      <td>11.498627</td>\n",
       "      <td>0.405465</td>\n",
       "    </tr>\n",
       "    <tr>\n",
       "      <th>...</th>\n",
       "      <td>...</td>\n",
       "      <td>...</td>\n",
       "      <td>...</td>\n",
       "      <td>...</td>\n",
       "      <td>...</td>\n",
       "      <td>...</td>\n",
       "      <td>...</td>\n",
       "      <td>...</td>\n",
       "      <td>...</td>\n",
       "      <td>...</td>\n",
       "      <td>...</td>\n",
       "      <td>...</td>\n",
       "      <td>...</td>\n",
       "      <td>...</td>\n",
       "      <td>...</td>\n",
       "      <td>...</td>\n",
       "      <td>...</td>\n",
       "      <td>...</td>\n",
       "      <td>...</td>\n",
       "      <td>...</td>\n",
       "      <td>...</td>\n",
       "    </tr>\n",
       "    <tr>\n",
       "      <th>1605</th>\n",
       "      <td>0.693147</td>\n",
       "      <td>4.158883</td>\n",
       "      <td>DOWNTOWN</td>\n",
       "      <td>11.980432</td>\n",
       "      <td>0.000000</td>\n",
       "      <td>0.000000</td>\n",
       "      <td>Nonresidential COS</td>\n",
       "      <td>Office</td>\n",
       "      <td>89.0</td>\n",
       "      <td>0.3200</td>\n",
       "      <td>...</td>\n",
       "      <td>1.000000</td>\n",
       "      <td>0.000000</td>\n",
       "      <td>3.939638</td>\n",
       "      <td>5.069533</td>\n",
       "      <td>17.935786</td>\n",
       "      <td>0.000000</td>\n",
       "      <td>13.381685</td>\n",
       "      <td>13.162967</td>\n",
       "      <td>17.935786</td>\n",
       "      <td>6.064413</td>\n",
       "    </tr>\n",
       "    <tr>\n",
       "      <th>1606</th>\n",
       "      <td>0.693147</td>\n",
       "      <td>2.197225</td>\n",
       "      <td>EAST</td>\n",
       "      <td>0.000000</td>\n",
       "      <td>15.547227</td>\n",
       "      <td>0.091485</td>\n",
       "      <td>NonResidential</td>\n",
       "      <td>Other</td>\n",
       "      <td>NaN</td>\n",
       "      <td>4.1025</td>\n",
       "      <td>...</td>\n",
       "      <td>0.753349</td>\n",
       "      <td>0.154978</td>\n",
       "      <td>5.693624</td>\n",
       "      <td>6.709784</td>\n",
       "      <td>17.655578</td>\n",
       "      <td>16.074334</td>\n",
       "      <td>11.975017</td>\n",
       "      <td>11.975017</td>\n",
       "      <td>17.938805</td>\n",
       "      <td>7.146670</td>\n",
       "    </tr>\n",
       "    <tr>\n",
       "      <th>1607</th>\n",
       "      <td>0.693147</td>\n",
       "      <td>2.772589</td>\n",
       "      <td>DOWNTOWN</td>\n",
       "      <td>0.000000</td>\n",
       "      <td>0.000000</td>\n",
       "      <td>0.000000</td>\n",
       "      <td>NonResidential</td>\n",
       "      <td>Other</td>\n",
       "      <td>NaN</td>\n",
       "      <td>1.8800</td>\n",
       "      <td>...</td>\n",
       "      <td>1.000000</td>\n",
       "      <td>0.000000</td>\n",
       "      <td>5.693624</td>\n",
       "      <td>6.709784</td>\n",
       "      <td>17.945820</td>\n",
       "      <td>0.000000</td>\n",
       "      <td>12.349658</td>\n",
       "      <td>12.349658</td>\n",
       "      <td>17.945820</td>\n",
       "      <td>6.074426</td>\n",
       "    </tr>\n",
       "    <tr>\n",
       "      <th>1608</th>\n",
       "      <td>0.693147</td>\n",
       "      <td>1.945910</td>\n",
       "      <td>GREATER DUWAMISH</td>\n",
       "      <td>11.624243</td>\n",
       "      <td>0.000000</td>\n",
       "      <td>0.000000</td>\n",
       "      <td>NonResidential</td>\n",
       "      <td>Mixed Use Property</td>\n",
       "      <td>NaN</td>\n",
       "      <td>1.5600</td>\n",
       "      <td>...</td>\n",
       "      <td>0.999795</td>\n",
       "      <td>0.000204</td>\n",
       "      <td>5.693624</td>\n",
       "      <td>6.709784</td>\n",
       "      <td>17.971611</td>\n",
       "      <td>9.476850</td>\n",
       "      <td>12.563751</td>\n",
       "      <td>12.068114</td>\n",
       "      <td>17.971815</td>\n",
       "      <td>6.101708</td>\n",
       "    </tr>\n",
       "    <tr>\n",
       "      <th>1609</th>\n",
       "      <td>0.693147</td>\n",
       "      <td>0.000000</td>\n",
       "      <td>DOWNTOWN</td>\n",
       "      <td>0.000000</td>\n",
       "      <td>0.000000</td>\n",
       "      <td>0.000000</td>\n",
       "      <td>NonResidential</td>\n",
       "      <td>Hotel</td>\n",
       "      <td>NaN</td>\n",
       "      <td>1.7500</td>\n",
       "      <td>...</td>\n",
       "      <td>0.605162</td>\n",
       "      <td>0.394838</td>\n",
       "      <td>4.799914</td>\n",
       "      <td>5.631928</td>\n",
       "      <td>17.488365</td>\n",
       "      <td>17.061346</td>\n",
       "      <td>13.381685</td>\n",
       "      <td>13.162967</td>\n",
       "      <td>17.990625</td>\n",
       "      <td>7.402122</td>\n",
       "    </tr>\n",
       "  </tbody>\n",
       "</table>\n",
       "<p>1610 rows × 21 columns</p>\n",
       "</div>"
      ],
      "text/plain": [
       "      NumberofBuildings  NumberofFloors           Neighborhood  \\\n",
       "0              0.693147        1.386294       GREATER DUWAMISH   \n",
       "1              0.693147        1.386294               DOWNTOWN   \n",
       "2              0.693147        1.386294               DOWNTOWN   \n",
       "3              0.693147        1.386294  MAGNOLIA / QUEEN ANNE   \n",
       "4              0.693147        1.098612       GREATER DUWAMISH   \n",
       "...                 ...             ...                    ...   \n",
       "1605           0.693147        4.158883               DOWNTOWN   \n",
       "1606           0.693147        2.197225                   EAST   \n",
       "1607           0.693147        2.772589               DOWNTOWN   \n",
       "1608           0.693147        1.945910       GREATER DUWAMISH   \n",
       "1609           0.693147        0.000000               DOWNTOWN   \n",
       "\n",
       "      PropertyGFAParking  SteamUse(kBtu)  %_stream        BuildingType  \\\n",
       "0               0.000000        0.000000  0.000000      NonResidential   \n",
       "1               0.000000        0.000000  0.000000      NonResidential   \n",
       "2               0.000000        0.000000  0.000000      NonResidential   \n",
       "3               0.000000        0.000000  0.000000      NonResidential   \n",
       "4               0.000000        0.000000  0.000000  Nonresidential COS   \n",
       "...                  ...             ...       ...                 ...   \n",
       "1605           11.980432        0.000000  0.000000  Nonresidential COS   \n",
       "1606            0.000000       15.547227  0.091485      NonResidential   \n",
       "1607            0.000000        0.000000  0.000000      NonResidential   \n",
       "1608           11.624243        0.000000  0.000000      NonResidential   \n",
       "1609            0.000000        0.000000  0.000000      NonResidential   \n",
       "\n",
       "     PrimaryPropertyType  ENERGYSTARScore  GHGEmissionsIntensity  ...  \\\n",
       "0                  Other              NaN                 0.0000  ...   \n",
       "1                 Office              NaN                 0.0000  ...   \n",
       "2                  Other              NaN                 0.0100  ...   \n",
       "3              Warehouse              NaN                 0.0100  ...   \n",
       "4                  Other              NaN                 0.0100  ...   \n",
       "...                  ...              ...                    ...  ...   \n",
       "1605              Office             89.0                 0.3200  ...   \n",
       "1606               Other              NaN                 4.1025  ...   \n",
       "1607               Other              NaN                 1.8800  ...   \n",
       "1608  Mixed Use Property              NaN                 1.5600  ...   \n",
       "1609               Hotel              NaN                 1.7500  ...   \n",
       "\n",
       "        %_elec     %_gaz  SiteEUIWN(kBtu/sf)  SourceEUIWN(kBtu/sf)  \\\n",
       "0     1.000006  0.000000            2.348269              3.001293   \n",
       "1     0.999979  0.000000            2.348269              3.001293   \n",
       "2     1.000011  0.000000            2.348269              3.001293   \n",
       "3     0.999997  0.000000            2.348269              3.001293   \n",
       "4     1.000008  0.000000            2.348269              3.001293   \n",
       "...        ...       ...                 ...                   ...   \n",
       "1605  1.000000  0.000000            3.939638              5.069533   \n",
       "1606  0.753349  0.154978            5.693624              6.709784   \n",
       "1607  1.000000  0.000000            5.693624              6.709784   \n",
       "1608  0.999795  0.000204            5.693624              6.709784   \n",
       "1609  0.605162  0.394838            4.799914              5.631928   \n",
       "\n",
       "      Electricity(kBtu)  NaturalGas(kBtu)  PropertyGFATotal  \\\n",
       "0             10.691177          0.000000         10.228863   \n",
       "1             10.691177          0.000000         10.963376   \n",
       "2             10.698627          0.000000         10.814987   \n",
       "3             10.953155          0.000000         10.595459   \n",
       "4             11.189575          0.000000         10.576764   \n",
       "...                 ...               ...               ...   \n",
       "1605          17.935786          0.000000         13.381685   \n",
       "1606          17.655578         16.074334         11.975017   \n",
       "1607          17.945820          0.000000         12.349658   \n",
       "1608          17.971611          9.476850         12.563751   \n",
       "1609          17.488365         17.061346         13.381685   \n",
       "\n",
       "      PropertyGFABuilding(s)  SiteEnergyUse(kBtu)  TotalGHGEmissions  \n",
       "0                  10.228863            11.498627           0.269615  \n",
       "1                  10.963376            11.498627           0.269615  \n",
       "2                  10.814987            11.498627           0.270027  \n",
       "3                  10.595459            11.498627           0.336472  \n",
       "4                  10.576764            11.498627           0.405465  \n",
       "...                      ...                  ...                ...  \n",
       "1605               13.162967            17.935786           6.064413  \n",
       "1606               11.975017            17.938805           7.146670  \n",
       "1607               12.349658            17.945820           6.074426  \n",
       "1608               12.068114            17.971815           6.101708  \n",
       "1609               13.162967            17.990625           7.402122  \n",
       "\n",
       "[1610 rows x 21 columns]"
      ]
     },
     "execution_count": 3,
     "metadata": {},
     "output_type": "execute_result"
    }
   ],
   "source": [
    "data = pd.read_csv('data_clean_final.csv')\n",
    "data"
   ]
  },
  {
   "cell_type": "markdown",
   "id": "b102ad7e",
   "metadata": {},
   "source": [
    "Dans le cadre de notre première modélisation, nous allons effectuer le premier modèle sans le EnergyStarScore.\n",
    "Nous allons supprimer la colonne puis supprimer les lignes manquantes"
   ]
  },
  {
   "cell_type": "markdown",
   "id": "28e60f32",
   "metadata": {},
   "source": [
    "Nous avons procédé à la suppression des valeurs numériques qui peuvent impacter nos données.\n",
    "\n",
    "Nous souhaitons, par la suite, procéder à l'intégration des données de l'EnergyStarScore.\n",
    "Notre projet est donc de supprimer les lignes avec les valeurs manquantes puis nous allons démarrer notre modélisation."
   ]
  },
  {
   "cell_type": "code",
   "execution_count": 4,
   "id": "66274c24",
   "metadata": {},
   "outputs": [
    {
     "data": {
      "text/plain": [
       "<AxesSubplot:>"
      ]
     },
     "execution_count": 4,
     "metadata": {},
     "output_type": "execute_result"
    },
    {
     "data": {
      "image/png": "[encoded data removed]",
      "text/plain": [
       "<Figure size 1800x720 with 2 Axes>"
      ]
     },
     "metadata": {
      "needs_background": "light"
     },
     "output_type": "display_data"
    }
   ],
   "source": [
    "msno.matrix(data)"
   ]
  },
  {
   "cell_type": "code",
   "execution_count": 5,
   "id": "96def9a1",
   "metadata": {},
   "outputs": [],
   "source": [
    "#sauvegarde séparée du energy star score\n",
    "energy_star = data[['ENERGYSTARScore']]\n",
    "data.drop(columns = ['ENERGYSTARScore', 'SiteEUIWN(kBtu/sf)', 'SourceEUIWN(kBtu/sf)',\n",
    "                   'SteamUse(kBtu)', 'Electricity(kBtu)', 'NaturalGas(kBtu)'], inplace=True)"
   ]
  },
  {
   "cell_type": "code",
   "execution_count": 6,
   "id": "410baea6",
   "metadata": {},
   "outputs": [
    {
     "data": {
      "text/plain": [
       "<AxesSubplot:>"
      ]
     },
     "execution_count": 6,
     "metadata": {},
     "output_type": "execute_result"
    },
    {
     "data": {
      "image/png": "[encoded data removed]",
      "text/plain": [
       "<Figure size 1800x720 with 2 Axes>"
      ]
     },
     "metadata": {
      "needs_background": "light"
     },
     "output_type": "display_data"
    }
   ],
   "source": [
    "msno.matrix(data)"
   ]
  },
  {
   "cell_type": "markdown",
   "id": "e5c58d97",
   "metadata": {},
   "source": [
    "## II. Préparation du jeu de données"
   ]
  },
  {
   "cell_type": "markdown",
   "id": "016e5b57",
   "metadata": {},
   "source": [
    "### 1. Séparation du jeu de données"
   ]
  },
  {
   "cell_type": "code",
   "execution_count": 7,
   "id": "3179d59c",
   "metadata": {},
   "outputs": [
    {
     "name": "stdout",
     "output_type": "stream",
     "text": [
      "Données apprentissage (1207, 12)\n",
      "Données de test (403, 12)\n"
     ]
    }
   ],
   "source": [
    "# Création du train_test_split\n",
    "\n",
    "y = data['TotalGHGEmissions']\n",
    "X = data.drop(['TotalGHGEmissions', 'SiteEnergyUse(kBtu)', 'TotalGHGEmissions', 'GHGEmissionsIntensity'], axis=1)\n",
    "\n",
    "\n",
    "X_train, X_test, y_train, y_test = train_test_split(X, y, test_size = 0.25, random_state = 100)\n",
    "\n",
    "print ('Données apprentissage', X_train.shape)\n",
    "print ('Données de test', X_test.shape)"
   ]
  },
  {
   "cell_type": "markdown",
   "id": "1cd2baab",
   "metadata": {},
   "source": [
    "### 2. Encodage et standardisation"
   ]
  },
  {
   "cell_type": "code",
   "execution_count": 8,
   "id": "fefe4e8d",
   "metadata": {},
   "outputs": [],
   "source": [
    "# Sélection des variables qualitatives et quantitatives\n",
    "\n",
    "numeric = X_train.select_dtypes(['float64', 'int64']).columns\n",
    "normalisation=StandardScaler()\n",
    "\n",
    "# Preprocessing OneHot    \n",
    "categ=X_train.select_dtypes('object').columns\n",
    "OneHot=OneHotEncoder(handle_unknown='ignore',sparse=False)\n",
    "\n",
    "\n",
    "preprocessor = ColumnTransformer(transformers=[ ('num', normalisation, numeric),\n",
    "                                                ('cat', OneHot, categ)])"
   ]
  },
  {
   "cell_type": "code",
   "execution_count": 9,
   "id": "89563472",
   "metadata": {},
   "outputs": [],
   "source": [
    "# Apprentissage de l'encodage et transformation des données d'entrainement\n",
    "X_train=preprocessor.fit_transform(X_train)\n",
    "\n",
    "# Récupération des noms des variables encodeés\n",
    "encoded_names=numeric.to_list()\n",
    "encoded_Cat_names=preprocessor.named_transformers_['cat'].get_feature_names(categ).tolist()\n",
    "encoded_names.extend(encoded_Cat_names)"
   ]
  },
  {
   "cell_type": "code",
   "execution_count": 10,
   "id": "27e0b7cd",
   "metadata": {},
   "outputs": [],
   "source": [
    "# Application du transformer déjà entrainé sur les données de test\n",
    "X_test= preprocessor.transform(X_test)"
   ]
  },
  {
   "cell_type": "code",
   "execution_count": 11,
   "id": "5c24610f",
   "metadata": {},
   "outputs": [
    {
     "data": {
      "text/plain": [
       "{'%_gaz',\n",
       " 'BuildingType_Nonresidential COS',\n",
       " 'PrimaryPropertyType_School',\n",
       " 'PropertyGFABuilding(s)'}"
      ]
     },
     "execution_count": 11,
     "metadata": {},
     "output_type": "execute_result"
    }
   ],
   "source": [
    "# création des data frame contenant les jeux encodés\n",
    "encoded_X_train=pd.DataFrame(X_train,columns=encoded_names)\n",
    "encoded_X_test=pd.DataFrame(X_test,columns=encoded_names)\n",
    "\n",
    "# creating set to hold the correlated features\n",
    "corr_features = set()\n",
    "\n",
    "# create the correlation matrix (default to pearson)\n",
    "corr_matrix = encoded_X_train.corr()\n",
    "\n",
    "# optional: display a heatmap of the correlation matrix\n",
    "# plt.figure(figsize=(11,11))\n",
    "# sns.heatmap(corr_matrix)\n",
    "\n",
    "for i in range(len(corr_matrix .columns)):\n",
    "    for j in range(i):\n",
    "        if abs(corr_matrix.iloc[i, j]) > 0.70:  #0.90 pour memoire essai à 0.80\n",
    "            colname = corr_matrix.columns[i]\n",
    "            corr_features.add(colname)\n",
    "            \n",
    "corr_features"
   ]
  },
  {
   "cell_type": "code",
   "execution_count": 12,
   "id": "d01e1eaf",
   "metadata": {},
   "outputs": [
    {
     "data": {
      "text/html": [
       "<div>\n",
       "<style scoped>\n",
       "    .dataframe tbody tr th:only-of-type {\n",
       "        vertical-align: middle;\n",
       "    }\n",
       "\n",
       "    .dataframe tbody tr th {\n",
       "        vertical-align: top;\n",
       "    }\n",
       "\n",
       "    .dataframe thead th {\n",
       "        text-align: right;\n",
       "    }\n",
       "</style>\n",
       "<table border=\"1\" class=\"dataframe\">\n",
       "  <thead>\n",
       "    <tr style=\"text-align: right;\">\n",
       "      <th></th>\n",
       "      <th>NumberofBuildings</th>\n",
       "      <th>NumberofFloors</th>\n",
       "      <th>PropertyGFAParking</th>\n",
       "      <th>%_stream</th>\n",
       "      <th>Age_batiment</th>\n",
       "      <th>%_elec</th>\n",
       "      <th>PropertyGFATotal</th>\n",
       "      <th>Neighborhood_BALLARD</th>\n",
       "      <th>Neighborhood_CENTRAL</th>\n",
       "      <th>Neighborhood_DELRIDGE</th>\n",
       "      <th>...</th>\n",
       "      <th>BuildingType_NonResidential</th>\n",
       "      <th>BuildingType_SPS-District K-12</th>\n",
       "      <th>PrimaryPropertyType_Hotel</th>\n",
       "      <th>PrimaryPropertyType_Medical Center</th>\n",
       "      <th>PrimaryPropertyType_Mixed Use Property</th>\n",
       "      <th>PrimaryPropertyType_Office</th>\n",
       "      <th>PrimaryPropertyType_Other</th>\n",
       "      <th>PrimaryPropertyType_Store</th>\n",
       "      <th>PrimaryPropertyType_University</th>\n",
       "      <th>PrimaryPropertyType_Warehouse</th>\n",
       "    </tr>\n",
       "  </thead>\n",
       "  <tbody>\n",
       "    <tr>\n",
       "      <th>0</th>\n",
       "      <td>-0.119315</td>\n",
       "      <td>2.925536</td>\n",
       "      <td>2.388477</td>\n",
       "      <td>-0.21906</td>\n",
       "      <td>-1.142976</td>\n",
       "      <td>0.729951</td>\n",
       "      <td>2.698065</td>\n",
       "      <td>0.0</td>\n",
       "      <td>0.0</td>\n",
       "      <td>0.0</td>\n",
       "      <td>...</td>\n",
       "      <td>1.0</td>\n",
       "      <td>0.0</td>\n",
       "      <td>0.0</td>\n",
       "      <td>0.0</td>\n",
       "      <td>0.0</td>\n",
       "      <td>1.0</td>\n",
       "      <td>0.0</td>\n",
       "      <td>0.0</td>\n",
       "      <td>0.0</td>\n",
       "      <td>0.0</td>\n",
       "    </tr>\n",
       "    <tr>\n",
       "      <th>1</th>\n",
       "      <td>-0.119315</td>\n",
       "      <td>3.845430</td>\n",
       "      <td>2.383877</td>\n",
       "      <td>-0.21906</td>\n",
       "      <td>-0.570814</td>\n",
       "      <td>1.106593</td>\n",
       "      <td>2.698065</td>\n",
       "      <td>0.0</td>\n",
       "      <td>0.0</td>\n",
       "      <td>0.0</td>\n",
       "      <td>...</td>\n",
       "      <td>1.0</td>\n",
       "      <td>0.0</td>\n",
       "      <td>0.0</td>\n",
       "      <td>0.0</td>\n",
       "      <td>0.0</td>\n",
       "      <td>1.0</td>\n",
       "      <td>0.0</td>\n",
       "      <td>0.0</td>\n",
       "      <td>0.0</td>\n",
       "      <td>0.0</td>\n",
       "    </tr>\n",
       "    <tr>\n",
       "      <th>2</th>\n",
       "      <td>-0.119315</td>\n",
       "      <td>2.381561</td>\n",
       "      <td>2.300979</td>\n",
       "      <td>-0.21906</td>\n",
       "      <td>-0.841838</td>\n",
       "      <td>1.078431</td>\n",
       "      <td>2.359512</td>\n",
       "      <td>0.0</td>\n",
       "      <td>0.0</td>\n",
       "      <td>0.0</td>\n",
       "      <td>...</td>\n",
       "      <td>1.0</td>\n",
       "      <td>0.0</td>\n",
       "      <td>0.0</td>\n",
       "      <td>0.0</td>\n",
       "      <td>0.0</td>\n",
       "      <td>1.0</td>\n",
       "      <td>0.0</td>\n",
       "      <td>0.0</td>\n",
       "      <td>0.0</td>\n",
       "      <td>0.0</td>\n",
       "    </tr>\n",
       "    <tr>\n",
       "      <th>3</th>\n",
       "      <td>-0.119315</td>\n",
       "      <td>-0.354715</td>\n",
       "      <td>-0.501054</td>\n",
       "      <td>-0.21906</td>\n",
       "      <td>1.175784</td>\n",
       "      <td>1.106592</td>\n",
       "      <td>-1.168155</td>\n",
       "      <td>0.0</td>\n",
       "      <td>0.0</td>\n",
       "      <td>0.0</td>\n",
       "      <td>...</td>\n",
       "      <td>0.0</td>\n",
       "      <td>0.0</td>\n",
       "      <td>0.0</td>\n",
       "      <td>0.0</td>\n",
       "      <td>0.0</td>\n",
       "      <td>0.0</td>\n",
       "      <td>1.0</td>\n",
       "      <td>0.0</td>\n",
       "      <td>0.0</td>\n",
       "      <td>0.0</td>\n",
       "    </tr>\n",
       "    <tr>\n",
       "      <th>4</th>\n",
       "      <td>-0.119315</td>\n",
       "      <td>0.099094</td>\n",
       "      <td>-0.501054</td>\n",
       "      <td>-0.21906</td>\n",
       "      <td>0.964988</td>\n",
       "      <td>-1.831616</td>\n",
       "      <td>-1.195007</td>\n",
       "      <td>0.0</td>\n",
       "      <td>0.0</td>\n",
       "      <td>0.0</td>\n",
       "      <td>...</td>\n",
       "      <td>1.0</td>\n",
       "      <td>0.0</td>\n",
       "      <td>0.0</td>\n",
       "      <td>0.0</td>\n",
       "      <td>0.0</td>\n",
       "      <td>0.0</td>\n",
       "      <td>0.0</td>\n",
       "      <td>0.0</td>\n",
       "      <td>1.0</td>\n",
       "      <td>0.0</td>\n",
       "    </tr>\n",
       "  </tbody>\n",
       "</table>\n",
       "<p>5 rows × 30 columns</p>\n",
       "</div>"
      ],
      "text/plain": [
       "   NumberofBuildings  NumberofFloors  PropertyGFAParking  %_stream  \\\n",
       "0          -0.119315        2.925536            2.388477  -0.21906   \n",
       "1          -0.119315        3.845430            2.383877  -0.21906   \n",
       "2          -0.119315        2.381561            2.300979  -0.21906   \n",
       "3          -0.119315       -0.354715           -0.501054  -0.21906   \n",
       "4          -0.119315        0.099094           -0.501054  -0.21906   \n",
       "\n",
       "   Age_batiment    %_elec  PropertyGFATotal  Neighborhood_BALLARD  \\\n",
       "0     -1.142976  0.729951          2.698065                   0.0   \n",
       "1     -0.570814  1.106593          2.698065                   0.0   \n",
       "2     -0.841838  1.078431          2.359512                   0.0   \n",
       "3      1.175784  1.106592         -1.168155                   0.0   \n",
       "4      0.964988 -1.831616         -1.195007                   0.0   \n",
       "\n",
       "   Neighborhood_CENTRAL  Neighborhood_DELRIDGE  ...  \\\n",
       "0                   0.0                    0.0  ...   \n",
       "1                   0.0                    0.0  ...   \n",
       "2                   0.0                    0.0  ...   \n",
       "3                   0.0                    0.0  ...   \n",
       "4                   0.0                    0.0  ...   \n",
       "\n",
       "   BuildingType_NonResidential  BuildingType_SPS-District K-12  \\\n",
       "0                          1.0                             0.0   \n",
       "1                          1.0                             0.0   \n",
       "2                          1.0                             0.0   \n",
       "3                          0.0                             0.0   \n",
       "4                          1.0                             0.0   \n",
       "\n",
       "   PrimaryPropertyType_Hotel  PrimaryPropertyType_Medical Center  \\\n",
       "0                        0.0                                 0.0   \n",
       "1                        0.0                                 0.0   \n",
       "2                        0.0                                 0.0   \n",
       "3                        0.0                                 0.0   \n",
       "4                        0.0                                 0.0   \n",
       "\n",
       "   PrimaryPropertyType_Mixed Use Property  PrimaryPropertyType_Office  \\\n",
       "0                                     0.0                         1.0   \n",
       "1                                     0.0                         1.0   \n",
       "2                                     0.0                         1.0   \n",
       "3                                     0.0                         0.0   \n",
       "4                                     0.0                         0.0   \n",
       "\n",
       "   PrimaryPropertyType_Other  PrimaryPropertyType_Store  \\\n",
       "0                        0.0                        0.0   \n",
       "1                        0.0                        0.0   \n",
       "2                        0.0                        0.0   \n",
       "3                        1.0                        0.0   \n",
       "4                        0.0                        0.0   \n",
       "\n",
       "   PrimaryPropertyType_University  PrimaryPropertyType_Warehouse  \n",
       "0                             0.0                            0.0  \n",
       "1                             0.0                            0.0  \n",
       "2                             0.0                            0.0  \n",
       "3                             0.0                            0.0  \n",
       "4                             1.0                            0.0  \n",
       "\n",
       "[5 rows x 30 columns]"
      ]
     },
     "execution_count": 12,
     "metadata": {},
     "output_type": "execute_result"
    }
   ],
   "source": [
    "encoded_X_train.drop(labels=corr_features, axis=1, inplace=True)\n",
    "encoded_X_test.drop(labels=corr_features, axis=1, inplace=True)\n",
    "\n",
    "\n",
    "var = VarianceThreshold(threshold=0).fit(encoded_X_train)\n",
    "\n",
    "low_var = var.get_support(indices=False)\n",
    "\n",
    "low_var_encoded_X_train=encoded_X_train.loc[:,low_var]\n",
    "low_var_encoded_X_test=encoded_X_test.loc[:,low_var]\n",
    "low_var_encoded_X_train.head(5)"
   ]
  },
  {
   "cell_type": "code",
   "execution_count": 13,
   "id": "c8c02449",
   "metadata": {},
   "outputs": [],
   "source": [
    "X_train=low_var_encoded_X_train\n",
    "X_test=low_var_encoded_X_test"
   ]
  },
  {
   "cell_type": "code",
   "execution_count": null,
   "id": "18ab70e5",
   "metadata": {},
   "outputs": [],
   "source": []
  },
  {
   "cell_type": "markdown",
   "id": "dc3b895e",
   "metadata": {},
   "source": [
    "## III. Modélisation"
   ]
  },
  {
   "cell_type": "markdown",
   "id": "5dc597f8",
   "metadata": {},
   "source": [
    "### 1. Régression Linéaire"
   ]
  },
  {
   "cell_type": "code",
   "execution_count": 14,
   "id": "d3d562e1",
   "metadata": {},
   "outputs": [
    {
     "name": "stdout",
     "output_type": "stream",
     "text": [
      "Le score d'apprentissage est de :  0.7132383472620007\n",
      "Le score de test est de :  0.7688233870116008\n",
      "La durée de chargement de la cellule est de :  8.05000000001499e-05\n"
     ]
    }
   ],
   "source": [
    "# Création du modèle\n",
    "model1 = LinearRegression()\n",
    "\n",
    "# Entrainement du modèle\n",
    "model1.fit(X_train, y_train)\n",
    "\n",
    "# Prédiction\n",
    "prediction = model1.predict(X_test)\n",
    "\n",
    "# on va afficher le % d'apprentissage du modèle\n",
    "A1 = model1.score(X_train, y_train)\n",
    "print (\"Le score d'apprentissage est de : \", A1)\n",
    "\n",
    "\n",
    "R1 = model1.score(X_test, y_test)\n",
    "print(\"Le score de test est de : \",R1)\n",
    "\n",
    "T1 = end-start\n",
    "print(\"La durée de chargement de la cellule est de : \", T1)"
   ]
  },
  {
   "cell_type": "markdown",
   "id": "e7cae219",
   "metadata": {},
   "source": [
    "Notre premier modèle indique un score de 96,65%, c'est un très bon score."
   ]
  },
  {
   "cell_type": "code",
   "execution_count": 15,
   "id": "30c0b755",
   "metadata": {},
   "outputs": [
    {
     "name": "stdout",
     "output_type": "stream",
     "text": [
      "4.018618562456622\n"
     ]
    },
    {
     "data": {
      "text/plain": [
       "array([-0.00847959, -0.00633202, -0.0525307 ,  0.12382894, -0.11320528,\n",
       "       -0.73931184,  0.86257204, -0.07795909, -0.09061505,  0.0815396 ,\n",
       "        0.10109204, -0.03534353,  0.04624837,  0.11906572, -0.03772988,\n",
       "       -0.07597345,  0.05162398, -0.08770107, -0.07513195,  0.08088431,\n",
       "       -0.26689906, -0.40800725,  0.33499352,  0.68329849,  0.23034981,\n",
       "        0.09896843,  0.35483173,  0.57270677,  0.16319824, -0.51600443])"
      ]
     },
     "execution_count": 15,
     "metadata": {},
     "output_type": "execute_result"
    }
   ],
   "source": [
    "# ON VA CALCULER LE B dans y = ax + b\n",
    "print (model1.intercept_)\n",
    "\n",
    "# on va calculer les coefficients de la droite\n",
    "model1.coef_"
   ]
  },
  {
   "cell_type": "code",
   "execution_count": 16,
   "id": "56d00d4f",
   "metadata": {},
   "outputs": [
    {
     "data": {
      "text/plain": [
       "[<matplotlib.lines.Line2D at 0x22419e925e0>,\n",
       " <matplotlib.lines.Line2D at 0x22419e92640>]"
      ]
     },
     "execution_count": 16,
     "metadata": {},
     "output_type": "execute_result"
    },
    {
     "data": {
      "image/png": "[encoded data removed]",
      "text/plain": [
       "<Figure size 864x576 with 1 Axes>"
      ]
     },
     "metadata": {
      "needs_background": "light"
     },
     "output_type": "display_data"
    }
   ],
   "source": [
    "# on va construire la droite Y = m*X + b ET DONC FINALISER\n",
    "plt.figure (figsize = (12,8))\n",
    "m, b = np.polyfit (y_test, prediction, 1)\n",
    "plt.plot(y_test, prediction, 'bo', y_test, m*y_test, 'r')"
   ]
  },
  {
   "cell_type": "markdown",
   "id": "f403e196",
   "metadata": {},
   "source": [
    "## Analyse des erreurs avec les métriques"
   ]
  },
  {
   "cell_type": "code",
   "execution_count": 17,
   "id": "4accd211",
   "metadata": {},
   "outputs": [],
   "source": [
    "# MAE\n",
    "\n",
    "MAE1 = mean_absolute_error(y_test, prediction)\n",
    "      \n",
    "# MSE\n",
    "\n",
    "MSE1 = np.sqrt(mean_squared_error(y_test, prediction))"
   ]
  },
  {
   "cell_type": "code",
   "execution_count": null,
   "id": "01a2213d",
   "metadata": {},
   "outputs": [],
   "source": []
  },
  {
   "cell_type": "markdown",
   "id": "064649cd",
   "metadata": {},
   "source": [
    "Nous avons ici testé le MAE et le MSE, nous constatons un écart important entre les deux variables.\n",
    "\n",
    "Afin de sélectionner le meilleur paramètres, il est important de connaître la différence entre les deux méthodes :\n",
    "\n",
    "- MAE : l'importance de l'erreur est linéaire avec son amplitude. A sélectionner si le Dataset contient des valeurs aberrantes.\n",
    "\n",
    "- MSE : nous accordons une grande importance aux grandes erreurs.\n",
    "\n",
    "Nous avons ici constaté que notre modèle contient certaines valeurs avec une erreur importante. Nous allons prendre la décision de sélectionner le MSE en qualité de métrique."
   ]
  },
  {
   "cell_type": "markdown",
   "id": "4175822d",
   "metadata": {},
   "source": [
    "### Analyse des régulateurs"
   ]
  },
  {
   "cell_type": "markdown",
   "id": "e93dceec",
   "metadata": {},
   "source": [
    "Afin de procéder à une analyse plus poussée, nous allons procéder à une utilisation des régulateurs. Nous allons utiliser le modèle du Lasso et celui du Regression Ridge.\n",
    "\n",
    "Regression ridge : ce modèle a pour but de réduire l'amplitude des coefficients de la la régression linéaire.\n",
    "\n",
    "Lasso : ce modèle a pour objectif d' annuler certains coefficients. Les variables qui auront un coefficient égal à zéro ne feront plus partie du modèle, qui en sera simplifié d'autant. Un tel modèle, avec beaucoup de coefficients nuls, est appelé un modèle parcimonieux. Il s'agit donc d'une méthode de sélection de variables et de réduction de dimension supervisée : les variables qui ne sont pas nécessaires à la prédiction de l'étiquette sont éliminées.\n",
    "\n",
    "Elastic-Net : \n",
    "\n"
   ]
  },
  {
   "cell_type": "markdown",
   "id": "b03b85f6",
   "metadata": {},
   "source": [
    "#### A.  Régression Ridge"
   ]
  },
  {
   "cell_type": "code",
   "execution_count": 18,
   "id": "e5921315",
   "metadata": {},
   "outputs": [
    {
     "name": "stdout",
     "output_type": "stream",
     "text": [
      "0.44084210155182396\n"
     ]
    }
   ],
   "source": [
    "# On crée un modèle de régression linéaire\n",
    "lr = linear_model.LinearRegression()\n",
    "\n",
    "# On entraîne ce modèle sur les données d'entrainement\n",
    "lr.fit(X_train,y_train)\n",
    "\n",
    "# On récupère l'erreur de norme 2 sur le jeu de données test comme baseline\n",
    "baseline_error = np.mean((lr.predict(X_test) - y_test) ** 2)\n",
    "\n",
    "print(baseline_error)"
   ]
  },
  {
   "cell_type": "code",
   "execution_count": 19,
   "id": "f040546d",
   "metadata": {},
   "outputs": [
    {
     "name": "stdout",
     "output_type": "stream",
     "text": [
      "Le score d'apprentissage est de :  0.01869636596856039\n",
      "Le score de test est de :  0.011294474646717068\n",
      "La durée de chargement de la cellule est de :  8.05000000001499e-05\n"
     ]
    }
   ],
   "source": [
    "# Application du regression ridge\n",
    "\n",
    "n_alphas = 200\n",
    "alphas = np.logspace(-5, 5, n_alphas)\n",
    "\n",
    "ridge = linear_model.Ridge()\n",
    "\n",
    "coefs = []\n",
    "errors = []\n",
    "for a in alphas:\n",
    "    ridge.set_params(alpha=a)\n",
    "    ridge.fit(X_train, y_train)\n",
    "    coefs.append(ridge.coef_)\n",
    "    errors.append([baseline_error, np.mean((ridge.predict(X_test) - y_test) ** 2)])\n",
    "    \n",
    "    prediction2 = ridge.predict(X_test)\n",
    "    # on va afficher le % d'apprentissage du modèle\n",
    "A2 = ridge.score(X_train, y_train)\n",
    "print (\"Le score d'apprentissage est de : \", A2)\n",
    "\n",
    "\n",
    "R2 = ridge.score(X_test, y_test)\n",
    "print(\"Le score de test est de : \",R2)\n",
    "\n",
    "T2 = end-start\n",
    "print(\"La durée de chargement de la cellule est de : \", T2)"
   ]
  },
  {
   "cell_type": "code",
   "execution_count": 20,
   "id": "083ee3f1",
   "metadata": {},
   "outputs": [
    {
     "data": {
      "image/png": "[encoded data removed]",
      "text/plain": [
       "<Figure size 432x288 with 1 Axes>"
      ]
     },
     "metadata": {
      "needs_background": "light"
     },
     "output_type": "display_data"
    }
   ],
   "source": [
    "ax = plt.gca()\n",
    "\n",
    "ax.plot(alphas, coefs)\n",
    "ax.set_xscale('log')\n",
    "plt.xlabel('alpha')\n",
    "plt.ylabel('poids')\n",
    "plt.title('Ridge coefficients as a function of the regularization')\n",
    "plt.axis('tight')\n",
    "plt.show()"
   ]
  },
  {
   "cell_type": "code",
   "execution_count": 21,
   "id": "ae4f13c9",
   "metadata": {},
   "outputs": [
    {
     "data": {
      "image/png": "[encoded data removed]",
      "text/plain": [
       "<Figure size 432x288 with 1 Axes>"
      ]
     },
     "metadata": {
      "needs_background": "light"
     },
     "output_type": "display_data"
    }
   ],
   "source": [
    "ax = plt.gca()\n",
    "\n",
    "ax.plot(alphas, errors)\n",
    "ax.set_xscale('log')\n",
    "plt.xlabel('alpha')\n",
    "plt.ylabel('erreur')\n",
    "plt.axis('tight')\n",
    "plt.show()"
   ]
  },
  {
   "cell_type": "code",
   "execution_count": 22,
   "id": "59c84ad5",
   "metadata": {},
   "outputs": [
    {
     "data": {
      "text/plain": [
       "[0.44084210155182396, 0.44084210997711276]"
      ]
     },
     "execution_count": 22,
     "metadata": {},
     "output_type": "execute_result"
    }
   ],
   "source": [
    "min(errors)"
   ]
  },
  {
   "cell_type": "code",
   "execution_count": 23,
   "id": "3700218c",
   "metadata": {},
   "outputs": [],
   "source": [
    "# MAE\n",
    "\n",
    "MAE2 = mean_absolute_error(y_test, prediction2)\n",
    "      \n",
    "# MSE\n",
    "\n",
    "MSE2 = mean_squared_error(y_test, prediction2)"
   ]
  },
  {
   "cell_type": "markdown",
   "id": "774aebc8",
   "metadata": {},
   "source": [
    "#### B. Lasso"
   ]
  },
  {
   "cell_type": "code",
   "execution_count": 24,
   "id": "7c561a2f",
   "metadata": {},
   "outputs": [
    {
     "name": "stdout",
     "output_type": "stream",
     "text": [
      "Le score d'apprentissage est de :  -8.023971335575675\n",
      "Le score de test est de :  -8.518672808379089\n",
      "La durée de chargement de la cellule est de :  8.05000000001499e-05\n"
     ]
    }
   ],
   "source": [
    "n_alphas = 300\n",
    "alphas = np.logspace(-5, 5, n_alphas)\n",
    "lasso = linear_model.Lasso(fit_intercept=False)\n",
    "\n",
    "coefs = []\n",
    "errors = []\n",
    "for a in alphas:\n",
    "    lasso.set_params(alpha=a)\n",
    "    lasso.fit(X_train, y_train)\n",
    "    coefs.append(lasso.coef_)\n",
    "    errors.append([baseline_error, np.mean((lasso.predict(X_test) - y_test) ** 2)])\n",
    "    \n",
    "    prediction3 = lasso.predict(X_test)\n",
    "    # on va afficher le % d'apprentissage du modèle\n",
    "A3 = lasso.score(X_train, y_train)\n",
    "print (\"Le score d'apprentissage est de : \", A3)\n",
    "\n",
    "\n",
    "R3 = lasso.score(X_test, y_test)\n",
    "print(\"Le score de test est de : \",R3)\n",
    "\n",
    "T3 = end-start\n",
    "print(\"La durée de chargement de la cellule est de : \", T3)"
   ]
  },
  {
   "cell_type": "code",
   "execution_count": 25,
   "id": "45acc4ae",
   "metadata": {},
   "outputs": [
    {
     "data": {
      "image/png": "[encoded data removed]",
      "text/plain": [
       "<Figure size 432x288 with 1 Axes>"
      ]
     },
     "metadata": {
      "needs_background": "light"
     },
     "output_type": "display_data"
    }
   ],
   "source": [
    "ax = plt.gca()\n",
    "\n",
    "ax.plot(alphas, coefs)\n",
    "ax.set_xscale('log')\n",
    "plt.xlabel('alpha')\n",
    "plt.ylabel('weights')\n",
    "plt.axis('tight')\n",
    "plt.show()"
   ]
  },
  {
   "cell_type": "code",
   "execution_count": 26,
   "id": "ab8486ec",
   "metadata": {},
   "outputs": [
    {
     "data": {
      "image/png": "[encoded data removed]",
      "text/plain": [
       "<Figure size 432x288 with 1 Axes>"
      ]
     },
     "metadata": {
      "needs_background": "light"
     },
     "output_type": "display_data"
    }
   ],
   "source": [
    "ax = plt.gca()\n",
    "\n",
    "ax.plot(alphas, errors)\n",
    "ax.set_xscale('log')\n",
    "plt.xlabel('alpha')\n",
    "plt.ylabel('erreur')\n",
    "plt.axis('tight')\n",
    "plt.show()"
   ]
  },
  {
   "cell_type": "code",
   "execution_count": 27,
   "id": "b3c9d4dc",
   "metadata": {},
   "outputs": [
    {
     "data": {
      "text/plain": [
       "[0.44084210155182396, 0.4408069525563831]"
      ]
     },
     "execution_count": 27,
     "metadata": {},
     "output_type": "execute_result"
    }
   ],
   "source": [
    "min(errors)"
   ]
  },
  {
   "cell_type": "code",
   "execution_count": 28,
   "id": "51acb0f9",
   "metadata": {},
   "outputs": [],
   "source": [
    "# MAE\n",
    "\n",
    "MAE3 = mean_absolute_error(y_test, prediction3)\n",
    "      \n",
    "# MSE\n",
    "\n",
    "MSE3 = mean_squared_error(y_test, prediction3)"
   ]
  },
  {
   "cell_type": "markdown",
   "id": "658279cc",
   "metadata": {},
   "source": [
    "#### C. Elastic Net"
   ]
  },
  {
   "cell_type": "code",
   "execution_count": 29,
   "id": "09156679",
   "metadata": {},
   "outputs": [
    {
     "name": "stdout",
     "output_type": "stream",
     "text": [
      "Le score d'apprentissage est de :  0.0\n",
      "Le score de test est de :  -0.008893140011978717\n",
      "La durée de chargement de la cellule est de :  8.05000000001499e-05\n"
     ]
    }
   ],
   "source": [
    "n_alphas = 300\n",
    "alphas = np.logspace(-5, 5, n_alphas)\n",
    "\n",
    "modelelastic = ElasticNet(alpha=0.1, l1_ratio=0.9, selection='random', random_state=42)\n",
    "\n",
    "coefs = []\n",
    "errors = []\n",
    "for a in alphas:\n",
    "    modelelastic.set_params(alpha=a)\n",
    "    modelelastic.fit(X_train, y_train)\n",
    "    coefs.append(modelelastic.coef_)\n",
    "    errors.append([baseline_error, np.mean((modelelastic.predict(X_test) - y_test) ** 2)])\n",
    "    \n",
    "    prediction4 = modelelastic.predict(X_test)\n",
    "    # on va afficher le % d'apprentissage du modèle\n",
    "A4 =     modelelastic.set_params(alpha=a).score(X_train, y_train)\n",
    "print (\"Le score d'apprentissage est de : \", A4)\n",
    "\n",
    "\n",
    "R4 =     modelelastic.set_params(alpha=a).score(X_test, y_test)\n",
    "print(\"Le score de test est de : \",R4)\n",
    "\n",
    "T4 = end-start\n",
    "print(\"La durée de chargement de la cellule est de : \", T4)"
   ]
  },
  {
   "cell_type": "code",
   "execution_count": 30,
   "id": "5936a6d9",
   "metadata": {},
   "outputs": [
    {
     "data": {
      "image/png": "[encoded data removed]",
      "text/plain": [
       "<Figure size 432x288 with 1 Axes>"
      ]
     },
     "metadata": {
      "needs_background": "light"
     },
     "output_type": "display_data"
    }
   ],
   "source": [
    "ax = plt.gca()\n",
    "\n",
    "ax.plot(alphas, coefs)\n",
    "ax.set_xscale('log')\n",
    "plt.xlabel('alpha')\n",
    "plt.ylabel('weights')\n",
    "plt.axis('tight')\n",
    "plt.show()"
   ]
  },
  {
   "cell_type": "code",
   "execution_count": 31,
   "id": "63f83654",
   "metadata": {},
   "outputs": [
    {
     "data": {
      "image/png": "[encoded data removed]",
      "text/plain": [
       "<Figure size 432x288 with 1 Axes>"
      ]
     },
     "metadata": {
      "needs_background": "light"
     },
     "output_type": "display_data"
    }
   ],
   "source": [
    "ax = plt.gca()\n",
    "\n",
    "ax.plot(alphas, errors)\n",
    "ax.set_xscale('log')\n",
    "plt.xlabel('alpha')\n",
    "plt.ylabel('erreur')\n",
    "plt.axis('tight')\n",
    "plt.show()"
   ]
  },
  {
   "cell_type": "code",
   "execution_count": 32,
   "id": "4486e95c",
   "metadata": {},
   "outputs": [],
   "source": [
    "# MAE\n",
    "\n",
    "MAE4 = mean_absolute_error(y_test, prediction4)\n",
    "      \n",
    "# MSE\n",
    "\n",
    "MSE4 = mean_squared_error(y_test, prediction4)"
   ]
  },
  {
   "cell_type": "markdown",
   "id": "d6ac49e3",
   "metadata": {},
   "source": [
    "## Analyse des régulateurs"
   ]
  },
  {
   "cell_type": "code",
   "execution_count": 33,
   "id": "69e9375e",
   "metadata": {},
   "outputs": [
    {
     "data": {
      "text/html": [
       "<div>\n",
       "<style scoped>\n",
       "    .dataframe tbody tr th:only-of-type {\n",
       "        vertical-align: middle;\n",
       "    }\n",
       "\n",
       "    .dataframe tbody tr th {\n",
       "        vertical-align: top;\n",
       "    }\n",
       "\n",
       "    .dataframe thead th {\n",
       "        text-align: right;\n",
       "    }\n",
       "</style>\n",
       "<table border=\"1\" class=\"dataframe\">\n",
       "  <thead>\n",
       "    <tr style=\"text-align: right;\">\n",
       "      <th></th>\n",
       "      <th>Score Apprentissage</th>\n",
       "      <th>Score Test</th>\n",
       "      <th>MAE</th>\n",
       "      <th>MSE</th>\n",
       "      <th>Temps</th>\n",
       "    </tr>\n",
       "  </thead>\n",
       "  <tbody>\n",
       "    <tr>\n",
       "      <th>Modele linéaire</th>\n",
       "      <td>0.713238</td>\n",
       "      <td>0.768823</td>\n",
       "      <td>0.507969</td>\n",
       "      <td>0.663959</td>\n",
       "      <td>0.000081</td>\n",
       "    </tr>\n",
       "    <tr>\n",
       "      <th>Regression Ridge</th>\n",
       "      <td>0.018696</td>\n",
       "      <td>0.011294</td>\n",
       "      <td>1.091504</td>\n",
       "      <td>1.885411</td>\n",
       "      <td>0.000081</td>\n",
       "    </tr>\n",
       "    <tr>\n",
       "      <th>Lasso</th>\n",
       "      <td>-8.023971</td>\n",
       "      <td>-8.518673</td>\n",
       "      <td>4.030469</td>\n",
       "      <td>18.151627</td>\n",
       "      <td>0.000081</td>\n",
       "    </tr>\n",
       "    <tr>\n",
       "      <th>Elastic</th>\n",
       "      <td>0.000000</td>\n",
       "      <td>-0.008893</td>\n",
       "      <td>1.102969</td>\n",
       "      <td>1.923908</td>\n",
       "      <td>0.000081</td>\n",
       "    </tr>\n",
       "  </tbody>\n",
       "</table>\n",
       "</div>"
      ],
      "text/plain": [
       "                  Score Apprentissage  Score Test       MAE        MSE  \\\n",
       "Modele linéaire              0.713238    0.768823  0.507969   0.663959   \n",
       "Regression Ridge             0.018696    0.011294  1.091504   1.885411   \n",
       "Lasso                       -8.023971   -8.518673  4.030469  18.151627   \n",
       "Elastic                      0.000000   -0.008893  1.102969   1.923908   \n",
       "\n",
       "                     Temps  \n",
       "Modele linéaire   0.000081  \n",
       "Regression Ridge  0.000081  \n",
       "Lasso             0.000081  \n",
       "Elastic           0.000081  "
      ]
     },
     "execution_count": 33,
     "metadata": {},
     "output_type": "execute_result"
    }
   ],
   "source": [
    "A = [A1, A2, A3, A4]\n",
    "R = [R1, R2, R3, R4]\n",
    "T = [T1, T2, T3, T4]\n",
    "MAE = [MAE1, MAE2, MAE3, MAE4]\n",
    "MSE = [MSE1, MSE2, MSE3, MSE4]\n",
    "\n",
    "indice = ['Modele linéaire', 'Regression Ridge', 'Lasso', 'Elastic']\n",
    "\n",
    "\n",
    "data_lineaire = pd.DataFrame ({'Score Apprentissage': A,'Score Test' : R, 'MAE':MAE, 'MSE':MSE, 'Temps':T}, index = indice)\n",
    "data_lineaire"
   ]
  },
  {
   "cell_type": "markdown",
   "id": "78d1720a",
   "metadata": {},
   "source": [
    "Dans notre analyse, nous constatons que nos régulateurs ne permettent pas une forte amélioration.\n",
    "Nous allons conserver, pour l'analyse de nos résultats, le modèle linéaire."
   ]
  },
  {
   "cell_type": "markdown",
   "id": "ad851f94",
   "metadata": {},
   "source": [
    "## 2. Arbre de décision"
   ]
  },
  {
   "cell_type": "code",
   "execution_count": 34,
   "id": "aab07856",
   "metadata": {},
   "outputs": [
    {
     "name": "stdout",
     "output_type": "stream",
     "text": [
      "Le score d'apprentissage est de :  0.7896385636989849\n",
      "Le score de test est de :  0.702908725836383\n",
      "La durée de chargement de la cellule est de :  8.05000000001499e-05\n"
     ]
    }
   ],
   "source": [
    "model2 = DecisionTreeRegressor(max_depth = 6, random_state = 1)\n",
    "\n",
    "model2.fit(X_train, y_train)\n",
    "\n",
    "prediction5 = model2.predict(X_test)\n",
    "\n",
    "# on va afficher le % d'apprentissage du modèle\n",
    "A5 = model2.score(X_train, y_train)\n",
    "print (\"Le score d'apprentissage est de : \", A5)\n",
    "\n",
    "\n",
    "R5 = model2.score(X_test, y_test)\n",
    "print(\"Le score de test est de : \",R5)\n",
    "\n",
    "T5 = end-start\n",
    "print(\"La durée de chargement de la cellule est de : \", T5)"
   ]
  },
  {
   "cell_type": "code",
   "execution_count": null,
   "id": "629043d0",
   "metadata": {},
   "outputs": [],
   "source": []
  },
  {
   "cell_type": "code",
   "execution_count": null,
   "id": "4114c894",
   "metadata": {},
   "outputs": [],
   "source": []
  },
  {
   "cell_type": "code",
   "execution_count": 35,
   "id": "da836ebf",
   "metadata": {},
   "outputs": [],
   "source": [
    "# MAE\n",
    "\n",
    "MAE5 = mean_absolute_error(y_test, prediction5)\n",
    "      \n",
    "# MSE\n",
    "\n",
    "MSE5 = np.sqrt(mean_squared_error(y_test, prediction5))"
   ]
  },
  {
   "cell_type": "markdown",
   "id": "3dd1a07d",
   "metadata": {},
   "source": [
    "Ce modèle présente un niveau d'erreur très important pour conserver son analyse pour la suite de notre projet.\n",
    "Ce dernier présente un MSE trop important.\n",
    "\n",
    "Nous allons tester le modèle XGBoost"
   ]
  },
  {
   "cell_type": "markdown",
   "id": "91ab05d2",
   "metadata": {},
   "source": [
    "## 3. XG Boost"
   ]
  },
  {
   "cell_type": "code",
   "execution_count": 36,
   "id": "4ea1331d",
   "metadata": {},
   "outputs": [
    {
     "name": "stdout",
     "output_type": "stream",
     "text": [
      "Le score d'apprentissage est de :  0.9984719136515381\n",
      "Le score de test est de :  0.7331671614135942\n",
      "La durée de chargement de la cellule est de :  8.05000000001499e-05\n"
     ]
    }
   ],
   "source": [
    "model3 = GradientBoostingRegressor(n_estimators = 500, learning_rate = 0.5)\n",
    "model3.fit(X_train, y_train)\n",
    "\n",
    "prediction6 = model3.predict(X_test)\n",
    "\n",
    "\n",
    "# on va afficher le % d'apprentissage du modèle\n",
    "A6 = model3.score(X_train, y_train)\n",
    "print (\"Le score d'apprentissage est de : \", A6)\n",
    "\n",
    "\n",
    "R6 = model3.score(X_test, y_test)\n",
    "print(\"Le score de test est de : \",R6)\n",
    "\n",
    "T6 = end-start\n",
    "print(\"La durée de chargement de la cellule est de : \", T6)"
   ]
  },
  {
   "cell_type": "code",
   "execution_count": 37,
   "id": "b1057960",
   "metadata": {},
   "outputs": [],
   "source": [
    "# MAE\n",
    "\n",
    "MAE6 = mean_absolute_error(y_test, prediction6)\n",
    "      \n",
    "# MSE\n",
    "\n",
    "MSE6 = np.sqrt(mean_squared_error(y_test, prediction6))"
   ]
  },
  {
   "cell_type": "code",
   "execution_count": 38,
   "id": "4fc0f9b1",
   "metadata": {},
   "outputs": [
    {
     "data": {
      "text/html": [
       "<div>\n",
       "<style scoped>\n",
       "    .dataframe tbody tr th:only-of-type {\n",
       "        vertical-align: middle;\n",
       "    }\n",
       "\n",
       "    .dataframe tbody tr th {\n",
       "        vertical-align: top;\n",
       "    }\n",
       "\n",
       "    .dataframe thead th {\n",
       "        text-align: right;\n",
       "    }\n",
       "</style>\n",
       "<table border=\"1\" class=\"dataframe\">\n",
       "  <thead>\n",
       "    <tr style=\"text-align: right;\">\n",
       "      <th></th>\n",
       "      <th>Consommation réelle</th>\n",
       "      <th>Consommation prédite</th>\n",
       "    </tr>\n",
       "  </thead>\n",
       "  <tbody>\n",
       "    <tr>\n",
       "      <th>204</th>\n",
       "      <td>1.857859</td>\n",
       "      <td>1.494631</td>\n",
       "    </tr>\n",
       "    <tr>\n",
       "      <th>1395</th>\n",
       "      <td>5.792221</td>\n",
       "      <td>5.073601</td>\n",
       "    </tr>\n",
       "    <tr>\n",
       "      <th>767</th>\n",
       "      <td>4.185860</td>\n",
       "      <td>3.362883</td>\n",
       "    </tr>\n",
       "    <tr>\n",
       "      <th>1167</th>\n",
       "      <td>5.263312</td>\n",
       "      <td>4.267791</td>\n",
       "    </tr>\n",
       "    <tr>\n",
       "      <th>590</th>\n",
       "      <td>3.562749</td>\n",
       "      <td>2.573539</td>\n",
       "    </tr>\n",
       "    <tr>\n",
       "      <th>...</th>\n",
       "      <td>...</td>\n",
       "      <td>...</td>\n",
       "    </tr>\n",
       "    <tr>\n",
       "      <th>1472</th>\n",
       "      <td>5.252797</td>\n",
       "      <td>4.992220</td>\n",
       "    </tr>\n",
       "    <tr>\n",
       "      <th>1083</th>\n",
       "      <td>5.016816</td>\n",
       "      <td>5.045973</td>\n",
       "    </tr>\n",
       "    <tr>\n",
       "      <th>642</th>\n",
       "      <td>4.142817</td>\n",
       "      <td>4.206680</td>\n",
       "    </tr>\n",
       "    <tr>\n",
       "      <th>955</th>\n",
       "      <td>3.232779</td>\n",
       "      <td>3.259708</td>\n",
       "    </tr>\n",
       "    <tr>\n",
       "      <th>932</th>\n",
       "      <td>4.500032</td>\n",
       "      <td>4.711095</td>\n",
       "    </tr>\n",
       "  </tbody>\n",
       "</table>\n",
       "<p>403 rows × 2 columns</p>\n",
       "</div>"
      ],
      "text/plain": [
       "      Consommation réelle  Consommation prédite\n",
       "204              1.857859              1.494631\n",
       "1395             5.792221              5.073601\n",
       "767              4.185860              3.362883\n",
       "1167             5.263312              4.267791\n",
       "590              3.562749              2.573539\n",
       "...                   ...                   ...\n",
       "1472             5.252797              4.992220\n",
       "1083             5.016816              5.045973\n",
       "642              4.142817              4.206680\n",
       "955              3.232779              3.259708\n",
       "932              4.500032              4.711095\n",
       "\n",
       "[403 rows x 2 columns]"
      ]
     },
     "execution_count": 38,
     "metadata": {},
     "output_type": "execute_result"
    }
   ],
   "source": [
    "dataprediction = pd.DataFrame({'Consommation réelle':y_test, 'Consommation prédite':prediction6})\n",
    "dataprediction"
   ]
  },
  {
   "cell_type": "code",
   "execution_count": 39,
   "id": "c83158fb",
   "metadata": {},
   "outputs": [
    {
     "data": {
      "text/plain": [
       "Text(0.5, 1.0, 'Analyse de la prédiction du XGBoost')"
      ]
     },
     "execution_count": 39,
     "metadata": {},
     "output_type": "execute_result"
    },
    {
     "data": {
      "image/png": "[encoded data removed]",
      "text/plain": [
       "<Figure size 509.625x360 with 1 Axes>"
      ]
     },
     "metadata": {
      "needs_background": "light"
     },
     "output_type": "display_data"
    }
   ],
   "source": [
    "sns.displot(dataprediction)\n",
    "plt.title('Analyse de la prédiction du XGBoost')"
   ]
  },
  {
   "cell_type": "code",
   "execution_count": 40,
   "id": "0e564a19",
   "metadata": {},
   "outputs": [
    {
     "data": {
      "text/plain": [
       "Text(0.5, 1.0, 'Analyse du XGBoost')"
      ]
     },
     "execution_count": 40,
     "metadata": {},
     "output_type": "execute_result"
    },
    {
     "data": {
      "image/png": "[encoded data removed]",
      "text/plain": [
       "<Figure size 864x432 with 1 Axes>"
      ]
     },
     "metadata": {
      "needs_background": "light"
     },
     "output_type": "display_data"
    }
   ],
   "source": [
    "plt.figure(figsize = (12,6))\n",
    "\n",
    "plt.scatter(y_test, prediction6)\n",
    "\n",
    "plt.plot(y_test, y_test, 'r')\n",
    "plt.title('Analyse du XGBoost')"
   ]
  },
  {
   "cell_type": "markdown",
   "id": "f406cb56",
   "metadata": {},
   "source": [
    "## 5. Random Forest"
   ]
  },
  {
   "cell_type": "code",
   "execution_count": 41,
   "id": "a41ee17e",
   "metadata": {},
   "outputs": [
    {
     "name": "stdout",
     "output_type": "stream",
     "text": [
      "Le score d'apprentissage est de :  0.7728619093507941\n",
      "Le score de test est de :  0.741361280464456\n",
      "La durée de chargement de la cellule est de :  4.333593\n"
     ]
    }
   ],
   "source": [
    "\n",
    "model5 = RandomForestRegressor(n_estimators = 200, max_depth = 5)\n",
    "model5.fit(X_train, y_train)\n",
    "\n",
    "prediction7 = model5.predict(X_test)\n",
    "\n",
    "# on va afficher le % d'apprentissage du modèle\n",
    "A7 = model5.score(X_train, y_train)\n",
    "print (\"Le score d'apprentissage est de : \", A7)\n",
    "\n",
    "\n",
    "R7 = model5.score(X_test, y_test)\n",
    "print(\"Le score de test est de : \",R7)\n",
    "\n",
    "T7 = start\n",
    "print(\"La durée de chargement de la cellule est de : \", T7)"
   ]
  },
  {
   "cell_type": "code",
   "execution_count": 42,
   "id": "7f7a572a",
   "metadata": {},
   "outputs": [],
   "source": [
    "# MAE\n",
    "\n",
    "MAE7 = mean_absolute_error(y_test, prediction7)\n",
    "      \n",
    "# MSE\n",
    "\n",
    "MSE7 = np.sqrt(mean_squared_error(y_test, prediction7))"
   ]
  },
  {
   "cell_type": "code",
   "execution_count": 43,
   "id": "790a5e63",
   "metadata": {},
   "outputs": [
    {
     "data": {
      "text/html": [
       "<div>\n",
       "<style scoped>\n",
       "    .dataframe tbody tr th:only-of-type {\n",
       "        vertical-align: middle;\n",
       "    }\n",
       "\n",
       "    .dataframe tbody tr th {\n",
       "        vertical-align: top;\n",
       "    }\n",
       "\n",
       "    .dataframe thead th {\n",
       "        text-align: right;\n",
       "    }\n",
       "</style>\n",
       "<table border=\"1\" class=\"dataframe\">\n",
       "  <thead>\n",
       "    <tr style=\"text-align: right;\">\n",
       "      <th></th>\n",
       "      <th>Consommation réelle</th>\n",
       "      <th>Consommation prédite</th>\n",
       "    </tr>\n",
       "  </thead>\n",
       "  <tbody>\n",
       "    <tr>\n",
       "      <th>204</th>\n",
       "      <td>1.857859</td>\n",
       "      <td>1.813080</td>\n",
       "    </tr>\n",
       "    <tr>\n",
       "      <th>1395</th>\n",
       "      <td>5.792221</td>\n",
       "      <td>4.580507</td>\n",
       "    </tr>\n",
       "    <tr>\n",
       "      <th>767</th>\n",
       "      <td>4.185860</td>\n",
       "      <td>3.921259</td>\n",
       "    </tr>\n",
       "    <tr>\n",
       "      <th>1167</th>\n",
       "      <td>5.263312</td>\n",
       "      <td>4.173499</td>\n",
       "    </tr>\n",
       "    <tr>\n",
       "      <th>590</th>\n",
       "      <td>3.562749</td>\n",
       "      <td>3.091629</td>\n",
       "    </tr>\n",
       "    <tr>\n",
       "      <th>...</th>\n",
       "      <td>...</td>\n",
       "      <td>...</td>\n",
       "    </tr>\n",
       "    <tr>\n",
       "      <th>1472</th>\n",
       "      <td>5.252797</td>\n",
       "      <td>5.143981</td>\n",
       "    </tr>\n",
       "    <tr>\n",
       "      <th>1083</th>\n",
       "      <td>5.016816</td>\n",
       "      <td>5.281298</td>\n",
       "    </tr>\n",
       "    <tr>\n",
       "      <th>642</th>\n",
       "      <td>4.142817</td>\n",
       "      <td>4.539867</td>\n",
       "    </tr>\n",
       "    <tr>\n",
       "      <th>955</th>\n",
       "      <td>3.232779</td>\n",
       "      <td>3.480606</td>\n",
       "    </tr>\n",
       "    <tr>\n",
       "      <th>932</th>\n",
       "      <td>4.500032</td>\n",
       "      <td>4.582228</td>\n",
       "    </tr>\n",
       "  </tbody>\n",
       "</table>\n",
       "<p>403 rows × 2 columns</p>\n",
       "</div>"
      ],
      "text/plain": [
       "      Consommation réelle  Consommation prédite\n",
       "204              1.857859              1.813080\n",
       "1395             5.792221              4.580507\n",
       "767              4.185860              3.921259\n",
       "1167             5.263312              4.173499\n",
       "590              3.562749              3.091629\n",
       "...                   ...                   ...\n",
       "1472             5.252797              5.143981\n",
       "1083             5.016816              5.281298\n",
       "642              4.142817              4.539867\n",
       "955              3.232779              3.480606\n",
       "932              4.500032              4.582228\n",
       "\n",
       "[403 rows x 2 columns]"
      ]
     },
     "execution_count": 43,
     "metadata": {},
     "output_type": "execute_result"
    }
   ],
   "source": [
    "dataprediction2 = pd.DataFrame({'Consommation réelle':y_test, 'Consommation prédite':prediction7})\n",
    "dataprediction2"
   ]
  },
  {
   "cell_type": "code",
   "execution_count": 44,
   "id": "ad0146e9",
   "metadata": {},
   "outputs": [
    {
     "data": {
      "text/plain": [
       "Text(0.5, 1.0, 'Analyse de la prédiction du Random Forest')"
      ]
     },
     "execution_count": 44,
     "metadata": {},
     "output_type": "execute_result"
    },
    {
     "data": {
      "image/png": "[encoded data removed]",
      "text/plain": [
       "<Figure size 509.625x360 with 1 Axes>"
      ]
     },
     "metadata": {
      "needs_background": "light"
     },
     "output_type": "display_data"
    }
   ],
   "source": [
    "sns.displot(dataprediction2)\n",
    "plt.title('Analyse de la prédiction du Random Forest')"
   ]
  },
  {
   "cell_type": "code",
   "execution_count": 45,
   "id": "3824249d",
   "metadata": {},
   "outputs": [
    {
     "data": {
      "text/plain": [
       "Text(0.5, 1.0, 'Analyse de la prédiction du Random Forest')"
      ]
     },
     "execution_count": 45,
     "metadata": {},
     "output_type": "execute_result"
    },
    {
     "data": {
      "image/png": "[encoded data removed]",
      "text/plain": [
       "<Figure size 864x432 with 1 Axes>"
      ]
     },
     "metadata": {
      "needs_background": "light"
     },
     "output_type": "display_data"
    }
   ],
   "source": [
    "plt.figure(figsize = (12,6))\n",
    "\n",
    "plt.scatter(y_test, prediction7)\n",
    "\n",
    "plt.plot(y_test, y_test, 'r')\n",
    "plt.title('Analyse de la prédiction du Random Forest')"
   ]
  },
  {
   "cell_type": "markdown",
   "id": "bfcdf7b5",
   "metadata": {},
   "source": [
    "Nous avons ici un apprentissage ayant très bien fonctionné mais un niveau de test avec un score plutôt faible.\n",
    "Nous constatons un niveau d'erreur assez important et un fort écart sur les prédictions."
   ]
  },
  {
   "cell_type": "code",
   "execution_count": null,
   "id": "b6a4eb0d",
   "metadata": {},
   "outputs": [],
   "source": []
  },
  {
   "cell_type": "markdown",
   "id": "564ea085",
   "metadata": {},
   "source": [
    "# IV. Analyse des modélisations"
   ]
  },
  {
   "cell_type": "markdown",
   "id": "09b4681b",
   "metadata": {},
   "source": [
    "### 1. Analyse des résultats"
   ]
  },
  {
   "cell_type": "code",
   "execution_count": 46,
   "id": "29ebf7d5",
   "metadata": {},
   "outputs": [
    {
     "data": {
      "text/html": [
       "<div>\n",
       "<style scoped>\n",
       "    .dataframe tbody tr th:only-of-type {\n",
       "        vertical-align: middle;\n",
       "    }\n",
       "\n",
       "    .dataframe tbody tr th {\n",
       "        vertical-align: top;\n",
       "    }\n",
       "\n",
       "    .dataframe thead th {\n",
       "        text-align: right;\n",
       "    }\n",
       "</style>\n",
       "<table border=\"1\" class=\"dataframe\">\n",
       "  <thead>\n",
       "    <tr style=\"text-align: right;\">\n",
       "      <th></th>\n",
       "      <th>Score Apprentissage</th>\n",
       "      <th>Score Test</th>\n",
       "      <th>MAE</th>\n",
       "      <th>MSE</th>\n",
       "      <th>Temps</th>\n",
       "    </tr>\n",
       "  </thead>\n",
       "  <tbody>\n",
       "    <tr>\n",
       "      <th>Modele linéaire</th>\n",
       "      <td>0.713238</td>\n",
       "      <td>0.768823</td>\n",
       "      <td>0.507969</td>\n",
       "      <td>0.663959</td>\n",
       "      <td>0.000081</td>\n",
       "    </tr>\n",
       "    <tr>\n",
       "      <th>Arbre de Décision</th>\n",
       "      <td>0.789639</td>\n",
       "      <td>0.702909</td>\n",
       "      <td>0.588097</td>\n",
       "      <td>0.752687</td>\n",
       "      <td>0.000081</td>\n",
       "    </tr>\n",
       "    <tr>\n",
       "      <th>XGBoost</th>\n",
       "      <td>0.998472</td>\n",
       "      <td>0.733167</td>\n",
       "      <td>0.547508</td>\n",
       "      <td>0.713328</td>\n",
       "      <td>0.000081</td>\n",
       "    </tr>\n",
       "    <tr>\n",
       "      <th>Random Forest</th>\n",
       "      <td>0.772862</td>\n",
       "      <td>0.741361</td>\n",
       "      <td>0.546360</td>\n",
       "      <td>0.702290</td>\n",
       "      <td>4.333593</td>\n",
       "    </tr>\n",
       "  </tbody>\n",
       "</table>\n",
       "</div>"
      ],
      "text/plain": [
       "                   Score Apprentissage  Score Test       MAE       MSE  \\\n",
       "Modele linéaire               0.713238    0.768823  0.507969  0.663959   \n",
       "Arbre de Décision             0.789639    0.702909  0.588097  0.752687   \n",
       "XGBoost                       0.998472    0.733167  0.547508  0.713328   \n",
       "Random Forest                 0.772862    0.741361  0.546360  0.702290   \n",
       "\n",
       "                      Temps  \n",
       "Modele linéaire    0.000081  \n",
       "Arbre de Décision  0.000081  \n",
       "XGBoost            0.000081  \n",
       "Random Forest      4.333593  "
      ]
     },
     "execution_count": 46,
     "metadata": {},
     "output_type": "execute_result"
    }
   ],
   "source": [
    "A = [A1, A5, A6, A7]\n",
    "R = [R1, R5, R6, R7]\n",
    "T = [T1, T5, T6, T7]\n",
    "MAE = [MAE1, MAE5, MAE6, MAE7]\n",
    "MSE = [MSE1, MSE5, MSE6, MSE7]\n",
    "\n",
    "indice = ['Modele linéaire', 'Arbre de Décision', 'XGBoost', 'Random Forest']\n",
    "\n",
    "\n",
    "data_analyse = pd.DataFrame ({'Score Apprentissage': A,'Score Test' : R, 'MAE':MAE, 'MSE':MSE, 'Temps':T}, index = indice)\n",
    "data_analyse"
   ]
  },
  {
   "cell_type": "code",
   "execution_count": 47,
   "id": "60a9c6bc",
   "metadata": {},
   "outputs": [
    {
     "data": {
      "text/plain": [
       "Text(0.5, 1.0, 'Représentation du MSE pour nos modèles')"
      ]
     },
     "execution_count": 47,
     "metadata": {},
     "output_type": "execute_result"
    },
    {
     "data": {
      "image/png": "[encoded data removed]",
      "text/plain": [
       "<Figure size 1080x720 with 4 Axes>"
      ]
     },
     "metadata": {
      "needs_background": "light"
     },
     "output_type": "display_data"
    }
   ],
   "source": [
    "plt.figure (figsize = (15,10))\n",
    "plt.subplots_adjust(hspace = 0.8, wspace = 0.5)\n",
    "\n",
    "plt.subplot(2, 2, 1)\n",
    "data_analyse['Score Apprentissage'].plot(kind = 'bar')\n",
    "plt.title(\"Représentation de notre phase d'apprentissage pour nos modèles\")\n",
    "\n",
    "plt.subplot(2, 2, 2)\n",
    "data_analyse['Score Test'].plot(kind = 'bar')\n",
    "plt.title(\"Représentation de notre phase de test pour nos modèles\")\n",
    "\n",
    "plt.subplot(2, 2, 3)\n",
    "data_analyse['MAE'].plot(kind = 'bar')\n",
    "plt.title(\"Représentation du MAE pour nos modèles\")\n",
    "\n",
    "plt.subplot(2, 2, 4)\n",
    "data_analyse['MSE'].plot(kind = 'bar')\n",
    "plt.title(\"Représentation du MSE pour nos modèles\")"
   ]
  },
  {
   "cell_type": "markdown",
   "id": "05164028",
   "metadata": {},
   "source": [
    "Dans notre première phase de modélisation, nous pouvons constater que les 4 modèles sélectionnés présentent une certaine disparité dans nos données.\n",
    "\n",
    "En effet, le modèle linéaire présente un score d'apprentissage et de test plutôt cohérent, l'arbre de décision a parfaitement appris le modèle mais la phase de test est peu convaincante.\n",
    "\n",
    "POour le XGBoost et le RandomForest, ces derniers présentent les meilleurs résultats avec environ 70% de résultat ce qui représente un bon score.\n",
    "\n",
    "Pour la suite de notre phase de modélisation, nous allons conserver uniquement ces deux modèles."
   ]
  },
  {
   "cell_type": "markdown",
   "id": "e647d90f",
   "metadata": {},
   "source": [
    "### 2. Analyse de l'apport des variables sur nos modèles"
   ]
  },
  {
   "cell_type": "code",
   "execution_count": 48,
   "id": "0f270c03",
   "metadata": {},
   "outputs": [],
   "source": [
    "explainer = shap.TreeExplainer(model5)\n",
    "\n",
    "row_to_show = 5\n",
    "data_for_prediction = X_test.iloc[row_to_show]  # use 1 row of data here. Could use multiple rows if desired\n",
    "data_for_prediction_array = data_for_prediction.values.reshape(1, -1)\n",
    "\n",
    "# Création de la donnée shap values\n",
    "shap_values = explainer(X_train)\n"
   ]
  },
  {
   "cell_type": "code",
   "execution_count": 49,
   "id": "6dfb26cc",
   "metadata": {},
   "outputs": [
    {
     "data": {
      "image/png": "[encoded data removed]",
      "text/plain": [
       "<Figure size 576x468 with 1 Axes>"
      ]
     },
     "metadata": {},
     "output_type": "display_data"
    }
   ],
   "source": [
    "#Moyenne SHAP\n",
    "shap.plots.bar(shap_values)"
   ]
  },
  {
   "cell_type": "code",
   "execution_count": null,
   "id": "7245b447",
   "metadata": {},
   "outputs": [],
   "source": []
  },
  {
   "cell_type": "markdown",
   "id": "28e4e602",
   "metadata": {},
   "source": [
    "## V Modélisation avec la variable ENERGYSTAR Score"
   ]
  },
  {
   "cell_type": "markdown",
   "id": "53bf35dc",
   "metadata": {},
   "source": [
    "Nous allons de suite inclure la variable EnergyStar dans notre modèle.\n",
    "\n",
    "Dans le cadre de notre modélisation, nous allons prendre la décision de conserver uniquement le Random Forest et le XGBoost qui présentent les meilleurs scores de prédiction.\n"
   ]
  },
  {
   "cell_type": "code",
   "execution_count": 50,
   "id": "d5998c17",
   "metadata": {},
   "outputs": [],
   "source": [
    "data = pd.concat([data, energy_star], axis = 1)\n",
    "data.reset_index(drop = True, inplace = True)"
   ]
  },
  {
   "cell_type": "code",
   "execution_count": 51,
   "id": "069a84e4",
   "metadata": {},
   "outputs": [
    {
     "data": {
      "text/plain": [
       "(1610, 16)"
      ]
     },
     "execution_count": 51,
     "metadata": {},
     "output_type": "execute_result"
    }
   ],
   "source": [
    "data.shape"
   ]
  },
  {
   "cell_type": "markdown",
   "id": "0e701c9a",
   "metadata": {},
   "source": [
    "Afin de procéder à notre modélisation, nous allons procéder à la suppression des lignes ayant des valeurs manquantes puis nous allons procéder à une méthode identique à notre première phase de modélisation."
   ]
  },
  {
   "cell_type": "code",
   "execution_count": 52,
   "id": "dc83bb97",
   "metadata": {},
   "outputs": [],
   "source": [
    "data.dropna(how = 'any', inplace = True)"
   ]
  },
  {
   "cell_type": "code",
   "execution_count": 53,
   "id": "6ee4f007",
   "metadata": {},
   "outputs": [],
   "source": [
    "# Réindéxation\n",
    "\n",
    "data.reset_index(drop = True, inplace = True)"
   ]
  },
  {
   "cell_type": "code",
   "execution_count": 54,
   "id": "029eba86",
   "metadata": {},
   "outputs": [
    {
     "data": {
      "text/html": [
       "<div>\n",
       "<style scoped>\n",
       "    .dataframe tbody tr th:only-of-type {\n",
       "        vertical-align: middle;\n",
       "    }\n",
       "\n",
       "    .dataframe tbody tr th {\n",
       "        vertical-align: top;\n",
       "    }\n",
       "\n",
       "    .dataframe thead th {\n",
       "        text-align: right;\n",
       "    }\n",
       "</style>\n",
       "<table border=\"1\" class=\"dataframe\">\n",
       "  <thead>\n",
       "    <tr style=\"text-align: right;\">\n",
       "      <th></th>\n",
       "      <th>NumberofBuildings</th>\n",
       "      <th>NumberofFloors</th>\n",
       "      <th>Neighborhood</th>\n",
       "      <th>PropertyGFAParking</th>\n",
       "      <th>%_stream</th>\n",
       "      <th>BuildingType</th>\n",
       "      <th>PrimaryPropertyType</th>\n",
       "      <th>GHGEmissionsIntensity</th>\n",
       "      <th>Age_batiment</th>\n",
       "      <th>%_elec</th>\n",
       "      <th>%_gaz</th>\n",
       "      <th>PropertyGFATotal</th>\n",
       "      <th>PropertyGFABuilding(s)</th>\n",
       "      <th>SiteEnergyUse(kBtu)</th>\n",
       "      <th>TotalGHGEmissions</th>\n",
       "      <th>ENERGYSTARScore</th>\n",
       "    </tr>\n",
       "  </thead>\n",
       "  <tbody>\n",
       "    <tr>\n",
       "      <th>0</th>\n",
       "      <td>0.693147</td>\n",
       "      <td>1.098612</td>\n",
       "      <td>EAST</td>\n",
       "      <td>0.000000</td>\n",
       "      <td>0.000000</td>\n",
       "      <td>NonResidential</td>\n",
       "      <td>Warehouse</td>\n",
       "      <td>0.0400</td>\n",
       "      <td>96</td>\n",
       "      <td>0.913855</td>\n",
       "      <td>0.086148</td>\n",
       "      <td>10.045031</td>\n",
       "      <td>10.045031</td>\n",
       "      <td>11.498627</td>\n",
       "      <td>0.625938</td>\n",
       "      <td>99.0</td>\n",
       "    </tr>\n",
       "    <tr>\n",
       "      <th>1</th>\n",
       "      <td>0.693147</td>\n",
       "      <td>0.693147</td>\n",
       "      <td>SOUTHWEST</td>\n",
       "      <td>0.000000</td>\n",
       "      <td>0.000000</td>\n",
       "      <td>NonResidential</td>\n",
       "      <td>Office</td>\n",
       "      <td>0.0300</td>\n",
       "      <td>45</td>\n",
       "      <td>1.000003</td>\n",
       "      <td>0.000000</td>\n",
       "      <td>10.076306</td>\n",
       "      <td>10.076306</td>\n",
       "      <td>11.521317</td>\n",
       "      <td>0.530628</td>\n",
       "      <td>100.0</td>\n",
       "    </tr>\n",
       "    <tr>\n",
       "      <th>2</th>\n",
       "      <td>0.693147</td>\n",
       "      <td>1.098612</td>\n",
       "      <td>NORTHEAST</td>\n",
       "      <td>0.000000</td>\n",
       "      <td>0.000000</td>\n",
       "      <td>NonResidential</td>\n",
       "      <td>Office</td>\n",
       "      <td>0.0400</td>\n",
       "      <td>62</td>\n",
       "      <td>0.999997</td>\n",
       "      <td>0.000000</td>\n",
       "      <td>9.905486</td>\n",
       "      <td>9.905486</td>\n",
       "      <td>11.559077</td>\n",
       "      <td>0.548121</td>\n",
       "      <td>100.0</td>\n",
       "    </tr>\n",
       "    <tr>\n",
       "      <th>3</th>\n",
       "      <td>0.693147</td>\n",
       "      <td>0.693147</td>\n",
       "      <td>NORTH</td>\n",
       "      <td>0.000000</td>\n",
       "      <td>0.000000</td>\n",
       "      <td>NonResidential</td>\n",
       "      <td>Warehouse</td>\n",
       "      <td>0.1200</td>\n",
       "      <td>39</td>\n",
       "      <td>0.634907</td>\n",
       "      <td>0.365093</td>\n",
       "      <td>9.995930</td>\n",
       "      <td>9.995930</td>\n",
       "      <td>11.636302</td>\n",
       "      <td>1.305626</td>\n",
       "      <td>100.0</td>\n",
       "    </tr>\n",
       "    <tr>\n",
       "      <th>4</th>\n",
       "      <td>0.693147</td>\n",
       "      <td>1.098612</td>\n",
       "      <td>LAKE UNION</td>\n",
       "      <td>0.000000</td>\n",
       "      <td>0.000000</td>\n",
       "      <td>NonResidential</td>\n",
       "      <td>Warehouse</td>\n",
       "      <td>0.0400</td>\n",
       "      <td>59</td>\n",
       "      <td>1.000003</td>\n",
       "      <td>0.000000</td>\n",
       "      <td>9.910513</td>\n",
       "      <td>9.910513</td>\n",
       "      <td>11.665540</td>\n",
       "      <td>0.593327</td>\n",
       "      <td>49.0</td>\n",
       "    </tr>\n",
       "    <tr>\n",
       "      <th>...</th>\n",
       "      <td>...</td>\n",
       "      <td>...</td>\n",
       "      <td>...</td>\n",
       "      <td>...</td>\n",
       "      <td>...</td>\n",
       "      <td>...</td>\n",
       "      <td>...</td>\n",
       "      <td>...</td>\n",
       "      <td>...</td>\n",
       "      <td>...</td>\n",
       "      <td>...</td>\n",
       "      <td>...</td>\n",
       "      <td>...</td>\n",
       "      <td>...</td>\n",
       "      <td>...</td>\n",
       "      <td>...</td>\n",
       "    </tr>\n",
       "    <tr>\n",
       "      <th>1068</th>\n",
       "      <td>0.693147</td>\n",
       "      <td>2.564949</td>\n",
       "      <td>DOWNTOWN</td>\n",
       "      <td>0.000000</td>\n",
       "      <td>0.503475</td>\n",
       "      <td>NonResidential</td>\n",
       "      <td>Hotel</td>\n",
       "      <td>4.1025</td>\n",
       "      <td>93</td>\n",
       "      <td>0.426273</td>\n",
       "      <td>0.070252</td>\n",
       "      <td>13.203586</td>\n",
       "      <td>13.162967</td>\n",
       "      <td>17.849489</td>\n",
       "      <td>7.654406</td>\n",
       "      <td>45.0</td>\n",
       "    </tr>\n",
       "    <tr>\n",
       "      <th>1069</th>\n",
       "      <td>0.693147</td>\n",
       "      <td>3.761200</td>\n",
       "      <td>DOWNTOWN</td>\n",
       "      <td>0.000000</td>\n",
       "      <td>0.017459</td>\n",
       "      <td>NonResidential</td>\n",
       "      <td>Office</td>\n",
       "      <td>0.3000</td>\n",
       "      <td>11</td>\n",
       "      <td>0.975664</td>\n",
       "      <td>0.006877</td>\n",
       "      <td>13.381685</td>\n",
       "      <td>13.162967</td>\n",
       "      <td>17.849731</td>\n",
       "      <td>6.178069</td>\n",
       "      <td>97.0</td>\n",
       "    </tr>\n",
       "    <tr>\n",
       "      <th>1070</th>\n",
       "      <td>0.693147</td>\n",
       "      <td>3.850148</td>\n",
       "      <td>DOWNTOWN</td>\n",
       "      <td>13.147269</td>\n",
       "      <td>0.000000</td>\n",
       "      <td>NonResidential</td>\n",
       "      <td>Office</td>\n",
       "      <td>0.3500</td>\n",
       "      <td>27</td>\n",
       "      <td>0.948096</td>\n",
       "      <td>0.051904</td>\n",
       "      <td>13.381685</td>\n",
       "      <td>13.162967</td>\n",
       "      <td>17.851628</td>\n",
       "      <td>6.275101</td>\n",
       "      <td>89.0</td>\n",
       "    </tr>\n",
       "    <tr>\n",
       "      <th>1071</th>\n",
       "      <td>0.693147</td>\n",
       "      <td>2.197225</td>\n",
       "      <td>NORTHEAST</td>\n",
       "      <td>0.000000</td>\n",
       "      <td>0.000000</td>\n",
       "      <td>NonResidential</td>\n",
       "      <td>Medical Center</td>\n",
       "      <td>4.1025</td>\n",
       "      <td>3</td>\n",
       "      <td>0.479587</td>\n",
       "      <td>0.520413</td>\n",
       "      <td>12.706851</td>\n",
       "      <td>12.706851</td>\n",
       "      <td>17.871883</td>\n",
       "      <td>7.490356</td>\n",
       "      <td>58.0</td>\n",
       "    </tr>\n",
       "    <tr>\n",
       "      <th>1072</th>\n",
       "      <td>0.693147</td>\n",
       "      <td>4.158883</td>\n",
       "      <td>DOWNTOWN</td>\n",
       "      <td>11.980432</td>\n",
       "      <td>0.000000</td>\n",
       "      <td>Nonresidential COS</td>\n",
       "      <td>Office</td>\n",
       "      <td>0.3200</td>\n",
       "      <td>26</td>\n",
       "      <td>1.000000</td>\n",
       "      <td>0.000000</td>\n",
       "      <td>13.381685</td>\n",
       "      <td>13.162967</td>\n",
       "      <td>17.935786</td>\n",
       "      <td>6.064413</td>\n",
       "      <td>89.0</td>\n",
       "    </tr>\n",
       "  </tbody>\n",
       "</table>\n",
       "<p>1073 rows × 16 columns</p>\n",
       "</div>"
      ],
      "text/plain": [
       "      NumberofBuildings  NumberofFloors Neighborhood  PropertyGFAParking  \\\n",
       "0              0.693147        1.098612         EAST            0.000000   \n",
       "1              0.693147        0.693147    SOUTHWEST            0.000000   \n",
       "2              0.693147        1.098612    NORTHEAST            0.000000   \n",
       "3              0.693147        0.693147        NORTH            0.000000   \n",
       "4              0.693147        1.098612   LAKE UNION            0.000000   \n",
       "...                 ...             ...          ...                 ...   \n",
       "1068           0.693147        2.564949     DOWNTOWN            0.000000   \n",
       "1069           0.693147        3.761200     DOWNTOWN            0.000000   \n",
       "1070           0.693147        3.850148     DOWNTOWN           13.147269   \n",
       "1071           0.693147        2.197225    NORTHEAST            0.000000   \n",
       "1072           0.693147        4.158883     DOWNTOWN           11.980432   \n",
       "\n",
       "      %_stream        BuildingType PrimaryPropertyType  GHGEmissionsIntensity  \\\n",
       "0     0.000000      NonResidential           Warehouse                 0.0400   \n",
       "1     0.000000      NonResidential              Office                 0.0300   \n",
       "2     0.000000      NonResidential              Office                 0.0400   \n",
       "3     0.000000      NonResidential           Warehouse                 0.1200   \n",
       "4     0.000000      NonResidential           Warehouse                 0.0400   \n",
       "...        ...                 ...                 ...                    ...   \n",
       "1068  0.503475      NonResidential               Hotel                 4.1025   \n",
       "1069  0.017459      NonResidential              Office                 0.3000   \n",
       "1070  0.000000      NonResidential              Office                 0.3500   \n",
       "1071  0.000000      NonResidential      Medical Center                 4.1025   \n",
       "1072  0.000000  Nonresidential COS              Office                 0.3200   \n",
       "\n",
       "      Age_batiment    %_elec     %_gaz  PropertyGFATotal  \\\n",
       "0               96  0.913855  0.086148         10.045031   \n",
       "1               45  1.000003  0.000000         10.076306   \n",
       "2               62  0.999997  0.000000          9.905486   \n",
       "3               39  0.634907  0.365093          9.995930   \n",
       "4               59  1.000003  0.000000          9.910513   \n",
       "...            ...       ...       ...               ...   \n",
       "1068            93  0.426273  0.070252         13.203586   \n",
       "1069            11  0.975664  0.006877         13.381685   \n",
       "1070            27  0.948096  0.051904         13.381685   \n",
       "1071             3  0.479587  0.520413         12.706851   \n",
       "1072            26  1.000000  0.000000         13.381685   \n",
       "\n",
       "      PropertyGFABuilding(s)  SiteEnergyUse(kBtu)  TotalGHGEmissions  \\\n",
       "0                  10.045031            11.498627           0.625938   \n",
       "1                  10.076306            11.521317           0.530628   \n",
       "2                   9.905486            11.559077           0.548121   \n",
       "3                   9.995930            11.636302           1.305626   \n",
       "4                   9.910513            11.665540           0.593327   \n",
       "...                      ...                  ...                ...   \n",
       "1068               13.162967            17.849489           7.654406   \n",
       "1069               13.162967            17.849731           6.178069   \n",
       "1070               13.162967            17.851628           6.275101   \n",
       "1071               12.706851            17.871883           7.490356   \n",
       "1072               13.162967            17.935786           6.064413   \n",
       "\n",
       "      ENERGYSTARScore  \n",
       "0                99.0  \n",
       "1               100.0  \n",
       "2               100.0  \n",
       "3               100.0  \n",
       "4                49.0  \n",
       "...               ...  \n",
       "1068             45.0  \n",
       "1069             97.0  \n",
       "1070             89.0  \n",
       "1071             58.0  \n",
       "1072             89.0  \n",
       "\n",
       "[1073 rows x 16 columns]"
      ]
     },
     "execution_count": 54,
     "metadata": {},
     "output_type": "execute_result"
    }
   ],
   "source": [
    "data"
   ]
  },
  {
   "cell_type": "markdown",
   "id": "20d5182d",
   "metadata": {},
   "source": [
    "### 1. Séparation du jeu de données"
   ]
  },
  {
   "cell_type": "code",
   "execution_count": 55,
   "id": "a8da5172",
   "metadata": {},
   "outputs": [],
   "source": [
    "y1 = data['TotalGHGEmissions']\n",
    "X1 = data.drop(['TotalGHGEmissions','SiteEnergyUse(kBtu)', 'TotalGHGEmissions', 'GHGEmissionsIntensity'], axis=1)\n",
    "\n",
    "X1_train, X1_test, y1_train, y1_test = train_test_split(X1, y1, test_size = 0.25, random_state = 100)"
   ]
  },
  {
   "cell_type": "markdown",
   "id": "03f99984",
   "metadata": {},
   "source": [
    "### 2. Encodage et standardisation"
   ]
  },
  {
   "cell_type": "code",
   "execution_count": 56,
   "id": "0a386d5c",
   "metadata": {},
   "outputs": [],
   "source": [
    "numeric = X1_train.select_dtypes(['float64', 'int64']).columns\n",
    "normalisation=StandardScaler()\n",
    "\n",
    "# Preprocessing OneHot    \n",
    "categ=X1_train.select_dtypes('object').columns\n",
    "OneHot=OneHotEncoder(handle_unknown='ignore',sparse=False)\n",
    "\n",
    "\n",
    "preprocessor = ColumnTransformer(transformers=[ ('num', normalisation, numeric),\n",
    "                                                ('cat', OneHot, categ)])\n",
    "\n",
    "# Apprentissage de l'encodage et transformation des données d'entrainement\n",
    "X1_train=preprocessor.fit_transform(X1_train)\n",
    "\n",
    "# Récupération des noms des variables encodeés\n",
    "encoded_names=numeric.to_list()\n",
    "encoded_Cat_names=preprocessor.named_transformers_['cat'].get_feature_names(categ).tolist()\n",
    "encoded_names.extend(encoded_Cat_names)"
   ]
  },
  {
   "cell_type": "code",
   "execution_count": 57,
   "id": "df247a82",
   "metadata": {},
   "outputs": [],
   "source": [
    "# Application du transformer déjà entrainé sur les données de test\n",
    "X1_test= preprocessor.transform(X1_test)\n",
    "\n",
    "# création des data frame contenant les jeux encodés\n",
    "encoded_X_train=pd.DataFrame(X1_train,columns=encoded_names)\n",
    "encoded_X_test=pd.DataFrame(X1_test,columns=encoded_names)"
   ]
  },
  {
   "cell_type": "code",
   "execution_count": 58,
   "id": "c63abf52",
   "metadata": {},
   "outputs": [],
   "source": [
    "# creating set to hold the correlated features\n",
    "corr_features = set()\n",
    "\n",
    "# create the correlation matrix (default to pearson)\n",
    "corr_matrix = encoded_X_train.corr()\n",
    "\n",
    "# optional: display a heatmap of the correlation matrix\n",
    "# plt.figure(figsize=(11,11))\n",
    "# sns.heatmap(corr_matrix)\n",
    "\n",
    "for i in range(len(corr_matrix .columns)):\n",
    "    for j in range(i):\n",
    "        if abs(corr_matrix.iloc[i, j]) > 0.70:  #0.90 pour memoire essai à 0.80\n",
    "            colname = corr_matrix.columns[i]\n",
    "            corr_features.add(colname)\n",
    "            \n",
    "corr_features\n",
    "\n",
    "encoded_X_train.drop(labels=corr_features, axis=1, inplace=True)\n",
    "encoded_X_test.drop(labels=corr_features, axis=1, inplace=True)"
   ]
  },
  {
   "cell_type": "code",
   "execution_count": 59,
   "id": "3e5482e1",
   "metadata": {},
   "outputs": [
    {
     "data": {
      "text/html": [
       "<div>\n",
       "<style scoped>\n",
       "    .dataframe tbody tr th:only-of-type {\n",
       "        vertical-align: middle;\n",
       "    }\n",
       "\n",
       "    .dataframe tbody tr th {\n",
       "        vertical-align: top;\n",
       "    }\n",
       "\n",
       "    .dataframe thead th {\n",
       "        text-align: right;\n",
       "    }\n",
       "</style>\n",
       "<table border=\"1\" class=\"dataframe\">\n",
       "  <thead>\n",
       "    <tr style=\"text-align: right;\">\n",
       "      <th></th>\n",
       "      <th>NumberofBuildings</th>\n",
       "      <th>NumberofFloors</th>\n",
       "      <th>PropertyGFAParking</th>\n",
       "      <th>%_stream</th>\n",
       "      <th>Age_batiment</th>\n",
       "      <th>%_elec</th>\n",
       "      <th>PropertyGFATotal</th>\n",
       "      <th>ENERGYSTARScore</th>\n",
       "      <th>Neighborhood_BALLARD</th>\n",
       "      <th>Neighborhood_CENTRAL</th>\n",
       "      <th>...</th>\n",
       "      <th>BuildingType_NonResidential</th>\n",
       "      <th>BuildingType_Nonresidential COS</th>\n",
       "      <th>PrimaryPropertyType_Hotel</th>\n",
       "      <th>PrimaryPropertyType_Medical Center</th>\n",
       "      <th>PrimaryPropertyType_Mixed Use Property</th>\n",
       "      <th>PrimaryPropertyType_Office</th>\n",
       "      <th>PrimaryPropertyType_Other</th>\n",
       "      <th>PrimaryPropertyType_Store</th>\n",
       "      <th>PrimaryPropertyType_University</th>\n",
       "      <th>PrimaryPropertyType_Warehouse</th>\n",
       "    </tr>\n",
       "  </thead>\n",
       "  <tbody>\n",
       "    <tr>\n",
       "      <th>0</th>\n",
       "      <td>-0.079894</td>\n",
       "      <td>-1.039812</td>\n",
       "      <td>-0.537570</td>\n",
       "      <td>-0.225468</td>\n",
       "      <td>-1.119660</td>\n",
       "      <td>0.196420</td>\n",
       "      <td>0.975214</td>\n",
       "      <td>-0.149458</td>\n",
       "      <td>1.0</td>\n",
       "      <td>0.0</td>\n",
       "      <td>...</td>\n",
       "      <td>1.0</td>\n",
       "      <td>0.0</td>\n",
       "      <td>0.0</td>\n",
       "      <td>0.0</td>\n",
       "      <td>0.0</td>\n",
       "      <td>0.0</td>\n",
       "      <td>0.0</td>\n",
       "      <td>1.0</td>\n",
       "      <td>0.0</td>\n",
       "      <td>0.0</td>\n",
       "    </tr>\n",
       "    <tr>\n",
       "      <th>1</th>\n",
       "      <td>-0.079894</td>\n",
       "      <td>1.523282</td>\n",
       "      <td>1.617850</td>\n",
       "      <td>-0.225468</td>\n",
       "      <td>-1.025833</td>\n",
       "      <td>-1.206160</td>\n",
       "      <td>0.466986</td>\n",
       "      <td>-0.185094</td>\n",
       "      <td>0.0</td>\n",
       "      <td>0.0</td>\n",
       "      <td>...</td>\n",
       "      <td>1.0</td>\n",
       "      <td>0.0</td>\n",
       "      <td>1.0</td>\n",
       "      <td>0.0</td>\n",
       "      <td>0.0</td>\n",
       "      <td>0.0</td>\n",
       "      <td>0.0</td>\n",
       "      <td>0.0</td>\n",
       "      <td>0.0</td>\n",
       "      <td>0.0</td>\n",
       "    </tr>\n",
       "    <tr>\n",
       "      <th>2</th>\n",
       "      <td>-0.079894</td>\n",
       "      <td>2.573217</td>\n",
       "      <td>2.203829</td>\n",
       "      <td>-0.225468</td>\n",
       "      <td>-0.181391</td>\n",
       "      <td>0.153592</td>\n",
       "      <td>1.748291</td>\n",
       "      <td>0.028721</td>\n",
       "      <td>0.0</td>\n",
       "      <td>0.0</td>\n",
       "      <td>...</td>\n",
       "      <td>1.0</td>\n",
       "      <td>0.0</td>\n",
       "      <td>1.0</td>\n",
       "      <td>0.0</td>\n",
       "      <td>0.0</td>\n",
       "      <td>0.0</td>\n",
       "      <td>0.0</td>\n",
       "      <td>0.0</td>\n",
       "      <td>0.0</td>\n",
       "      <td>0.0</td>\n",
       "    </tr>\n",
       "    <tr>\n",
       "      <th>3</th>\n",
       "      <td>-0.079894</td>\n",
       "      <td>-1.039812</td>\n",
       "      <td>-0.537570</td>\n",
       "      <td>-0.225468</td>\n",
       "      <td>0.287744</td>\n",
       "      <td>0.086264</td>\n",
       "      <td>0.166747</td>\n",
       "      <td>0.099993</td>\n",
       "      <td>0.0</td>\n",
       "      <td>0.0</td>\n",
       "      <td>...</td>\n",
       "      <td>1.0</td>\n",
       "      <td>0.0</td>\n",
       "      <td>0.0</td>\n",
       "      <td>0.0</td>\n",
       "      <td>0.0</td>\n",
       "      <td>0.0</td>\n",
       "      <td>0.0</td>\n",
       "      <td>0.0</td>\n",
       "      <td>0.0</td>\n",
       "      <td>1.0</td>\n",
       "    </tr>\n",
       "    <tr>\n",
       "      <th>4</th>\n",
       "      <td>-0.079894</td>\n",
       "      <td>-1.039812</td>\n",
       "      <td>-0.537570</td>\n",
       "      <td>-0.225468</td>\n",
       "      <td>-0.243942</td>\n",
       "      <td>0.332020</td>\n",
       "      <td>-0.958399</td>\n",
       "      <td>-2.323249</td>\n",
       "      <td>0.0</td>\n",
       "      <td>0.0</td>\n",
       "      <td>...</td>\n",
       "      <td>1.0</td>\n",
       "      <td>0.0</td>\n",
       "      <td>0.0</td>\n",
       "      <td>0.0</td>\n",
       "      <td>0.0</td>\n",
       "      <td>0.0</td>\n",
       "      <td>0.0</td>\n",
       "      <td>0.0</td>\n",
       "      <td>0.0</td>\n",
       "      <td>1.0</td>\n",
       "    </tr>\n",
       "  </tbody>\n",
       "</table>\n",
       "<p>5 rows × 31 columns</p>\n",
       "</div>"
      ],
      "text/plain": [
       "   NumberofBuildings  NumberofFloors  PropertyGFAParking  %_stream  \\\n",
       "0          -0.079894       -1.039812           -0.537570 -0.225468   \n",
       "1          -0.079894        1.523282            1.617850 -0.225468   \n",
       "2          -0.079894        2.573217            2.203829 -0.225468   \n",
       "3          -0.079894       -1.039812           -0.537570 -0.225468   \n",
       "4          -0.079894       -1.039812           -0.537570 -0.225468   \n",
       "\n",
       "   Age_batiment    %_elec  PropertyGFATotal  ENERGYSTARScore  \\\n",
       "0     -1.119660  0.196420          0.975214        -0.149458   \n",
       "1     -1.025833 -1.206160          0.466986        -0.185094   \n",
       "2     -0.181391  0.153592          1.748291         0.028721   \n",
       "3      0.287744  0.086264          0.166747         0.099993   \n",
       "4     -0.243942  0.332020         -0.958399        -2.323249   \n",
       "\n",
       "   Neighborhood_BALLARD  Neighborhood_CENTRAL  ...  \\\n",
       "0                   1.0                   0.0  ...   \n",
       "1                   0.0                   0.0  ...   \n",
       "2                   0.0                   0.0  ...   \n",
       "3                   0.0                   0.0  ...   \n",
       "4                   0.0                   0.0  ...   \n",
       "\n",
       "   BuildingType_NonResidential  BuildingType_Nonresidential COS  \\\n",
       "0                          1.0                              0.0   \n",
       "1                          1.0                              0.0   \n",
       "2                          1.0                              0.0   \n",
       "3                          1.0                              0.0   \n",
       "4                          1.0                              0.0   \n",
       "\n",
       "   PrimaryPropertyType_Hotel  PrimaryPropertyType_Medical Center  \\\n",
       "0                        0.0                                 0.0   \n",
       "1                        1.0                                 0.0   \n",
       "2                        1.0                                 0.0   \n",
       "3                        0.0                                 0.0   \n",
       "4                        0.0                                 0.0   \n",
       "\n",
       "   PrimaryPropertyType_Mixed Use Property  PrimaryPropertyType_Office  \\\n",
       "0                                     0.0                         0.0   \n",
       "1                                     0.0                         0.0   \n",
       "2                                     0.0                         0.0   \n",
       "3                                     0.0                         0.0   \n",
       "4                                     0.0                         0.0   \n",
       "\n",
       "   PrimaryPropertyType_Other  PrimaryPropertyType_Store  \\\n",
       "0                        0.0                        1.0   \n",
       "1                        0.0                        0.0   \n",
       "2                        0.0                        0.0   \n",
       "3                        0.0                        0.0   \n",
       "4                        0.0                        0.0   \n",
       "\n",
       "   PrimaryPropertyType_University  PrimaryPropertyType_Warehouse  \n",
       "0                             0.0                            0.0  \n",
       "1                             0.0                            0.0  \n",
       "2                             0.0                            0.0  \n",
       "3                             0.0                            1.0  \n",
       "4                             0.0                            1.0  \n",
       "\n",
       "[5 rows x 31 columns]"
      ]
     },
     "execution_count": 59,
     "metadata": {},
     "output_type": "execute_result"
    }
   ],
   "source": [
    "var = VarianceThreshold(threshold=0).fit(encoded_X_train)\n",
    "\n",
    "low_var = var.get_support(indices=False)\n",
    "\n",
    "low_var_encoded_X_train=encoded_X_train.loc[:,low_var]\n",
    "low_var_encoded_X_test=encoded_X_test.loc[:,low_var]\n",
    "low_var_encoded_X_train.head(5)"
   ]
  },
  {
   "cell_type": "code",
   "execution_count": 60,
   "id": "abf3d28d",
   "metadata": {},
   "outputs": [],
   "source": [
    "X1_train=low_var_encoded_X_train\n",
    "X1_test=low_var_encoded_X_test"
   ]
  },
  {
   "cell_type": "code",
   "execution_count": null,
   "id": "748d073e",
   "metadata": {},
   "outputs": [],
   "source": []
  },
  {
   "cell_type": "markdown",
   "id": "978427f8",
   "metadata": {},
   "source": [
    "### 3. XGBoost"
   ]
  },
  {
   "cell_type": "code",
   "execution_count": 61,
   "id": "66710047",
   "metadata": {},
   "outputs": [
    {
     "name": "stdout",
     "output_type": "stream",
     "text": [
      "Le score d'apprentissage est de :  0.9999695790451423\n",
      "Le score de test est de :  0.8387661492899985\n",
      "La durée de chargement de la cellule est de :  8.05000000001499e-05\n"
     ]
    }
   ],
   "source": [
    "model9 = GradientBoostingRegressor(n_estimators = 500, learning_rate = 0.5)\n",
    "model9.fit(X1_train, y1_train)\n",
    "\n",
    "\n",
    "prediction9 = model9.predict(X1_test)\n",
    "\n",
    "\n",
    "A9 = model9.score(X1_train, y1_train)\n",
    "print (\"Le score d'apprentissage est de : \", A9)\n",
    "\n",
    "\n",
    "R9 = model9.score(X1_test, y1_test)\n",
    "print(\"Le score de test est de : \",R9)\n",
    "\n",
    "T9 = end-start\n",
    "print(\"La durée de chargement de la cellule est de : \", T9)"
   ]
  },
  {
   "cell_type": "code",
   "execution_count": 62,
   "id": "52cc5eef",
   "metadata": {},
   "outputs": [],
   "source": [
    "# MAE\n",
    "\n",
    "MAE9 = mean_absolute_error(y1_test, prediction9)\n",
    "      \n",
    "# MSE\n",
    "\n",
    "MSE9 = np.sqrt(mean_squared_error(y1_test, prediction9))"
   ]
  },
  {
   "cell_type": "code",
   "execution_count": 63,
   "id": "f9b64627",
   "metadata": {},
   "outputs": [
    {
     "data": {
      "text/html": [
       "<div>\n",
       "<style scoped>\n",
       "    .dataframe tbody tr th:only-of-type {\n",
       "        vertical-align: middle;\n",
       "    }\n",
       "\n",
       "    .dataframe tbody tr th {\n",
       "        vertical-align: top;\n",
       "    }\n",
       "\n",
       "    .dataframe thead th {\n",
       "        text-align: right;\n",
       "    }\n",
       "</style>\n",
       "<table border=\"1\" class=\"dataframe\">\n",
       "  <thead>\n",
       "    <tr style=\"text-align: right;\">\n",
       "      <th></th>\n",
       "      <th>Consommation réelle</th>\n",
       "      <th>Consommation prédite</th>\n",
       "    </tr>\n",
       "  </thead>\n",
       "  <tbody>\n",
       "    <tr>\n",
       "      <th>433</th>\n",
       "      <td>4.186468</td>\n",
       "      <td>4.001117</td>\n",
       "    </tr>\n",
       "    <tr>\n",
       "      <th>30</th>\n",
       "      <td>2.088153</td>\n",
       "      <td>3.263353</td>\n",
       "    </tr>\n",
       "    <tr>\n",
       "      <th>880</th>\n",
       "      <td>4.795212</td>\n",
       "      <td>4.571345</td>\n",
       "    </tr>\n",
       "    <tr>\n",
       "      <th>225</th>\n",
       "      <td>3.533102</td>\n",
       "      <td>4.583940</td>\n",
       "    </tr>\n",
       "    <tr>\n",
       "      <th>740</th>\n",
       "      <td>3.677566</td>\n",
       "      <td>3.612914</td>\n",
       "    </tr>\n",
       "    <tr>\n",
       "      <th>...</th>\n",
       "      <td>...</td>\n",
       "      <td>...</td>\n",
       "    </tr>\n",
       "    <tr>\n",
       "      <th>191</th>\n",
       "      <td>2.089392</td>\n",
       "      <td>2.008226</td>\n",
       "    </tr>\n",
       "    <tr>\n",
       "      <th>735</th>\n",
       "      <td>4.323470</td>\n",
       "      <td>3.960201</td>\n",
       "    </tr>\n",
       "    <tr>\n",
       "      <th>1002</th>\n",
       "      <td>6.577764</td>\n",
       "      <td>6.239836</td>\n",
       "    </tr>\n",
       "    <tr>\n",
       "      <th>962</th>\n",
       "      <td>4.680834</td>\n",
       "      <td>4.755103</td>\n",
       "    </tr>\n",
       "    <tr>\n",
       "      <th>584</th>\n",
       "      <td>3.604954</td>\n",
       "      <td>4.308557</td>\n",
       "    </tr>\n",
       "  </tbody>\n",
       "</table>\n",
       "<p>269 rows × 2 columns</p>\n",
       "</div>"
      ],
      "text/plain": [
       "      Consommation réelle  Consommation prédite\n",
       "433              4.186468              4.001117\n",
       "30               2.088153              3.263353\n",
       "880              4.795212              4.571345\n",
       "225              3.533102              4.583940\n",
       "740              3.677566              3.612914\n",
       "...                   ...                   ...\n",
       "191              2.089392              2.008226\n",
       "735              4.323470              3.960201\n",
       "1002             6.577764              6.239836\n",
       "962              4.680834              4.755103\n",
       "584              3.604954              4.308557\n",
       "\n",
       "[269 rows x 2 columns]"
      ]
     },
     "execution_count": 63,
     "metadata": {},
     "output_type": "execute_result"
    }
   ],
   "source": [
    "dataprediction3 = pd.DataFrame({'Consommation réelle':y1_test, 'Consommation prédite':prediction9})\n",
    "dataprediction3"
   ]
  },
  {
   "cell_type": "code",
   "execution_count": 64,
   "id": "f5dd6d3c",
   "metadata": {},
   "outputs": [
    {
     "data": {
      "text/plain": [
       "Text(0.5, 1.0, 'Analyse de la prédiction du XGBoost')"
      ]
     },
     "execution_count": 64,
     "metadata": {},
     "output_type": "execute_result"
    },
    {
     "data": {
      "image/png": "[encoded data removed]",
      "text/plain": [
       "<Figure size 509.625x360 with 1 Axes>"
      ]
     },
     "metadata": {
      "needs_background": "light"
     },
     "output_type": "display_data"
    }
   ],
   "source": [
    "sns.displot(dataprediction3)\n",
    "plt.title('Analyse de la prédiction du XGBoost')"
   ]
  },
  {
   "cell_type": "code",
   "execution_count": 65,
   "id": "14abadf7",
   "metadata": {},
   "outputs": [
    {
     "data": {
      "text/plain": [
       "Text(0.5, 1.0, 'Analyse de la prédiction du XGBoost')"
      ]
     },
     "execution_count": 65,
     "metadata": {},
     "output_type": "execute_result"
    },
    {
     "data": {
      "image/png": "[encoded data removed]",
      "text/plain": [
       "<Figure size 864x432 with 1 Axes>"
      ]
     },
     "metadata": {
      "needs_background": "light"
     },
     "output_type": "display_data"
    }
   ],
   "source": [
    "plt.figure(figsize = (12,6))\n",
    "\n",
    "plt.scatter(y1_test, prediction9)\n",
    "\n",
    "plt.plot(y1_test, y1_test, 'r')\n",
    "plt.title('Analyse de la prédiction du XGBoost')"
   ]
  },
  {
   "cell_type": "markdown",
   "id": "afe18684",
   "metadata": {},
   "source": [
    "Concernant ce modèle, nous remarquons que ce dernier n'a subi aucun changement majeur dans son apprentissage ou dans sa prédiction.\n",
    "L'ajout de la donnée EnergyStar n'a semble t'il aucun impact dans notre modélisation."
   ]
  },
  {
   "cell_type": "markdown",
   "id": "080f17af",
   "metadata": {},
   "source": [
    "### 4. Random Forest"
   ]
  },
  {
   "cell_type": "code",
   "execution_count": 66,
   "id": "db05108b",
   "metadata": {},
   "outputs": [
    {
     "name": "stdout",
     "output_type": "stream",
     "text": [
      "Le score d'apprentissage est de :  0.8648075657741502\n",
      "Le score de test est de :  0.8031516499424809\n",
      "La durée de chargement de la cellule est de :  8.05000000001499e-05\n"
     ]
    }
   ],
   "source": [
    "model10 = RandomForestRegressor(n_estimators = 200, max_depth = 5)\n",
    "model10.fit(X1_train, y1_train)\n",
    "\n",
    "prediction10 = model10.predict(X1_test)\n",
    "\n",
    "A10 = model10.score(X1_train, y1_train)\n",
    "print (\"Le score d'apprentissage est de : \", A10)\n",
    "\n",
    "\n",
    "R10 = model10.score(X1_test, y1_test)\n",
    "print(\"Le score de test est de : \",R10)\n",
    "\n",
    "\n",
    "T10 = end-start\n",
    "print(\"La durée de chargement de la cellule est de : \", T10)"
   ]
  },
  {
   "cell_type": "code",
   "execution_count": 67,
   "id": "75b7bf9e",
   "metadata": {},
   "outputs": [
    {
     "name": "stdout",
     "output_type": "stream",
     "text": [
      "0.5463595748889104\n",
      "0.7022897898526331\n"
     ]
    }
   ],
   "source": [
    "# MAE\n",
    "\n",
    "MAE10 = mean_absolute_error(y1_test, prediction10)\n",
    "print(MAE7)\n",
    "# MSE\n",
    "\n",
    "MSE10 = np.sqrt(mean_squared_error(y1_test, prediction10))\n",
    "print(MSE7)"
   ]
  },
  {
   "cell_type": "code",
   "execution_count": 68,
   "id": "cf6bd2be",
   "metadata": {},
   "outputs": [
    {
     "data": {
      "text/html": [
       "<div>\n",
       "<style scoped>\n",
       "    .dataframe tbody tr th:only-of-type {\n",
       "        vertical-align: middle;\n",
       "    }\n",
       "\n",
       "    .dataframe tbody tr th {\n",
       "        vertical-align: top;\n",
       "    }\n",
       "\n",
       "    .dataframe thead th {\n",
       "        text-align: right;\n",
       "    }\n",
       "</style>\n",
       "<table border=\"1\" class=\"dataframe\">\n",
       "  <thead>\n",
       "    <tr style=\"text-align: right;\">\n",
       "      <th></th>\n",
       "      <th>Consommation réelle</th>\n",
       "      <th>Consommation prédite</th>\n",
       "    </tr>\n",
       "  </thead>\n",
       "  <tbody>\n",
       "    <tr>\n",
       "      <th>433</th>\n",
       "      <td>4.186468</td>\n",
       "      <td>4.365260</td>\n",
       "    </tr>\n",
       "    <tr>\n",
       "      <th>30</th>\n",
       "      <td>2.088153</td>\n",
       "      <td>3.451107</td>\n",
       "    </tr>\n",
       "    <tr>\n",
       "      <th>880</th>\n",
       "      <td>4.795212</td>\n",
       "      <td>4.603230</td>\n",
       "    </tr>\n",
       "    <tr>\n",
       "      <th>225</th>\n",
       "      <td>3.533102</td>\n",
       "      <td>4.363261</td>\n",
       "    </tr>\n",
       "    <tr>\n",
       "      <th>740</th>\n",
       "      <td>3.677566</td>\n",
       "      <td>3.229812</td>\n",
       "    </tr>\n",
       "    <tr>\n",
       "      <th>...</th>\n",
       "      <td>...</td>\n",
       "      <td>...</td>\n",
       "    </tr>\n",
       "    <tr>\n",
       "      <th>191</th>\n",
       "      <td>2.089392</td>\n",
       "      <td>2.558404</td>\n",
       "    </tr>\n",
       "    <tr>\n",
       "      <th>735</th>\n",
       "      <td>4.323470</td>\n",
       "      <td>3.800140</td>\n",
       "    </tr>\n",
       "    <tr>\n",
       "      <th>1002</th>\n",
       "      <td>6.577764</td>\n",
       "      <td>5.462713</td>\n",
       "    </tr>\n",
       "    <tr>\n",
       "      <th>962</th>\n",
       "      <td>4.680834</td>\n",
       "      <td>4.525758</td>\n",
       "    </tr>\n",
       "    <tr>\n",
       "      <th>584</th>\n",
       "      <td>3.604954</td>\n",
       "      <td>3.488475</td>\n",
       "    </tr>\n",
       "  </tbody>\n",
       "</table>\n",
       "<p>269 rows × 2 columns</p>\n",
       "</div>"
      ],
      "text/plain": [
       "      Consommation réelle  Consommation prédite\n",
       "433              4.186468              4.365260\n",
       "30               2.088153              3.451107\n",
       "880              4.795212              4.603230\n",
       "225              3.533102              4.363261\n",
       "740              3.677566              3.229812\n",
       "...                   ...                   ...\n",
       "191              2.089392              2.558404\n",
       "735              4.323470              3.800140\n",
       "1002             6.577764              5.462713\n",
       "962              4.680834              4.525758\n",
       "584              3.604954              3.488475\n",
       "\n",
       "[269 rows x 2 columns]"
      ]
     },
     "execution_count": 68,
     "metadata": {},
     "output_type": "execute_result"
    }
   ],
   "source": [
    "dataprediction4 = pd.DataFrame({'Consommation réelle':y1_test, 'Consommation prédite':prediction10})\n",
    "dataprediction4"
   ]
  },
  {
   "cell_type": "code",
   "execution_count": 69,
   "id": "8d244c9b",
   "metadata": {},
   "outputs": [
    {
     "data": {
      "text/plain": [
       "Text(0.5, 1.0, 'Analyse de la prédiction du Random Forest')"
      ]
     },
     "execution_count": 69,
     "metadata": {},
     "output_type": "execute_result"
    },
    {
     "data": {
      "image/png": "[encoded data removed]",
      "text/plain": [
       "<Figure size 864x432 with 1 Axes>"
      ]
     },
     "metadata": {
      "needs_background": "light"
     },
     "output_type": "display_data"
    }
   ],
   "source": [
    "plt.figure(figsize = (12,6))\n",
    "\n",
    "plt.scatter(y1_test, prediction10)\n",
    "\n",
    "plt.plot(y1_test, y1_test, 'r')\n",
    "plt.title('Analyse de la prédiction du Random Forest')"
   ]
  },
  {
   "cell_type": "code",
   "execution_count": 70,
   "id": "6abd8721",
   "metadata": {},
   "outputs": [
    {
     "data": {
      "text/plain": [
       "Text(0.5, 1.0, 'Analyse de la prédiction du Random Forest')"
      ]
     },
     "execution_count": 70,
     "metadata": {},
     "output_type": "execute_result"
    },
    {
     "data": {
      "image/png": "[encoded data removed]",
      "text/plain": [
       "<Figure size 509.625x360 with 1 Axes>"
      ]
     },
     "metadata": {
      "needs_background": "light"
     },
     "output_type": "display_data"
    }
   ],
   "source": [
    "sns.displot(dataprediction4)\n",
    "plt.title('Analyse de la prédiction du Random Forest')"
   ]
  },
  {
   "cell_type": "markdown",
   "id": "7581e2a8",
   "metadata": {},
   "source": [
    "Notre modélisation présente un taux d'erreurs plus élevé que sans la variable EnergyStarScore.\n",
    "Le taux d'apprentissage et de prédiction reste très proche.\n",
    "\n",
    "Pour ce modèle, nous pouvons également confirmer que cette variable ne présente aucun impact."
   ]
  },
  {
   "cell_type": "markdown",
   "id": "c6592bd7",
   "metadata": {},
   "source": [
    "## IV. Analyse des modélisations"
   ]
  },
  {
   "cell_type": "markdown",
   "id": "2a63c549",
   "metadata": {},
   "source": [
    "### 1. Analyse des résultats"
   ]
  },
  {
   "cell_type": "code",
   "execution_count": 71,
   "id": "94d43fdf",
   "metadata": {},
   "outputs": [
    {
     "data": {
      "text/html": [
       "<div>\n",
       "<style scoped>\n",
       "    .dataframe tbody tr th:only-of-type {\n",
       "        vertical-align: middle;\n",
       "    }\n",
       "\n",
       "    .dataframe tbody tr th {\n",
       "        vertical-align: top;\n",
       "    }\n",
       "\n",
       "    .dataframe thead th {\n",
       "        text-align: right;\n",
       "    }\n",
       "</style>\n",
       "<table border=\"1\" class=\"dataframe\">\n",
       "  <thead>\n",
       "    <tr style=\"text-align: right;\">\n",
       "      <th></th>\n",
       "      <th>Score Apprentissage</th>\n",
       "      <th>Score Test</th>\n",
       "      <th>MAE</th>\n",
       "      <th>MSE</th>\n",
       "      <th>Temps</th>\n",
       "    </tr>\n",
       "  </thead>\n",
       "  <tbody>\n",
       "    <tr>\n",
       "      <th>XGBoost sans ENERGYSTAR</th>\n",
       "      <td>0.998472</td>\n",
       "      <td>0.733167</td>\n",
       "      <td>0.547508</td>\n",
       "      <td>0.713328</td>\n",
       "      <td>0.000081</td>\n",
       "    </tr>\n",
       "    <tr>\n",
       "      <th>Random Forest sans ENERGYSTAR</th>\n",
       "      <td>0.772862</td>\n",
       "      <td>0.741361</td>\n",
       "      <td>0.546360</td>\n",
       "      <td>0.702290</td>\n",
       "      <td>4.333593</td>\n",
       "    </tr>\n",
       "    <tr>\n",
       "      <th>XGBoost avec ENERGYSTAR</th>\n",
       "      <td>0.999970</td>\n",
       "      <td>0.838766</td>\n",
       "      <td>0.380816</td>\n",
       "      <td>0.517526</td>\n",
       "      <td>0.000081</td>\n",
       "    </tr>\n",
       "    <tr>\n",
       "      <th>Random Forest avec ENERGYSTAR</th>\n",
       "      <td>0.864808</td>\n",
       "      <td>0.803152</td>\n",
       "      <td>0.446904</td>\n",
       "      <td>0.571834</td>\n",
       "      <td>0.000081</td>\n",
       "    </tr>\n",
       "  </tbody>\n",
       "</table>\n",
       "</div>"
      ],
      "text/plain": [
       "                               Score Apprentissage  Score Test       MAE  \\\n",
       "XGBoost sans ENERGYSTAR                   0.998472    0.733167  0.547508   \n",
       "Random Forest sans ENERGYSTAR             0.772862    0.741361  0.546360   \n",
       "XGBoost avec ENERGYSTAR                   0.999970    0.838766  0.380816   \n",
       "Random Forest avec ENERGYSTAR             0.864808    0.803152  0.446904   \n",
       "\n",
       "                                    MSE     Temps  \n",
       "XGBoost sans ENERGYSTAR        0.713328  0.000081  \n",
       "Random Forest sans ENERGYSTAR  0.702290  4.333593  \n",
       "XGBoost avec ENERGYSTAR        0.517526  0.000081  \n",
       "Random Forest avec ENERGYSTAR  0.571834  0.000081  "
      ]
     },
     "execution_count": 71,
     "metadata": {},
     "output_type": "execute_result"
    }
   ],
   "source": [
    "A = [A6, A7, A9, A10]\n",
    "R = [R6, R7, R9, R10]\n",
    "T = [T6, T7, T9, T10]\n",
    "MAE = [MAE6, MAE7, MAE9, MAE10]\n",
    "MSE = [MSE6, MSE7, MSE9, MSE10]\n",
    "\n",
    "indice = ['XGBoost sans ENERGYSTAR', 'Random Forest sans ENERGYSTAR', 'XGBoost avec ENERGYSTAR', 'Random Forest avec ENERGYSTAR']\n",
    "\n",
    "\n",
    "data_analyse2 = pd.DataFrame ({'Score Apprentissage': A,'Score Test' : R, 'MAE':MAE, 'MSE':MSE, 'Temps':T}, index = indice)\n",
    "data_analyse2"
   ]
  },
  {
   "cell_type": "code",
   "execution_count": 72,
   "id": "66434b7f",
   "metadata": {},
   "outputs": [
    {
     "data": {
      "text/plain": [
       "Text(0.5, 1.0, 'Représentation du MSE pour nos modèles')"
      ]
     },
     "execution_count": 72,
     "metadata": {},
     "output_type": "execute_result"
    },
    {
     "data": {
      "image/png": "[encoded data removed]",
      "text/plain": [
       "<Figure size 1080x720 with 4 Axes>"
      ]
     },
     "metadata": {
      "needs_background": "light"
     },
     "output_type": "display_data"
    }
   ],
   "source": [
    "plt.figure (figsize = (15,10))\n",
    "plt.subplots_adjust(hspace = 1.5, wspace = 0.5)\n",
    "\n",
    "plt.subplot(2, 2, 1)\n",
    "data_analyse2['Score Apprentissage'].plot(kind = 'bar')\n",
    "plt.title(\"Représentation de notre phase d'apprentissage pour nos modèles\")\n",
    "\n",
    "plt.subplot(2, 2, 2)\n",
    "data_analyse2['Score Test'].plot(kind = 'bar')\n",
    "plt.title(\"Représentation de notre phase de test pour nos modèles\")\n",
    "\n",
    "plt.subplot(2, 2, 3)\n",
    "data_analyse2['MAE'].plot(kind = 'bar')\n",
    "plt.title(\"Représentation du MAE pour nos modèles\")\n",
    "\n",
    "plt.subplot(2, 2, 4)\n",
    "data_analyse2['MSE'].plot(kind = 'bar')\n",
    "plt.title(\"Représentation du MSE pour nos modèles\")"
   ]
  },
  {
   "cell_type": "markdown",
   "id": "248c3900",
   "metadata": {},
   "source": [
    "Nous pouvons ici constater que le modèle XGBoost obtient le meilleur score de test avec environ 0.88, ce qui représente un excellent score. Nous allons ici procéder à une amélioration de notre score à travers une optimisation.\n",
    "Seul le modèle XGBoost sera amélioré car ce dernier représente le meilleur résultat.\n",
    "\n",
    "Pour cela, nous allons démarrer par la méthode du Cross Validation puis ensuite par la méthode du GridSearchCV pour tenter de trouver les paramètres permettant une amélioration de notre modèle."
   ]
  },
  {
   "cell_type": "markdown",
   "id": "2cb4475a",
   "metadata": {},
   "source": [
    "# V. Optimisation des modèles"
   ]
  },
  {
   "cell_type": "markdown",
   "id": "eab6ccac",
   "metadata": {},
   "source": [
    "### Cross Validation du XGBoost"
   ]
  },
  {
   "cell_type": "code",
   "execution_count": 73,
   "id": "6fc1365b",
   "metadata": {},
   "outputs": [
    {
     "data": {
      "text/plain": [
       "0.8570745279952023"
      ]
     },
     "execution_count": 73,
     "metadata": {},
     "output_type": "execute_result"
    }
   ],
   "source": [
    "cross_val_score(GradientBoostingRegressor(), X1_train, y1_train, cv = 10).mean()"
   ]
  },
  {
   "cell_type": "code",
   "execution_count": 74,
   "id": "0f6f18ad",
   "metadata": {},
   "outputs": [
    {
     "name": "stdout",
     "output_type": "stream",
     "text": [
      "Wall time: 1min 26s\n"
     ]
    }
   ],
   "source": [
    "%%time\n",
    "\n",
    "est = [100, 200, 300, 400, 500, 600, 700, 800, 900, 1000]\n",
    "score_apprentissage, score_validation = validation_curve(model9, X1_train, y1_train,\n",
    "                                                        param_name = 'n_estimators',\n",
    "                                                        param_range = est, cv = 10)"
   ]
  },
  {
   "cell_type": "code",
   "execution_count": 75,
   "id": "2ba34693",
   "metadata": {},
   "outputs": [
    {
     "data": {
      "text/plain": [
       "array([0.81617618, 0.80477421, 0.80875624, 0.80946553, 0.80602425,\n",
       "       0.80057081, 0.80448798, 0.80555244, 0.80884422, 0.80754084])"
      ]
     },
     "execution_count": 75,
     "metadata": {},
     "output_type": "execute_result"
    }
   ],
   "source": [
    "score_validation.mean(axis = 1)"
   ]
  },
  {
   "cell_type": "code",
   "execution_count": 76,
   "id": "1a46fba0",
   "metadata": {},
   "outputs": [
    {
     "data": {
      "text/plain": [
       "<matplotlib.legend.Legend at 0x2241d47cf40>"
      ]
     },
     "execution_count": 76,
     "metadata": {},
     "output_type": "execute_result"
    },
    {
     "data": {
      "image/png": "[encoded data removed]",
      "text/plain": [
       "<Figure size 432x288 with 1 Axes>"
      ]
     },
     "metadata": {
      "needs_background": "light"
     },
     "output_type": "display_data"
    }
   ],
   "source": [
    "plt.plot(est, score_validation.mean(axis = 1), marker = 'v', label = 'Score validation')\n",
    "plt.plot(est, score_apprentissage.mean(axis = 1), marker = 'v', label = 'Score apprentissage')\n",
    "plt.legend()"
   ]
  },
  {
   "cell_type": "code",
   "execution_count": 77,
   "id": "a2e98807",
   "metadata": {},
   "outputs": [
    {
     "name": "stdout",
     "output_type": "stream",
     "text": [
      "Wall time: 1min 1s\n"
     ]
    }
   ],
   "source": [
    "%%time\n",
    "\n",
    "est = [0.001, 0.01, 0.05, 0.1, 0.15, 0.2, 0.25, 0.3]\n",
    "score_apprentissage, score_validation = validation_curve(model9, X1_train, y1_train,\n",
    "                                                        param_name = 'learning_rate',\n",
    "                                                        param_range = est, cv = 10)"
   ]
  },
  {
   "cell_type": "code",
   "execution_count": 78,
   "id": "14ee83ad",
   "metadata": {},
   "outputs": [
    {
     "data": {
      "text/plain": [
       "array([0.40692651, 0.8366129 , 0.85518753, 0.844538  , 0.84945352,\n",
       "       0.83182847, 0.82520308, 0.82284197])"
      ]
     },
     "execution_count": 78,
     "metadata": {},
     "output_type": "execute_result"
    }
   ],
   "source": [
    "score_validation.mean(axis = 1)"
   ]
  },
  {
   "cell_type": "code",
   "execution_count": 79,
   "id": "6d2b3efb",
   "metadata": {},
   "outputs": [
    {
     "data": {
      "text/plain": [
       "<matplotlib.legend.Legend at 0x2241d792460>"
      ]
     },
     "execution_count": 79,
     "metadata": {},
     "output_type": "execute_result"
    },
    {
     "data": {
      "image/png": "[encoded data removed]",
      "text/plain": [
       "<Figure size 432x288 with 1 Axes>"
      ]
     },
     "metadata": {
      "needs_background": "light"
     },
     "output_type": "display_data"
    }
   ],
   "source": [
    "plt.plot(est, score_validation.mean(axis = 1), marker = 'v', label = 'Score validation')\n",
    "plt.plot(est, score_apprentissage.mean(axis = 1), marker = 'v', label = 'Score apprentissage')\n",
    "plt.legend()"
   ]
  },
  {
   "cell_type": "markdown",
   "id": "04280aa4",
   "metadata": {},
   "source": [
    "Dans le cadre de notre Cross-Validation, nous pouvons constater les données suivantes :\n",
    "    \n",
    "    - notre modèle semble avoir la possibilité de procéder à une amélioration de son score de test grâce aux paramètres,\n",
    "    - pour le n_estimators, le meilleur score semble être présent entre 10 et 100, nous allons tester également les données 300 et 500 qui semblent assez proches,\n",
    "    - pour le learning_rate, le meilleur score semble être présent entre 0.03 et 0.06.\n",
    "    \n",
    "Nous allons tester les paramètres suivants afin de répondre à une amélioration de notre modèle."
   ]
  },
  {
   "cell_type": "markdown",
   "id": "97f22e49",
   "metadata": {},
   "source": [
    "### 1. Optimisation du XGBoost"
   ]
  },
  {
   "cell_type": "code",
   "execution_count": 80,
   "id": "f71fcba6",
   "metadata": {},
   "outputs": [
    {
     "name": "stdout",
     "output_type": "stream",
     "text": [
      "Wall time: 0 ns\n"
     ]
    }
   ],
   "source": [
    "%%time\n",
    "\n",
    "grid_param = {'n_estimators': [20, 40, 60, 80 ,100, 300],\n",
    "             'learning_rate': [0.03, 0.04, 0.05, 0.06, 0.07]}\n",
    "              \n",
    "grid_search_xg = GridSearchCV(GradientBoostingRegressor(), grid_param, cv = 5, verbose = 5)"
   ]
  },
  {
   "cell_type": "code",
   "execution_count": 81,
   "id": "7e221b8a",
   "metadata": {},
   "outputs": [
    {
     "name": "stdout",
     "output_type": "stream",
     "text": [
      "Fitting 5 folds for each of 30 candidates, totalling 150 fits\n",
      "[CV 1/5] END learning_rate=0.03, n_estimators=20;, score=0.459 total time=   0.0s\n",
      "[CV 2/5] END learning_rate=0.03, n_estimators=20;, score=0.464 total time=   0.0s\n",
      "[CV 3/5] END learning_rate=0.03, n_estimators=20;, score=0.458 total time=   0.0s\n",
      "[CV 4/5] END learning_rate=0.03, n_estimators=20;, score=0.480 total time=   0.0s\n",
      "[CV 5/5] END learning_rate=0.03, n_estimators=20;, score=0.447 total time=   0.0s\n",
      "[CV 1/5] END learning_rate=0.03, n_estimators=40;, score=0.639 total time=   0.0s\n",
      "[CV 2/5] END learning_rate=0.03, n_estimators=40;, score=0.635 total time=   0.0s\n",
      "[CV 3/5] END learning_rate=0.03, n_estimators=40;, score=0.652 total time=   0.0s\n",
      "[CV 4/5] END learning_rate=0.03, n_estimators=40;, score=0.668 total time=   0.0s\n",
      "[CV 5/5] END learning_rate=0.03, n_estimators=40;, score=0.620 total time=   0.0s\n",
      "[CV 1/5] END learning_rate=0.03, n_estimators=60;, score=0.726 total time=   0.0s\n",
      "[CV 2/5] END learning_rate=0.03, n_estimators=60;, score=0.717 total time=   0.0s\n",
      "[CV 3/5] END learning_rate=0.03, n_estimators=60;, score=0.758 total time=   0.0s\n",
      "[CV 4/5] END learning_rate=0.03, n_estimators=60;, score=0.751 total time=   0.0s\n",
      "[CV 5/5] END learning_rate=0.03, n_estimators=60;, score=0.702 total time=   0.0s\n",
      "[CV 1/5] END learning_rate=0.03, n_estimators=80;, score=0.769 total time=   0.0s\n",
      "[CV 2/5] END learning_rate=0.03, n_estimators=80;, score=0.759 total time=   0.0s\n",
      "[CV 3/5] END learning_rate=0.03, n_estimators=80;, score=0.815 total time=   0.0s\n",
      "[CV 4/5] END learning_rate=0.03, n_estimators=80;, score=0.789 total time=   0.0s\n",
      "[CV 5/5] END learning_rate=0.03, n_estimators=80;, score=0.747 total time=   0.0s\n",
      "[CV 1/5] END learning_rate=0.03, n_estimators=100;, score=0.792 total time=   0.1s\n",
      "[CV 2/5] END learning_rate=0.03, n_estimators=100;, score=0.785 total time=   0.1s\n",
      "[CV 3/5] END learning_rate=0.03, n_estimators=100;, score=0.850 total time=   0.1s\n",
      "[CV 4/5] END learning_rate=0.03, n_estimators=100;, score=0.814 total time=   0.1s\n",
      "[CV 5/5] END learning_rate=0.03, n_estimators=100;, score=0.775 total time=   0.0s\n",
      "[CV 1/5] END learning_rate=0.03, n_estimators=300;, score=0.842 total time=   0.3s\n",
      "[CV 2/5] END learning_rate=0.03, n_estimators=300;, score=0.853 total time=   0.3s\n",
      "[CV 3/5] END learning_rate=0.03, n_estimators=300;, score=0.922 total time=   0.3s\n",
      "[CV 4/5] END learning_rate=0.03, n_estimators=300;, score=0.853 total time=   0.3s\n",
      "[CV 5/5] END learning_rate=0.03, n_estimators=300;, score=0.830 total time=   0.3s\n",
      "[CV 1/5] END learning_rate=0.04, n_estimators=20;, score=0.535 total time=   0.0s\n",
      "[CV 2/5] END learning_rate=0.04, n_estimators=20;, score=0.543 total time=   0.0s\n",
      "[CV 3/5] END learning_rate=0.04, n_estimators=20;, score=0.546 total time=   0.0s\n",
      "[CV 4/5] END learning_rate=0.04, n_estimators=20;, score=0.560 total time=   0.0s\n",
      "[CV 5/5] END learning_rate=0.04, n_estimators=20;, score=0.518 total time=   0.0s\n",
      "[CV 1/5] END learning_rate=0.04, n_estimators=40;, score=0.713 total time=   0.0s\n",
      "[CV 2/5] END learning_rate=0.04, n_estimators=40;, score=0.700 total time=   0.0s\n",
      "[CV 3/5] END learning_rate=0.04, n_estimators=40;, score=0.727 total time=   0.0s\n",
      "[CV 4/5] END learning_rate=0.04, n_estimators=40;, score=0.731 total time=   0.0s\n",
      "[CV 5/5] END learning_rate=0.04, n_estimators=40;, score=0.678 total time=   0.0s\n",
      "[CV 1/5] END learning_rate=0.04, n_estimators=60;, score=0.777 total time=   0.0s\n",
      "[CV 2/5] END learning_rate=0.04, n_estimators=60;, score=0.764 total time=   0.0s\n",
      "[CV 3/5] END learning_rate=0.04, n_estimators=60;, score=0.814 total time=   0.0s\n",
      "[CV 4/5] END learning_rate=0.04, n_estimators=60;, score=0.788 total time=   0.0s\n",
      "[CV 5/5] END learning_rate=0.04, n_estimators=60;, score=0.744 total time=   0.0s\n",
      "[CV 1/5] END learning_rate=0.04, n_estimators=80;, score=0.800 total time=   0.0s\n",
      "[CV 2/5] END learning_rate=0.04, n_estimators=80;, score=0.794 total time=   0.0s\n",
      "[CV 3/5] END learning_rate=0.04, n_estimators=80;, score=0.858 total time=   0.0s\n",
      "[CV 4/5] END learning_rate=0.04, n_estimators=80;, score=0.822 total time=   0.0s\n",
      "[CV 5/5] END learning_rate=0.04, n_estimators=80;, score=0.779 total time=   0.0s\n",
      "[CV 1/5] END learning_rate=0.04, n_estimators=100;, score=0.817 total time=   0.0s\n",
      "[CV 2/5] END learning_rate=0.04, n_estimators=100;, score=0.817 total time=   0.0s\n",
      "[CV 3/5] END learning_rate=0.04, n_estimators=100;, score=0.880 total time=   0.0s\n",
      "[CV 4/5] END learning_rate=0.04, n_estimators=100;, score=0.837 total time=   0.0s\n",
      "[CV 5/5] END learning_rate=0.04, n_estimators=100;, score=0.799 total time=   0.0s\n",
      "[CV 1/5] END learning_rate=0.04, n_estimators=300;, score=0.851 total time=   0.3s\n",
      "[CV 2/5] END learning_rate=0.04, n_estimators=300;, score=0.856 total time=   0.3s\n",
      "[CV 3/5] END learning_rate=0.04, n_estimators=300;, score=0.923 total time=   0.3s\n",
      "[CV 4/5] END learning_rate=0.04, n_estimators=300;, score=0.857 total time=   0.3s\n",
      "[CV 5/5] END learning_rate=0.04, n_estimators=300;, score=0.833 total time=   0.3s\n",
      "[CV 1/5] END learning_rate=0.05, n_estimators=20;, score=0.599 total time=   0.0s\n",
      "[CV 2/5] END learning_rate=0.05, n_estimators=20;, score=0.597 total time=   0.0s\n",
      "[CV 3/5] END learning_rate=0.05, n_estimators=20;, score=0.604 total time=   0.0s\n",
      "[CV 4/5] END learning_rate=0.05, n_estimators=20;, score=0.624 total time=   0.0s\n",
      "[CV 5/5] END learning_rate=0.05, n_estimators=20;, score=0.580 total time=   0.0s\n",
      "[CV 1/5] END learning_rate=0.05, n_estimators=40;, score=0.746 total time=   0.0s\n",
      "[CV 2/5] END learning_rate=0.05, n_estimators=40;, score=0.738 total time=   0.0s\n",
      "[CV 3/5] END learning_rate=0.05, n_estimators=40;, score=0.777 total time=   0.0s\n",
      "[CV 4/5] END learning_rate=0.05, n_estimators=40;, score=0.769 total time=   0.0s\n",
      "[CV 5/5] END learning_rate=0.05, n_estimators=40;, score=0.716 total time=   0.0s\n",
      "[CV 1/5] END learning_rate=0.05, n_estimators=60;, score=0.794 total time=   0.0s\n",
      "[CV 2/5] END learning_rate=0.05, n_estimators=60;, score=0.793 total time=   0.0s\n",
      "[CV 3/5] END learning_rate=0.05, n_estimators=60;, score=0.849 total time=   0.0s\n",
      "[CV 4/5] END learning_rate=0.05, n_estimators=60;, score=0.814 total time=   0.0s\n",
      "[CV 5/5] END learning_rate=0.05, n_estimators=60;, score=0.773 total time=   0.0s\n",
      "[CV 1/5] END learning_rate=0.05, n_estimators=80;, score=0.811 total time=   0.0s\n",
      "[CV 2/5] END learning_rate=0.05, n_estimators=80;, score=0.821 total time=   0.0s\n",
      "[CV 3/5] END learning_rate=0.05, n_estimators=80;, score=0.883 total time=   0.0s\n",
      "[CV 4/5] END learning_rate=0.05, n_estimators=80;, score=0.834 total time=   0.0s\n",
      "[CV 5/5] END learning_rate=0.05, n_estimators=80;, score=0.798 total time=   0.0s\n",
      "[CV 1/5] END learning_rate=0.05, n_estimators=100;, score=0.824 total time=   0.0s\n",
      "[CV 2/5] END learning_rate=0.05, n_estimators=100;, score=0.837 total time=   0.0s\n",
      "[CV 3/5] END learning_rate=0.05, n_estimators=100;, score=0.900 total time=   0.0s\n",
      "[CV 4/5] END learning_rate=0.05, n_estimators=100;, score=0.846 total time=   0.0s\n",
      "[CV 5/5] END learning_rate=0.05, n_estimators=100;, score=0.810 total time=   0.0s\n",
      "[CV 1/5] END learning_rate=0.05, n_estimators=300;, score=0.845 total time=   0.3s\n",
      "[CV 2/5] END learning_rate=0.05, n_estimators=300;, score=0.861 total time=   0.3s\n",
      "[CV 3/5] END learning_rate=0.05, n_estimators=300;, score=0.926 total time=   0.3s\n",
      "[CV 4/5] END learning_rate=0.05, n_estimators=300;, score=0.850 total time=   0.3s\n",
      "[CV 5/5] END learning_rate=0.05, n_estimators=300;, score=0.829 total time=   0.3s\n",
      "[CV 1/5] END learning_rate=0.06, n_estimators=20;, score=0.640 total time=   0.0s\n",
      "[CV 2/5] END learning_rate=0.06, n_estimators=20;, score=0.636 total time=   0.0s\n",
      "[CV 3/5] END learning_rate=0.06, n_estimators=20;, score=0.657 total time=   0.0s\n",
      "[CV 4/5] END learning_rate=0.06, n_estimators=20;, score=0.673 total time=   0.0s\n",
      "[CV 5/5] END learning_rate=0.06, n_estimators=20;, score=0.620 total time=   0.0s\n",
      "[CV 1/5] END learning_rate=0.06, n_estimators=40;, score=0.766 total time=   0.0s\n",
      "[CV 2/5] END learning_rate=0.06, n_estimators=40;, score=0.757 total time=   0.0s\n",
      "[CV 3/5] END learning_rate=0.06, n_estimators=40;, score=0.813 total time=   0.0s\n",
      "[CV 4/5] END learning_rate=0.06, n_estimators=40;, score=0.788 total time=   0.0s\n",
      "[CV 5/5] END learning_rate=0.06, n_estimators=40;, score=0.743 total time=   0.0s\n",
      "[CV 1/5] END learning_rate=0.06, n_estimators=60;, score=0.802 total time=   0.0s\n",
      "[CV 2/5] END learning_rate=0.06, n_estimators=60;, score=0.806 total time=   0.0s\n",
      "[CV 3/5] END learning_rate=0.06, n_estimators=60;, score=0.871 total time=   0.0s\n",
      "[CV 4/5] END learning_rate=0.06, n_estimators=60;, score=0.831 total time=   0.0s\n",
      "[CV 5/5] END learning_rate=0.06, n_estimators=60;, score=0.790 total time=   0.0s\n",
      "[CV 1/5] END learning_rate=0.06, n_estimators=80;, score=0.822 total time=   0.0s\n",
      "[CV 2/5] END learning_rate=0.06, n_estimators=80;, score=0.833 total time=   0.0s\n",
      "[CV 3/5] END learning_rate=0.06, n_estimators=80;, score=0.900 total time=   0.0s\n",
      "[CV 4/5] END learning_rate=0.06, n_estimators=80;, score=0.844 total time=   0.0s\n",
      "[CV 5/5] END learning_rate=0.06, n_estimators=80;, score=0.811 total time=   0.0s\n",
      "[CV 1/5] END learning_rate=0.06, n_estimators=100;, score=0.832 total time=   0.0s\n",
      "[CV 2/5] END learning_rate=0.06, n_estimators=100;, score=0.840 total time=   0.0s\n",
      "[CV 3/5] END learning_rate=0.06, n_estimators=100;, score=0.912 total time=   0.0s\n",
      "[CV 4/5] END learning_rate=0.06, n_estimators=100;, score=0.848 total time=   0.0s\n",
      "[CV 5/5] END learning_rate=0.06, n_estimators=100;, score=0.822 total time=   0.0s\n",
      "[CV 1/5] END learning_rate=0.06, n_estimators=300;, score=0.850 total time=   0.3s\n",
      "[CV 2/5] END learning_rate=0.06, n_estimators=300;, score=0.863 total time=   0.3s\n",
      "[CV 3/5] END learning_rate=0.06, n_estimators=300;, score=0.923 total time=   0.3s\n",
      "[CV 4/5] END learning_rate=0.06, n_estimators=300;, score=0.853 total time=   0.3s\n",
      "[CV 5/5] END learning_rate=0.06, n_estimators=300;, score=0.833 total time=   0.3s\n",
      "[CV 1/5] END learning_rate=0.07, n_estimators=20;, score=0.686 total time=   0.0s\n",
      "[CV 2/5] END learning_rate=0.07, n_estimators=20;, score=0.681 total time=   0.0s\n",
      "[CV 3/5] END learning_rate=0.07, n_estimators=20;, score=0.700 total time=   0.0s\n",
      "[CV 4/5] END learning_rate=0.07, n_estimators=20;, score=0.709 total time=   0.0s\n",
      "[CV 5/5] END learning_rate=0.07, n_estimators=20;, score=0.652 total time=   0.0s\n",
      "[CV 1/5] END learning_rate=0.07, n_estimators=40;, score=0.792 total time=   0.0s\n",
      "[CV 2/5] END learning_rate=0.07, n_estimators=40;, score=0.786 total time=   0.0s\n",
      "[CV 3/5] END learning_rate=0.07, n_estimators=40;, score=0.840 total time=   0.0s\n",
      "[CV 4/5] END learning_rate=0.07, n_estimators=40;, score=0.818 total time=   0.0s\n",
      "[CV 5/5] END learning_rate=0.07, n_estimators=40;, score=0.763 total time=   0.0s\n",
      "[CV 1/5] END learning_rate=0.07, n_estimators=60;, score=0.817 total time=   0.0s\n",
      "[CV 2/5] END learning_rate=0.07, n_estimators=60;, score=0.825 total time=   0.0s\n",
      "[CV 3/5] END learning_rate=0.07, n_estimators=60;, score=0.885 total time=   0.0s\n",
      "[CV 4/5] END learning_rate=0.07, n_estimators=60;, score=0.840 total time=   0.0s\n",
      "[CV 5/5] END learning_rate=0.07, n_estimators=60;, score=0.803 total time=   0.0s\n",
      "[CV 1/5] END learning_rate=0.07, n_estimators=80;, score=0.826 total time=   0.0s\n",
      "[CV 2/5] END learning_rate=0.07, n_estimators=80;, score=0.842 total time=   0.0s\n",
      "[CV 3/5] END learning_rate=0.07, n_estimators=80;, score=0.905 total time=   0.0s\n",
      "[CV 4/5] END learning_rate=0.07, n_estimators=80;, score=0.854 total time=   0.0s\n",
      "[CV 5/5] END learning_rate=0.07, n_estimators=80;, score=0.818 total time=   0.0s\n",
      "[CV 1/5] END learning_rate=0.07, n_estimators=100;, score=0.842 total time=   0.0s\n",
      "[CV 2/5] END learning_rate=0.07, n_estimators=100;, score=0.846 total time=   0.0s\n",
      "[CV 3/5] END learning_rate=0.07, n_estimators=100;, score=0.911 total time=   0.0s\n",
      "[CV 4/5] END learning_rate=0.07, n_estimators=100;, score=0.853 total time=   0.0s\n",
      "[CV 5/5] END learning_rate=0.07, n_estimators=100;, score=0.827 total time=   0.0s\n",
      "[CV 1/5] END learning_rate=0.07, n_estimators=300;, score=0.844 total time=   0.3s\n",
      "[CV 2/5] END learning_rate=0.07, n_estimators=300;, score=0.861 total time=   0.3s\n",
      "[CV 3/5] END learning_rate=0.07, n_estimators=300;, score=0.924 total time=   0.3s\n",
      "[CV 4/5] END learning_rate=0.07, n_estimators=300;, score=0.860 total time=   0.3s\n",
      "[CV 5/5] END learning_rate=0.07, n_estimators=300;, score=0.834 total time=   0.3s\n",
      "Wall time: 22.3 s\n"
     ]
    },
    {
     "data": {
      "text/plain": [
       "GridSearchCV(cv=5, estimator=GradientBoostingRegressor(),\n",
       "             param_grid={'learning_rate': [0.03, 0.04, 0.05, 0.06, 0.07],\n",
       "                         'n_estimators': [20, 40, 60, 80, 100, 300]},\n",
       "             verbose=5)"
      ]
     },
     "execution_count": 81,
     "metadata": {},
     "output_type": "execute_result"
    }
   ],
   "source": [
    "%%time\n",
    "\n",
    "# ici, on entraine la fonction\n",
    "grid_search_xg.fit(X1_train, y1_train)\n",
    "\n"
   ]
  },
  {
   "cell_type": "code",
   "execution_count": 82,
   "id": "9bd3317e",
   "metadata": {
    "scrolled": true
   },
   "outputs": [
    {
     "name": "stdout",
     "output_type": "stream",
     "text": [
      "Le meilleur score avec les hyperparamètres est de :  0.8647040015651957\n",
      "Les meilleurs hyperparamètres sont :  {'learning_rate': 0.07, 'n_estimators': 300}\n"
     ]
    }
   ],
   "source": [
    "# Obtenir le meilleur score selon nos choix d'hyperparamètres\n",
    "print('Le meilleur score avec les hyperparamètres est de : ',grid_search_xg.best_score_)\n",
    "\n",
    "# Connaître les meilleurs paramètres\n",
    "print('Les meilleurs hyperparamètres sont : ',grid_search_xg.best_params_)"
   ]
  },
  {
   "cell_type": "markdown",
   "id": "36297bd5",
   "metadata": {},
   "source": [
    "# "
   ]
  },
  {
   "cell_type": "markdown",
   "id": "9ed78bc4",
   "metadata": {},
   "source": [
    "Nous pouvons constater que la sélection de nos paramètres à travers une méthode du cross-validation puis le GridSearchCV a permis une amélioration d'environ 0.3 points à notre modèle pour obtenir un score final d'environ 0.86.\n",
    "\n",
    "Nous pouvons affirmer que ce score présente un excellent score pour notre modèle. Le XGBoost sera le modèle sélectionné pour notre projet."
   ]
  },
  {
   "cell_type": "markdown",
   "id": "f7b32d61",
   "metadata": {},
   "source": [
    "# "
   ]
  },
  {
   "cell_type": "markdown",
   "id": "90d16343",
   "metadata": {},
   "source": [
    "### 3. Analyse de l'apport des variables sur nos modèles"
   ]
  },
  {
   "cell_type": "markdown",
   "id": "dddba31b",
   "metadata": {},
   "source": [
    "Afin de déterminer le rapport de nos variables sur notre modèle, nous allons utiliser la bibliothèque shap.\n",
    "\n",
    "Cette dernière va nous permettre de connaître les variables ayant la plus grande utilité pour notre modèle."
   ]
  },
  {
   "cell_type": "code",
   "execution_count": 83,
   "id": "e70a733e",
   "metadata": {},
   "outputs": [],
   "source": [
    "explainer = shap.TreeExplainer(model9)"
   ]
  },
  {
   "cell_type": "code",
   "execution_count": 84,
   "id": "5b24487c",
   "metadata": {},
   "outputs": [],
   "source": [
    "row_to_show = 5\n",
    "data_for_prediction = X1_test.iloc[row_to_show]  # use 1 row of data here. Could use multiple rows if desired\n",
    "data_for_prediction_array = data_for_prediction.values.reshape(1, -1)"
   ]
  },
  {
   "cell_type": "code",
   "execution_count": 85,
   "id": "970950d9",
   "metadata": {},
   "outputs": [
    {
     "data": {
      "image/png": "[encoded data removed]",
      "text/plain": [
       "<Figure size 576x468 with 1 Axes>"
      ]
     },
     "metadata": {},
     "output_type": "display_data"
    }
   ],
   "source": [
    "# Création de la donnée shap values\n",
    "shap_values = explainer(X1_train)\n",
    "\n",
    "#Moyenne SHAP\n",
    "shap.plots.bar(shap_values)\n"
   ]
  },
  {
   "cell_type": "markdown",
   "id": "4816eb44",
   "metadata": {},
   "source": [
    "Nous constatons ici que nos variables qualitatives concernant le % d'électricité dans la consommation d'un immeuble, la superficie totale et l'EnergyStarScore sont les principales variables ayant permis d'obtenir un score aussi important pour notre modèle.\n",
    "\n",
    "A l'inverse, certaines variables semble n'avoir aucun impact. En effet, environ 24 colonnes dans notre modèle n'ont aucun impact sur notre modèle. Ces dernières peuvent avoir un impact de surajustement comme nous avons constaté dans notre modèle de prédiction de la consommation."
   ]
  },
  {
   "cell_type": "markdown",
   "id": "d913083a",
   "metadata": {},
   "source": [
    "# Conclusion"
   ]
  },
  {
   "cell_type": "markdown",
   "id": "73e9afcf",
   "metadata": {},
   "source": [
    "Dans le cadre de notre projet, le but étant de pouvoir prédire la consommation de CO2 mais aussi la consommation pour les immeubles afin de répondre à un critères de neutralité carbone d'ici 2050.\n",
    "\n",
    "Nous constatons que plusieurs modélisations ont lieu et que notre score maximale tourne autour de 0.86 après optimisation, ce qui nous permet d'indiquer que notre modèle présente un excellent niveau de prédiction des données. Notre optimisation du modèle sélectionné a permis une amélioration de ce dernier.\n",
    "\n",
    "Certaines variables ont un apport faible dans notre modélisation tandis que seuls quelques données ont un apport permettant l'amélioration de notre modèle.\n",
    "\n",
    "Sur les modèles testés, nous avons utilisé deux possibilités. A savoir, les modèles linéaires standards (régression linéaire par exemple) mais aussi les modèles ensemblistes (XGBoost par exemple). Ces derniers ont tendance à donner de meilleurs résultats pour notre problématique.\n",
    "\n",
    "Enfin, nous pouvons constater que certaines données ou informations sont absentes et auraient permis une amélioration de notre connaissance des immeubles mais aussi une amélioration de notre modèle tels que le niveau de rénovation des immeubles (date et nature des travaux) mais également des données liées à l'isolation des immeubles."
   ]
  },
  {
   "cell_type": "code",
   "execution_count": null,
   "id": "2c6b410b",
   "metadata": {},
   "outputs": [],
   "source": []
  },
  {
   "cell_type": "code",
   "execution_count": null,
   "id": "16ab1f2d",
   "metadata": {},
   "outputs": [],
   "source": []
  },
  {
   "cell_type": "code",
   "execution_count": null,
   "id": "5a7741a1",
   "metadata": {},
   "outputs": [],
   "source": []
  },
  {
   "cell_type": "code",
   "execution_count": null,
   "id": "b05ba19e",
   "metadata": {},
   "outputs": [],
   "source": []
  }
 ],
 "metadata": {
  "kernelspec": {
   "display_name": "Python 3 (ipykernel)",
   "language": "python",
   "name": "python3"
  },
  "language_info": {
   "codemirror_mode": {
    "name": "ipython",
    "version": 3
   },
   "file_extension": ".py",
   "mimetype": "text/x-python",
   "name": "python",
   "nbconvert_exporter": "python",
   "pygments_lexer": "ipython3",
   "version": "3.9.7"
  }
 },
 "nbformat": 4,
 "nbformat_minor": 5
}
